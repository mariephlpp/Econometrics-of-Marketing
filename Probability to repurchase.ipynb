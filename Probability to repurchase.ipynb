{
  "nbformat": 4,
  "nbformat_minor": 0,
  "metadata": {
    "colab": {
      "name": "ALCARAZ_PHILIPPE_SERRAZ_GROUPC_PROJECT2.ipynb",
      "provenance": [],
      "collapsed_sections": [
        "3_NPDuC3Qm-Y"
      ]
    },
    "kernelspec": {
      "display_name": "Python 3",
      "language": "python",
      "name": "python3"
    },
    "language_info": {
      "codemirror_mode": {
        "name": "ipython",
        "version": 3
      },
      "file_extension": ".py",
      "mimetype": "text/x-python",
      "name": "python",
      "nbconvert_exporter": "python",
      "pygments_lexer": "ipython3",
      "version": "3.7.1"
    }
  },
  "cells": [
    {
      "cell_type": "markdown",
      "metadata": {
        "id": "hcoztwnRXb3x"
      },
      "source": [
        "---\n",
        "# Econometrics of Marketing\n",
        "## Project 2: \n",
        "### MASTER 2 Eco Stat & D3S \n",
        "#### TSE\n",
        "#### 2021-2022\n",
        "---\n",
        "Group : Raquel ALCARAZ, Marie PHILIPPE,  & Claire SERRAZ  \n",
        "Group C\n"
      ]
    },
    {
      "cell_type": "markdown",
      "metadata": {
        "id": "DXWTScT3-qMA"
      },
      "source": [
        "# Libraries"
      ]
    },
    {
      "cell_type": "code",
      "metadata": {
        "colab": {
          "base_uri": "https://localhost:8080/"
        },
        "id": "gVxNuJlmm7v3",
        "outputId": "cf91a21a-b9d1-426f-ddf7-525d4f242eb2"
      },
      "source": [
        "!pip install catboost\n",
        "#!pip install xgboost"
      ],
      "execution_count": 575,
      "outputs": [
        {
          "output_type": "stream",
          "name": "stdout",
          "text": [
            "Requirement already satisfied: catboost in /usr/local/lib/python3.7/dist-packages (1.0.3)\n",
            "Requirement already satisfied: matplotlib in /usr/local/lib/python3.7/dist-packages (from catboost) (3.2.2)\n",
            "Requirement already satisfied: numpy>=1.16.0 in /usr/local/lib/python3.7/dist-packages (from catboost) (1.19.5)\n",
            "Requirement already satisfied: six in /usr/local/lib/python3.7/dist-packages (from catboost) (1.15.0)\n",
            "Requirement already satisfied: scipy in /usr/local/lib/python3.7/dist-packages (from catboost) (1.4.1)\n",
            "Requirement already satisfied: pandas>=0.24.0 in /usr/local/lib/python3.7/dist-packages (from catboost) (1.1.5)\n",
            "Requirement already satisfied: graphviz in /usr/local/lib/python3.7/dist-packages (from catboost) (0.10.1)\n",
            "Requirement already satisfied: plotly in /usr/local/lib/python3.7/dist-packages (from catboost) (4.4.1)\n",
            "Requirement already satisfied: python-dateutil>=2.7.3 in /usr/local/lib/python3.7/dist-packages (from pandas>=0.24.0->catboost) (2.8.2)\n",
            "Requirement already satisfied: pytz>=2017.2 in /usr/local/lib/python3.7/dist-packages (from pandas>=0.24.0->catboost) (2018.9)\n",
            "Requirement already satisfied: pyparsing!=2.0.4,!=2.1.2,!=2.1.6,>=2.0.1 in /usr/local/lib/python3.7/dist-packages (from matplotlib->catboost) (3.0.6)\n",
            "Requirement already satisfied: kiwisolver>=1.0.1 in /usr/local/lib/python3.7/dist-packages (from matplotlib->catboost) (1.3.2)\n",
            "Requirement already satisfied: cycler>=0.10 in /usr/local/lib/python3.7/dist-packages (from matplotlib->catboost) (0.11.0)\n",
            "Requirement already satisfied: retrying>=1.3.3 in /usr/local/lib/python3.7/dist-packages (from plotly->catboost) (1.3.3)\n"
          ]
        }
      ]
    },
    {
      "cell_type": "code",
      "metadata": {
        "id": "c7dXvJ-aXkp-"
      },
      "source": [
        "# Importation of the libraries\n",
        "\n",
        "import pandas as pd\n",
        "import seaborn as sns\n",
        "import matplotlib.pyplot as plt\n",
        "import numpy as np\n",
        "from datetime import datetime, timezone\n",
        "\n",
        "from sklearn.linear_model import LogisticRegression\n",
        "from sklearn.model_selection import GridSearchCV, train_test_split\n",
        "from xgboost import XGBClassifier\n",
        "from sklearn.ensemble import RandomForestClassifier\n",
        "from sklearn import tree, metrics\n",
        "from sklearn.neighbors import KNeighborsClassifier\n",
        "from sklearn.naive_bayes import GaussianNB\n",
        "from catboost import CatBoostClassifier\n",
        "from sklearn.ensemble import GradientBoostingClassifier"
      ],
      "execution_count": 576,
      "outputs": []
    },
    {
      "cell_type": "code",
      "metadata": {
        "id": "syjKkmRpNEK8"
      },
      "source": [
        "# Set size and style of the plots\n",
        "sns.set(rc={'figure.figsize':(12,8)})\n",
        "sns.set_style(\"whitegrid\")\n",
        "\n",
        "# Change the font and size of the text\n",
        "plt.rcParams[\"font.family\"] = \"Times New Roman\"\n",
        "plt.rc('font', size=14)          \n",
        "plt.rc('axes', titlesize=14)\n",
        "plt.rc('axes', labelsize=14)    \n",
        "plt.rc('xtick', labelsize=14) \n",
        "plt.rc('ytick', labelsize=14) \n",
        "\n",
        "# Change the text color\n",
        "plt.rcParams['text.color'] = \"black\" \n",
        "plt.rcParams['axes.labelcolor'] = \"black\"\n",
        "plt.rcParams['xtick.color'] = \"black\"\n",
        "plt.rcParams['ytick.color'] = \"black\""
      ],
      "execution_count": 577,
      "outputs": []
    },
    {
      "cell_type": "markdown",
      "metadata": {
        "id": "Xb-fjPnG-8ii"
      },
      "source": [
        "# Importation of the data"
      ]
    },
    {
      "cell_type": "code",
      "metadata": {
        "colab": {
          "base_uri": "https://localhost:8080/"
        },
        "id": "5JEkw6Q9yOmi",
        "outputId": "3c2d4ded-20ca-4ef7-94f5-ace03c8da81a"
      },
      "source": [
        "from google.colab import drive\n",
        "drive.mount('/content/drive')"
      ],
      "execution_count": 578,
      "outputs": [
        {
          "output_type": "stream",
          "name": "stdout",
          "text": [
            "Drive already mounted at /content/drive; to attempt to forcibly remount, call drive.mount(\"/content/drive\", force_remount=True).\n"
          ]
        }
      ]
    },
    {
      "cell_type": "code",
      "metadata": {
        "id": "cDRLjsT9m7v-"
      },
      "source": [
        "import os\n",
        "os.chdir(\"/content/drive/MyDrive/M2/Marketing/\")"
      ],
      "execution_count": 579,
      "outputs": []
    },
    {
      "cell_type": "code",
      "metadata": {
        "id": "CudvoLo6nP-j"
      },
      "source": [
        "# Path for the data\n",
        "path_data=\"/content/drive/MyDrive/M2/Marketing/\"\n",
        "\n",
        "# Path for the submissions\n",
        "path_sub=\"/content/drive/MyDrive/M2/Marketing/Submission/\""
      ],
      "execution_count": 580,
      "outputs": []
    },
    {
      "cell_type": "code",
      "metadata": {
        "colab": {
          "base_uri": "https://localhost:8080/"
        },
        "id": "_mgjwYteYS5n",
        "outputId": "e9cb1c2a-d1ff-42ee-ff69-59fc1cd4e985"
      },
      "source": [
        "# Loading the data\n",
        "\n",
        "TRAIN = pd.read_csv(path_data+\"Train_transactions.csv\")\n",
        "TEST = pd.read_csv(path_data+\"Test_transactions.csv\")\n",
        "TRAIN_customers = pd.read_csv(path_data+\"Train_customers_repurchase.csv\")"
      ],
      "execution_count": 581,
      "outputs": [
        {
          "output_type": "stream",
          "name": "stderr",
          "text": [
            "/usr/local/lib/python3.7/dist-packages/IPython/core/interactiveshell.py:2718: DtypeWarning: Columns (13) have mixed types.Specify dtype option on import or set low_memory=False.\n",
            "  interactivity=interactivity, compiler=compiler, result=result)\n"
          ]
        }
      ]
    },
    {
      "cell_type": "code",
      "metadata": {
        "id": "qxqLBjaj_QaE"
      },
      "source": [
        "# Dataframes copies of the data are created before changes are made\n",
        "\n",
        "TRAIN_copy = TRAIN.copy()\n",
        "TEST_copy=TEST.copy()\n",
        "TRAIN_customers_copy=TRAIN_customers.copy()"
      ],
      "execution_count": 582,
      "outputs": []
    },
    {
      "cell_type": "code",
      "metadata": {
        "colab": {
          "base_uri": "https://localhost:8080/"
        },
        "id": "_qk5lUNya1qG",
        "outputId": "4f881963-dd83-455e-fdcd-6ef882d93047"
      },
      "source": [
        "TRAIN.head(5)\n",
        "TRAIN.shape"
      ],
      "execution_count": 583,
      "outputs": [
        {
          "output_type": "execute_result",
          "data": {
            "text/plain": [
              "(3298736, 17)"
            ]
          },
          "metadata": {},
          "execution_count": 583
        }
      ]
    },
    {
      "cell_type": "code",
      "metadata": {
        "colab": {
          "base_uri": "https://localhost:8080/"
        },
        "id": "-VvbyveOa4TP",
        "outputId": "555dd5db-589f-403c-ec2a-1191f30eeedf"
      },
      "source": [
        "TEST.head(5)\n",
        "TEST.shape"
      ],
      "execution_count": 584,
      "outputs": [
        {
          "output_type": "execute_result",
          "data": {
            "text/plain": [
              "(824282, 17)"
            ]
          },
          "metadata": {},
          "execution_count": 584
        }
      ]
    },
    {
      "cell_type": "code",
      "metadata": {
        "colab": {
          "base_uri": "https://localhost:8080/"
        },
        "id": "FWRkJJHQa9kX",
        "outputId": "849675a5-d596-4cac-fd16-296106539c24"
      },
      "source": [
        "TRAIN_customers.head(5)\n",
        "TRAIN_customers.shape"
      ],
      "execution_count": 585,
      "outputs": [
        {
          "output_type": "execute_result",
          "data": {
            "text/plain": [
              "(160424, 2)"
            ]
          },
          "metadata": {},
          "execution_count": 585
        }
      ]
    },
    {
      "cell_type": "code",
      "metadata": {
        "id": "37jby0dYdmyd"
      },
      "source": [
        "# We create a variable Group to know if the observations are in the train or test data set\n",
        "TRAIN[\"Group\"]=\"TRAIN\"\n",
        "TEST[\"Group\"]=\"TEST\""
      ],
      "execution_count": 586,
      "outputs": []
    },
    {
      "cell_type": "code",
      "metadata": {
        "colab": {
          "base_uri": "https://localhost:8080/"
        },
        "id": "DHpTggE2cf37",
        "outputId": "4bc53d71-e0d0-4d4f-875d-afb0220f658b"
      },
      "source": [
        "TRAIN_customers.shape"
      ],
      "execution_count": 587,
      "outputs": [
        {
          "output_type": "execute_result",
          "data": {
            "text/plain": [
              "(160424, 2)"
            ]
          },
          "metadata": {},
          "execution_count": 587
        }
      ]
    },
    {
      "cell_type": "code",
      "metadata": {
        "id": "WUYZX2YHe5yO"
      },
      "source": [
        "# We merge the train et test dataset\n",
        "df=pd.concat([TRAIN, TEST], axis = \"rows\")"
      ],
      "execution_count": 588,
      "outputs": []
    },
    {
      "cell_type": "code",
      "metadata": {
        "colab": {
          "base_uri": "https://localhost:8080/"
        },
        "id": "QoCpdJFQfIds",
        "outputId": "92ce0c67-62dd-470c-ea89-614d28b07d81"
      },
      "source": [
        "df['Group'].astype(str).value_counts(normalize=True)*100"
      ],
      "execution_count": 589,
      "outputs": [
        {
          "output_type": "execute_result",
          "data": {
            "text/plain": [
              "TRAIN    80.0078\n",
              "TEST     19.9922\n",
              "Name: Group, dtype: float64"
            ]
          },
          "metadata": {},
          "execution_count": 589
        }
      ]
    },
    {
      "cell_type": "code",
      "metadata": {
        "colab": {
          "base_uri": "https://localhost:8080/",
          "height": 309
        },
        "id": "yU_IxexRfkXm",
        "outputId": "cd27cd0a-142a-4fa1-b956-98428eacc2dc"
      },
      "source": [
        "# We check the first two observations\n",
        "df.head(5)"
      ],
      "execution_count": 590,
      "outputs": [
        {
          "output_type": "execute_result",
          "data": {
            "text/html": [
              "<div>\n",
              "<style scoped>\n",
              "    .dataframe tbody tr th:only-of-type {\n",
              "        vertical-align: middle;\n",
              "    }\n",
              "\n",
              "    .dataframe tbody tr th {\n",
              "        vertical-align: top;\n",
              "    }\n",
              "\n",
              "    .dataframe thead th {\n",
              "        text-align: right;\n",
              "    }\n",
              "</style>\n",
              "<table border=\"1\" class=\"dataframe\">\n",
              "  <thead>\n",
              "    <tr style=\"text-align: right;\">\n",
              "      <th></th>\n",
              "      <th>id_client</th>\n",
              "      <th>transaction_date</th>\n",
              "      <th>stores_nb</th>\n",
              "      <th>item_count</th>\n",
              "      <th>gross_amount</th>\n",
              "      <th>discount_amount</th>\n",
              "      <th>basket_value</th>\n",
              "      <th>payment_gift</th>\n",
              "      <th>payment_cheque</th>\n",
              "      <th>payment_cash</th>\n",
              "      <th>payment_card</th>\n",
              "      <th>email_domain</th>\n",
              "      <th>civility</th>\n",
              "      <th>zip_code</th>\n",
              "      <th>card_subscription</th>\n",
              "      <th>multicard</th>\n",
              "      <th>price_segmentation</th>\n",
              "      <th>Group</th>\n",
              "    </tr>\n",
              "  </thead>\n",
              "  <tbody>\n",
              "    <tr>\n",
              "      <th>0</th>\n",
              "      <td>37520523</td>\n",
              "      <td>2019-12-26T16:44:00.000Z</td>\n",
              "      <td>12015</td>\n",
              "      <td>57</td>\n",
              "      <td>138.69</td>\n",
              "      <td>0.49</td>\n",
              "      <td>138.20</td>\n",
              "      <td>0</td>\n",
              "      <td>0</td>\n",
              "      <td>1</td>\n",
              "      <td>0</td>\n",
              "      <td>NaN</td>\n",
              "      <td>MME</td>\n",
              "      <td>12420</td>\n",
              "      <td>NaN</td>\n",
              "      <td>0.0</td>\n",
              "      <td>NaN</td>\n",
              "      <td>TRAIN</td>\n",
              "    </tr>\n",
              "    <tr>\n",
              "      <th>1</th>\n",
              "      <td>84917629</td>\n",
              "      <td>2019-08-01T12:16:00.000Z</td>\n",
              "      <td>77131</td>\n",
              "      <td>6</td>\n",
              "      <td>9.87</td>\n",
              "      <td>0.00</td>\n",
              "      <td>9.87</td>\n",
              "      <td>0</td>\n",
              "      <td>0</td>\n",
              "      <td>1</td>\n",
              "      <td>0</td>\n",
              "      <td>NaN</td>\n",
              "      <td>MME</td>\n",
              "      <td>77450</td>\n",
              "      <td>NaN</td>\n",
              "      <td>0.0</td>\n",
              "      <td>NaN</td>\n",
              "      <td>TRAIN</td>\n",
              "    </tr>\n",
              "    <tr>\n",
              "      <th>2</th>\n",
              "      <td>20962900</td>\n",
              "      <td>2019-09-25T18:10:00.000Z</td>\n",
              "      <td>92786</td>\n",
              "      <td>6</td>\n",
              "      <td>26.25</td>\n",
              "      <td>2.21</td>\n",
              "      <td>24.04</td>\n",
              "      <td>0</td>\n",
              "      <td>0</td>\n",
              "      <td>0</td>\n",
              "      <td>1</td>\n",
              "      <td>GMAIL.COM</td>\n",
              "      <td>MME</td>\n",
              "      <td>92110</td>\n",
              "      <td>NaN</td>\n",
              "      <td>0.0</td>\n",
              "      <td>Quali</td>\n",
              "      <td>TRAIN</td>\n",
              "    </tr>\n",
              "    <tr>\n",
              "      <th>3</th>\n",
              "      <td>85917543</td>\n",
              "      <td>2020-01-24T17:34:00.000Z</td>\n",
              "      <td>21554</td>\n",
              "      <td>5</td>\n",
              "      <td>15.08</td>\n",
              "      <td>0.00</td>\n",
              "      <td>15.08</td>\n",
              "      <td>0</td>\n",
              "      <td>0</td>\n",
              "      <td>0</td>\n",
              "      <td>1</td>\n",
              "      <td>SFR.FR</td>\n",
              "      <td>M</td>\n",
              "      <td>21130</td>\n",
              "      <td>NaN</td>\n",
              "      <td>0.0</td>\n",
              "      <td>Mixte</td>\n",
              "      <td>TRAIN</td>\n",
              "    </tr>\n",
              "    <tr>\n",
              "      <th>4</th>\n",
              "      <td>6861392</td>\n",
              "      <td>2019-08-22T19:28:00.000Z</td>\n",
              "      <td>83820</td>\n",
              "      <td>25</td>\n",
              "      <td>81.16</td>\n",
              "      <td>30.60</td>\n",
              "      <td>50.56</td>\n",
              "      <td>0</td>\n",
              "      <td>0</td>\n",
              "      <td>0</td>\n",
              "      <td>1</td>\n",
              "      <td>ORANGE.FR</td>\n",
              "      <td>MME</td>\n",
              "      <td>83600</td>\n",
              "      <td>NaN</td>\n",
              "      <td>0.0</td>\n",
              "      <td>Mixte</td>\n",
              "      <td>TRAIN</td>\n",
              "    </tr>\n",
              "  </tbody>\n",
              "</table>\n",
              "</div>"
            ],
            "text/plain": [
              "   id_client          transaction_date  ...  price_segmentation  Group\n",
              "0   37520523  2019-12-26T16:44:00.000Z  ...                 NaN  TRAIN\n",
              "1   84917629  2019-08-01T12:16:00.000Z  ...                 NaN  TRAIN\n",
              "2   20962900  2019-09-25T18:10:00.000Z  ...               Quali  TRAIN\n",
              "3   85917543  2020-01-24T17:34:00.000Z  ...               Mixte  TRAIN\n",
              "4    6861392  2019-08-22T19:28:00.000Z  ...               Mixte  TRAIN\n",
              "\n",
              "[5 rows x 18 columns]"
            ]
          },
          "metadata": {},
          "execution_count": 590
        }
      ]
    },
    {
      "cell_type": "code",
      "metadata": {
        "colab": {
          "base_uri": "https://localhost:8080/"
        },
        "id": "JhhVLlhOfoPa",
        "outputId": "49622831-c5b4-46a6-b21d-0ece4cd3fc68"
      },
      "source": [
        "# We compare the len of the new data frame with the sum of the lens of the train \n",
        "# and test data frames. We see that it corresponds.\n",
        "df.shape"
      ],
      "execution_count": 591,
      "outputs": [
        {
          "output_type": "execute_result",
          "data": {
            "text/plain": [
              "(4123018, 18)"
            ]
          },
          "metadata": {},
          "execution_count": 591
        }
      ]
    },
    {
      "cell_type": "code",
      "metadata": {
        "colab": {
          "base_uri": "https://localhost:8080/"
        },
        "id": "8EReFEkYfrTg",
        "outputId": "496a02ba-7384-497c-e1de-597d9f9e250e"
      },
      "source": [
        "len(TRAIN)+len(TEST)"
      ],
      "execution_count": 592,
      "outputs": [
        {
          "output_type": "execute_result",
          "data": {
            "text/plain": [
              "4123018"
            ]
          },
          "metadata": {},
          "execution_count": 592
        }
      ]
    },
    {
      "cell_type": "markdown",
      "metadata": {
        "id": "iNSsZulNBkqU"
      },
      "source": [
        "# Understanding of the data"
      ]
    },
    {
      "cell_type": "code",
      "metadata": {
        "colab": {
          "base_uri": "https://localhost:8080/"
        },
        "id": "OI6CatTCAFX2",
        "outputId": "ffb4f1d8-6c03-4f7f-fc04-56d33de1f140"
      },
      "source": [
        "# We count the numbers of NaN in each variables\n",
        "df.isna().sum()"
      ],
      "execution_count": 593,
      "outputs": [
        {
          "output_type": "execute_result",
          "data": {
            "text/plain": [
              "id_client                   0\n",
              "transaction_date            0\n",
              "stores_nb                   0\n",
              "item_count                  0\n",
              "gross_amount                0\n",
              "discount_amount             0\n",
              "basket_value                0\n",
              "payment_gift                0\n",
              "payment_cheque              0\n",
              "payment_cash                0\n",
              "payment_card                0\n",
              "email_domain          1601319\n",
              "civility                 7622\n",
              "zip_code               378688\n",
              "card_subscription     3853064\n",
              "multicard                7622\n",
              "price_segmentation    1951475\n",
              "Group                       0\n",
              "dtype: int64"
            ]
          },
          "metadata": {},
          "execution_count": 593
        }
      ]
    },
    {
      "cell_type": "code",
      "metadata": {
        "colab": {
          "base_uri": "https://localhost:8080/",
          "height": 357
        },
        "id": "3nlbKWUicdhq",
        "outputId": "9abc7566-8f01-4d34-b648-23ee2eb71f44"
      },
      "source": [
        "# We look at a particular client to understand it better\n",
        "customer_37337120 = df[df.id_client == 37337120]\n",
        "\n",
        "# Sorting the values by the date of purchase \n",
        "# Displaying only the 10 first rows of the data frame\n",
        "customer_37337120.sort_values(\"transaction_date\").head(30)"
      ],
      "execution_count": 594,
      "outputs": [
        {
          "output_type": "execute_result",
          "data": {
            "text/html": [
              "<div>\n",
              "<style scoped>\n",
              "    .dataframe tbody tr th:only-of-type {\n",
              "        vertical-align: middle;\n",
              "    }\n",
              "\n",
              "    .dataframe tbody tr th {\n",
              "        vertical-align: top;\n",
              "    }\n",
              "\n",
              "    .dataframe thead th {\n",
              "        text-align: right;\n",
              "    }\n",
              "</style>\n",
              "<table border=\"1\" class=\"dataframe\">\n",
              "  <thead>\n",
              "    <tr style=\"text-align: right;\">\n",
              "      <th></th>\n",
              "      <th>id_client</th>\n",
              "      <th>transaction_date</th>\n",
              "      <th>stores_nb</th>\n",
              "      <th>item_count</th>\n",
              "      <th>gross_amount</th>\n",
              "      <th>discount_amount</th>\n",
              "      <th>basket_value</th>\n",
              "      <th>payment_gift</th>\n",
              "      <th>payment_cheque</th>\n",
              "      <th>payment_cash</th>\n",
              "      <th>payment_card</th>\n",
              "      <th>email_domain</th>\n",
              "      <th>civility</th>\n",
              "      <th>zip_code</th>\n",
              "      <th>card_subscription</th>\n",
              "      <th>multicard</th>\n",
              "      <th>price_segmentation</th>\n",
              "      <th>Group</th>\n",
              "    </tr>\n",
              "  </thead>\n",
              "  <tbody>\n",
              "    <tr>\n",
              "      <th>1718271</th>\n",
              "      <td>37337120</td>\n",
              "      <td>2019-11-12T16:11:00.000Z</td>\n",
              "      <td>13599</td>\n",
              "      <td>1</td>\n",
              "      <td>0.19</td>\n",
              "      <td>0.00</td>\n",
              "      <td>0.19</td>\n",
              "      <td>0</td>\n",
              "      <td>0</td>\n",
              "      <td>0</td>\n",
              "      <td>0</td>\n",
              "      <td>LAPSOTE.NET</td>\n",
              "      <td>NR</td>\n",
              "      <td>NaN</td>\n",
              "      <td>NaN</td>\n",
              "      <td>0.0</td>\n",
              "      <td>Access</td>\n",
              "      <td>TRAIN</td>\n",
              "    </tr>\n",
              "    <tr>\n",
              "      <th>16</th>\n",
              "      <td>37337120</td>\n",
              "      <td>2019-11-19T15:01:00.000Z</td>\n",
              "      <td>13539</td>\n",
              "      <td>2</td>\n",
              "      <td>15.98</td>\n",
              "      <td>0.00</td>\n",
              "      <td>15.98</td>\n",
              "      <td>0</td>\n",
              "      <td>0</td>\n",
              "      <td>0</td>\n",
              "      <td>0</td>\n",
              "      <td>LAPSOTE.NET</td>\n",
              "      <td>NR</td>\n",
              "      <td>NaN</td>\n",
              "      <td>NaN</td>\n",
              "      <td>0.0</td>\n",
              "      <td>Access</td>\n",
              "      <td>TRAIN</td>\n",
              "    </tr>\n",
              "    <tr>\n",
              "      <th>2738690</th>\n",
              "      <td>37337120</td>\n",
              "      <td>2019-11-22T17:11:00.000Z</td>\n",
              "      <td>13840</td>\n",
              "      <td>1</td>\n",
              "      <td>0.18</td>\n",
              "      <td>0.00</td>\n",
              "      <td>0.18</td>\n",
              "      <td>0</td>\n",
              "      <td>0</td>\n",
              "      <td>0</td>\n",
              "      <td>0</td>\n",
              "      <td>LAPSOTE.NET</td>\n",
              "      <td>NR</td>\n",
              "      <td>NaN</td>\n",
              "      <td>NaN</td>\n",
              "      <td>0.0</td>\n",
              "      <td>Access</td>\n",
              "      <td>TRAIN</td>\n",
              "    </tr>\n",
              "    <tr>\n",
              "      <th>2896804</th>\n",
              "      <td>37337120</td>\n",
              "      <td>2020-01-04T16:47:00.000Z</td>\n",
              "      <td>13599</td>\n",
              "      <td>10</td>\n",
              "      <td>2.80</td>\n",
              "      <td>0.95</td>\n",
              "      <td>1.85</td>\n",
              "      <td>0</td>\n",
              "      <td>0</td>\n",
              "      <td>0</td>\n",
              "      <td>0</td>\n",
              "      <td>LAPSOTE.NET</td>\n",
              "      <td>NR</td>\n",
              "      <td>NaN</td>\n",
              "      <td>NaN</td>\n",
              "      <td>0.0</td>\n",
              "      <td>Access</td>\n",
              "      <td>TRAIN</td>\n",
              "    </tr>\n",
              "    <tr>\n",
              "      <th>3283349</th>\n",
              "      <td>37337120</td>\n",
              "      <td>2020-01-10T16:06:00.000Z</td>\n",
              "      <td>13599</td>\n",
              "      <td>1</td>\n",
              "      <td>0.19</td>\n",
              "      <td>0.00</td>\n",
              "      <td>0.19</td>\n",
              "      <td>0</td>\n",
              "      <td>0</td>\n",
              "      <td>0</td>\n",
              "      <td>0</td>\n",
              "      <td>LAPSOTE.NET</td>\n",
              "      <td>NR</td>\n",
              "      <td>NaN</td>\n",
              "      <td>NaN</td>\n",
              "      <td>0.0</td>\n",
              "      <td>Access</td>\n",
              "      <td>TRAIN</td>\n",
              "    </tr>\n",
              "    <tr>\n",
              "      <th>1400354</th>\n",
              "      <td>37337120</td>\n",
              "      <td>2020-01-10T16:07:00.000Z</td>\n",
              "      <td>13599</td>\n",
              "      <td>1</td>\n",
              "      <td>0.19</td>\n",
              "      <td>0.00</td>\n",
              "      <td>0.19</td>\n",
              "      <td>0</td>\n",
              "      <td>0</td>\n",
              "      <td>0</td>\n",
              "      <td>0</td>\n",
              "      <td>LAPSOTE.NET</td>\n",
              "      <td>NR</td>\n",
              "      <td>NaN</td>\n",
              "      <td>NaN</td>\n",
              "      <td>0.0</td>\n",
              "      <td>Access</td>\n",
              "      <td>TRAIN</td>\n",
              "    </tr>\n",
              "  </tbody>\n",
              "</table>\n",
              "</div>"
            ],
            "text/plain": [
              "         id_client          transaction_date  ...  price_segmentation  Group\n",
              "1718271   37337120  2019-11-12T16:11:00.000Z  ...              Access  TRAIN\n",
              "16        37337120  2019-11-19T15:01:00.000Z  ...              Access  TRAIN\n",
              "2738690   37337120  2019-11-22T17:11:00.000Z  ...              Access  TRAIN\n",
              "2896804   37337120  2020-01-04T16:47:00.000Z  ...              Access  TRAIN\n",
              "3283349   37337120  2020-01-10T16:06:00.000Z  ...              Access  TRAIN\n",
              "1400354   37337120  2020-01-10T16:07:00.000Z  ...              Access  TRAIN\n",
              "\n",
              "[6 rows x 18 columns]"
            ]
          },
          "metadata": {},
          "execution_count": 594
        }
      ]
    },
    {
      "cell_type": "code",
      "metadata": {
        "colab": {
          "base_uri": "https://localhost:8080/"
        },
        "id": "FzuTOA_WgGv8",
        "outputId": "d3e96667-1208-468a-f1cf-a6903959e925"
      },
      "source": [
        "# We look at the types for each variable\n",
        "df.dtypes"
      ],
      "execution_count": 595,
      "outputs": [
        {
          "output_type": "execute_result",
          "data": {
            "text/plain": [
              "id_client               int64\n",
              "transaction_date       object\n",
              "stores_nb               int64\n",
              "item_count              int64\n",
              "gross_amount          float64\n",
              "discount_amount       float64\n",
              "basket_value          float64\n",
              "payment_gift            int64\n",
              "payment_cheque          int64\n",
              "payment_cash            int64\n",
              "payment_card            int64\n",
              "email_domain           object\n",
              "civility               object\n",
              "zip_code               object\n",
              "card_subscription      object\n",
              "multicard             float64\n",
              "price_segmentation     object\n",
              "Group                  object\n",
              "dtype: object"
            ]
          },
          "metadata": {},
          "execution_count": 595
        }
      ]
    },
    {
      "cell_type": "markdown",
      "metadata": {
        "id": "AGipkgEWLc8Y"
      },
      "source": [
        "## Summary statistics"
      ]
    },
    {
      "cell_type": "code",
      "metadata": {
        "colab": {
          "base_uri": "https://localhost:8080/",
          "height": 427
        },
        "id": "vv4TZCiNhJ-k",
        "outputId": "ec01422e-a964-478f-b3d7-29e87abe1f88"
      },
      "source": [
        "df.describe(include='all')"
      ],
      "execution_count": 596,
      "outputs": [
        {
          "output_type": "execute_result",
          "data": {
            "text/html": [
              "<div>\n",
              "<style scoped>\n",
              "    .dataframe tbody tr th:only-of-type {\n",
              "        vertical-align: middle;\n",
              "    }\n",
              "\n",
              "    .dataframe tbody tr th {\n",
              "        vertical-align: top;\n",
              "    }\n",
              "\n",
              "    .dataframe thead th {\n",
              "        text-align: right;\n",
              "    }\n",
              "</style>\n",
              "<table border=\"1\" class=\"dataframe\">\n",
              "  <thead>\n",
              "    <tr style=\"text-align: right;\">\n",
              "      <th></th>\n",
              "      <th>id_client</th>\n",
              "      <th>transaction_date</th>\n",
              "      <th>stores_nb</th>\n",
              "      <th>item_count</th>\n",
              "      <th>gross_amount</th>\n",
              "      <th>discount_amount</th>\n",
              "      <th>basket_value</th>\n",
              "      <th>payment_gift</th>\n",
              "      <th>payment_cheque</th>\n",
              "      <th>payment_cash</th>\n",
              "      <th>payment_card</th>\n",
              "      <th>email_domain</th>\n",
              "      <th>civility</th>\n",
              "      <th>zip_code</th>\n",
              "      <th>card_subscription</th>\n",
              "      <th>multicard</th>\n",
              "      <th>price_segmentation</th>\n",
              "      <th>Group</th>\n",
              "    </tr>\n",
              "  </thead>\n",
              "  <tbody>\n",
              "    <tr>\n",
              "      <th>count</th>\n",
              "      <td>4.123018e+06</td>\n",
              "      <td>4123018</td>\n",
              "      <td>4.123018e+06</td>\n",
              "      <td>4.123018e+06</td>\n",
              "      <td>4.123018e+06</td>\n",
              "      <td>4.123018e+06</td>\n",
              "      <td>4.123018e+06</td>\n",
              "      <td>4.123018e+06</td>\n",
              "      <td>4.123018e+06</td>\n",
              "      <td>4.123018e+06</td>\n",
              "      <td>4.123018e+06</td>\n",
              "      <td>2521699</td>\n",
              "      <td>4115396</td>\n",
              "      <td>3744330</td>\n",
              "      <td>269954</td>\n",
              "      <td>4.115396e+06</td>\n",
              "      <td>2171543</td>\n",
              "      <td>4123018</td>\n",
              "    </tr>\n",
              "    <tr>\n",
              "      <th>unique</th>\n",
              "      <td>NaN</td>\n",
              "      <td>291993</td>\n",
              "      <td>NaN</td>\n",
              "      <td>NaN</td>\n",
              "      <td>NaN</td>\n",
              "      <td>NaN</td>\n",
              "      <td>NaN</td>\n",
              "      <td>NaN</td>\n",
              "      <td>NaN</td>\n",
              "      <td>NaN</td>\n",
              "      <td>NaN</td>\n",
              "      <td>2947</td>\n",
              "      <td>3</td>\n",
              "      <td>8515</td>\n",
              "      <td>2302</td>\n",
              "      <td>NaN</td>\n",
              "      <td>5</td>\n",
              "      <td>2</td>\n",
              "    </tr>\n",
              "    <tr>\n",
              "      <th>top</th>\n",
              "      <td>NaN</td>\n",
              "      <td>2019-12-24T11:22:00.000Z</td>\n",
              "      <td>NaN</td>\n",
              "      <td>NaN</td>\n",
              "      <td>NaN</td>\n",
              "      <td>NaN</td>\n",
              "      <td>NaN</td>\n",
              "      <td>NaN</td>\n",
              "      <td>NaN</td>\n",
              "      <td>NaN</td>\n",
              "      <td>NaN</td>\n",
              "      <td>GMAIL.COM</td>\n",
              "      <td>MME</td>\n",
              "      <td>13013</td>\n",
              "      <td>01/01/2016</td>\n",
              "      <td>NaN</td>\n",
              "      <td>Mixte</td>\n",
              "      <td>TRAIN</td>\n",
              "    </tr>\n",
              "    <tr>\n",
              "      <th>freq</th>\n",
              "      <td>NaN</td>\n",
              "      <td>63</td>\n",
              "      <td>NaN</td>\n",
              "      <td>NaN</td>\n",
              "      <td>NaN</td>\n",
              "      <td>NaN</td>\n",
              "      <td>NaN</td>\n",
              "      <td>NaN</td>\n",
              "      <td>NaN</td>\n",
              "      <td>NaN</td>\n",
              "      <td>NaN</td>\n",
              "      <td>643599</td>\n",
              "      <td>2624619</td>\n",
              "      <td>32969</td>\n",
              "      <td>12649</td>\n",
              "      <td>NaN</td>\n",
              "      <td>1219148</td>\n",
              "      <td>3298736</td>\n",
              "    </tr>\n",
              "    <tr>\n",
              "      <th>mean</th>\n",
              "      <td>3.528573e+07</td>\n",
              "      <td>NaN</td>\n",
              "      <td>4.466897e+04</td>\n",
              "      <td>1.597219e+01</td>\n",
              "      <td>5.055393e+01</td>\n",
              "      <td>3.494612e+00</td>\n",
              "      <td>4.705932e+01</td>\n",
              "      <td>6.921241e-02</td>\n",
              "      <td>3.340005e-02</td>\n",
              "      <td>2.273553e-01</td>\n",
              "      <td>6.788425e-01</td>\n",
              "      <td>NaN</td>\n",
              "      <td>NaN</td>\n",
              "      <td>NaN</td>\n",
              "      <td>NaN</td>\n",
              "      <td>6.287852e-02</td>\n",
              "      <td>NaN</td>\n",
              "      <td>NaN</td>\n",
              "    </tr>\n",
              "    <tr>\n",
              "      <th>std</th>\n",
              "      <td>2.816511e+07</td>\n",
              "      <td>NaN</td>\n",
              "      <td>2.840495e+04</td>\n",
              "      <td>1.739582e+01</td>\n",
              "      <td>6.272378e+01</td>\n",
              "      <td>1.073524e+01</td>\n",
              "      <td>5.650075e+01</td>\n",
              "      <td>2.538150e-01</td>\n",
              "      <td>1.796789e-01</td>\n",
              "      <td>4.191240e-01</td>\n",
              "      <td>4.669212e-01</td>\n",
              "      <td>NaN</td>\n",
              "      <td>NaN</td>\n",
              "      <td>NaN</td>\n",
              "      <td>NaN</td>\n",
              "      <td>2.518239e-01</td>\n",
              "      <td>NaN</td>\n",
              "      <td>NaN</td>\n",
              "    </tr>\n",
              "    <tr>\n",
              "      <th>min</th>\n",
              "      <td>2.910000e+02</td>\n",
              "      <td>NaN</td>\n",
              "      <td>1.238000e+03</td>\n",
              "      <td>-2.880000e+02</td>\n",
              "      <td>-2.602980e+03</td>\n",
              "      <td>-1.131970e+03</td>\n",
              "      <td>-2.342680e+03</td>\n",
              "      <td>0.000000e+00</td>\n",
              "      <td>0.000000e+00</td>\n",
              "      <td>0.000000e+00</td>\n",
              "      <td>0.000000e+00</td>\n",
              "      <td>NaN</td>\n",
              "      <td>NaN</td>\n",
              "      <td>NaN</td>\n",
              "      <td>NaN</td>\n",
              "      <td>0.000000e+00</td>\n",
              "      <td>NaN</td>\n",
              "      <td>NaN</td>\n",
              "    </tr>\n",
              "    <tr>\n",
              "      <th>25%</th>\n",
              "      <td>1.171123e+07</td>\n",
              "      <td>NaN</td>\n",
              "      <td>2.000100e+04</td>\n",
              "      <td>5.000000e+00</td>\n",
              "      <td>1.324000e+01</td>\n",
              "      <td>0.000000e+00</td>\n",
              "      <td>1.292000e+01</td>\n",
              "      <td>0.000000e+00</td>\n",
              "      <td>0.000000e+00</td>\n",
              "      <td>0.000000e+00</td>\n",
              "      <td>0.000000e+00</td>\n",
              "      <td>NaN</td>\n",
              "      <td>NaN</td>\n",
              "      <td>NaN</td>\n",
              "      <td>NaN</td>\n",
              "      <td>0.000000e+00</td>\n",
              "      <td>NaN</td>\n",
              "      <td>NaN</td>\n",
              "    </tr>\n",
              "    <tr>\n",
              "      <th>50%</th>\n",
              "      <td>3.166619e+07</td>\n",
              "      <td>NaN</td>\n",
              "      <td>3.820600e+04</td>\n",
              "      <td>1.000000e+01</td>\n",
              "      <td>3.022000e+01</td>\n",
              "      <td>0.000000e+00</td>\n",
              "      <td>2.918000e+01</td>\n",
              "      <td>0.000000e+00</td>\n",
              "      <td>0.000000e+00</td>\n",
              "      <td>0.000000e+00</td>\n",
              "      <td>1.000000e+00</td>\n",
              "      <td>NaN</td>\n",
              "      <td>NaN</td>\n",
              "      <td>NaN</td>\n",
              "      <td>NaN</td>\n",
              "      <td>0.000000e+00</td>\n",
              "      <td>NaN</td>\n",
              "      <td>NaN</td>\n",
              "    </tr>\n",
              "    <tr>\n",
              "      <th>75%</th>\n",
              "      <td>3.850206e+07</td>\n",
              "      <td>NaN</td>\n",
              "      <td>7.334200e+04</td>\n",
              "      <td>2.100000e+01</td>\n",
              "      <td>6.774000e+01</td>\n",
              "      <td>2.240000e+00</td>\n",
              "      <td>6.219000e+01</td>\n",
              "      <td>0.000000e+00</td>\n",
              "      <td>0.000000e+00</td>\n",
              "      <td>0.000000e+00</td>\n",
              "      <td>1.000000e+00</td>\n",
              "      <td>NaN</td>\n",
              "      <td>NaN</td>\n",
              "      <td>NaN</td>\n",
              "      <td>NaN</td>\n",
              "      <td>0.000000e+00</td>\n",
              "      <td>NaN</td>\n",
              "      <td>NaN</td>\n",
              "    </tr>\n",
              "    <tr>\n",
              "      <th>max</th>\n",
              "      <td>8.801040e+07</td>\n",
              "      <td>NaN</td>\n",
              "      <td>9.963400e+04</td>\n",
              "      <td>3.600000e+03</td>\n",
              "      <td>2.306485e+04</td>\n",
              "      <td>3.087360e+03</td>\n",
              "      <td>2.022748e+04</td>\n",
              "      <td>1.000000e+00</td>\n",
              "      <td>1.000000e+00</td>\n",
              "      <td>1.000000e+00</td>\n",
              "      <td>1.000000e+00</td>\n",
              "      <td>NaN</td>\n",
              "      <td>NaN</td>\n",
              "      <td>NaN</td>\n",
              "      <td>NaN</td>\n",
              "      <td>2.100000e+01</td>\n",
              "      <td>NaN</td>\n",
              "      <td>NaN</td>\n",
              "    </tr>\n",
              "  </tbody>\n",
              "</table>\n",
              "</div>"
            ],
            "text/plain": [
              "           id_client          transaction_date  ...  price_segmentation    Group\n",
              "count   4.123018e+06                   4123018  ...             2171543  4123018\n",
              "unique           NaN                    291993  ...                   5        2\n",
              "top              NaN  2019-12-24T11:22:00.000Z  ...               Mixte    TRAIN\n",
              "freq             NaN                        63  ...             1219148  3298736\n",
              "mean    3.528573e+07                       NaN  ...                 NaN      NaN\n",
              "std     2.816511e+07                       NaN  ...                 NaN      NaN\n",
              "min     2.910000e+02                       NaN  ...                 NaN      NaN\n",
              "25%     1.171123e+07                       NaN  ...                 NaN      NaN\n",
              "50%     3.166619e+07                       NaN  ...                 NaN      NaN\n",
              "75%     3.850206e+07                       NaN  ...                 NaN      NaN\n",
              "max     8.801040e+07                       NaN  ...                 NaN      NaN\n",
              "\n",
              "[11 rows x 18 columns]"
            ]
          },
          "metadata": {},
          "execution_count": 596
        }
      ]
    },
    {
      "cell_type": "markdown",
      "metadata": {
        "id": "h1f8hEszSJ2v"
      },
      "source": [
        "* transaction_date"
      ]
    },
    {
      "cell_type": "code",
      "metadata": {
        "colab": {
          "base_uri": "https://localhost:8080/"
        },
        "id": "NPRbP5zqPEqm",
        "outputId": "dce30d2b-0bda-4c7f-eba6-d6a2072090f4"
      },
      "source": [
        "# Min and max dates\n",
        "print(f'min: {df[\"transaction_date\"].min()}')\n",
        "print(f'max: {df[\"transaction_date\"].max()}')"
      ],
      "execution_count": 597,
      "outputs": [
        {
          "output_type": "stream",
          "name": "stdout",
          "text": [
            "min: 2019-08-01T00:23:00.000Z\n",
            "max: 2020-07-31T23:55:00.000Z\n"
          ]
        }
      ]
    },
    {
      "cell_type": "markdown",
      "metadata": {
        "id": "UL3eaAm-H7sm"
      },
      "source": [
        "*   stores_nb\n",
        "\n"
      ]
    },
    {
      "cell_type": "code",
      "metadata": {
        "colab": {
          "base_uri": "https://localhost:8080/"
        },
        "id": "hjQprlKhIEoh",
        "outputId": "e51da9fb-b4ea-43bf-c015-1beb3e32acc1"
      },
      "source": [
        "df['stores_nb'].describe()"
      ],
      "execution_count": 598,
      "outputs": [
        {
          "output_type": "execute_result",
          "data": {
            "text/plain": [
              "count    4.123018e+06\n",
              "mean     4.466897e+04\n",
              "std      2.840495e+04\n",
              "min      1.238000e+03\n",
              "25%      2.000100e+04\n",
              "50%      3.820600e+04\n",
              "75%      7.334200e+04\n",
              "max      9.963400e+04\n",
              "Name: stores_nb, dtype: float64"
            ]
          },
          "metadata": {},
          "execution_count": 598
        }
      ]
    },
    {
      "cell_type": "code",
      "metadata": {
        "colab": {
          "base_uri": "https://localhost:8080/",
          "height": 524
        },
        "id": "H9ZIU9ztIKmU",
        "outputId": "3ffd1bbe-e5cc-46f9-ab17-b5dfe5b62b52"
      },
      "source": [
        "sns.boxplot(x=df['stores_nb'])"
      ],
      "execution_count": 599,
      "outputs": [
        {
          "output_type": "execute_result",
          "data": {
            "text/plain": [
              "<matplotlib.axes._subplots.AxesSubplot at 0x7f6bfd66c050>"
            ]
          },
          "metadata": {},
          "execution_count": 599
        },
        {
          "output_type": "display_data",
          "data": {
            "image/png": "[encoded data removed]",
            "text/plain": [
              "<Figure size 864x576 with 1 Axes>"
            ]
          },
          "metadata": {}
        }
      ]
    },
    {
      "cell_type": "markdown",
      "metadata": {
        "id": "a7-H_IauITTk"
      },
      "source": [
        "\n",
        "\n",
        "*   item_count\n",
        "\n"
      ]
    },
    {
      "cell_type": "code",
      "metadata": {
        "colab": {
          "base_uri": "https://localhost:8080/"
        },
        "id": "UNSjmXvtIYr7",
        "outputId": "9e193314-0581-4b09-d563-80b60cd12aee"
      },
      "source": [
        "df['item_count'].describe()"
      ],
      "execution_count": 600,
      "outputs": [
        {
          "output_type": "execute_result",
          "data": {
            "text/plain": [
              "count    4.123018e+06\n",
              "mean     1.597219e+01\n",
              "std      1.739582e+01\n",
              "min     -2.880000e+02\n",
              "25%      5.000000e+00\n",
              "50%      1.000000e+01\n",
              "75%      2.100000e+01\n",
              "max      3.600000e+03\n",
              "Name: item_count, dtype: float64"
            ]
          },
          "metadata": {},
          "execution_count": 600
        }
      ]
    },
    {
      "cell_type": "code",
      "metadata": {
        "colab": {
          "base_uri": "https://localhost:8080/",
          "height": 524
        },
        "id": "s2fNQ4pUIayc",
        "outputId": "5993a2ef-3b77-4d51-b281-86b3f0cf812f"
      },
      "source": [
        "sns.boxplot(x=df['item_count'])"
      ],
      "execution_count": 601,
      "outputs": [
        {
          "output_type": "execute_result",
          "data": {
            "text/plain": [
              "<matplotlib.axes._subplots.AxesSubplot at 0x7f6bfd699450>"
            ]
          },
          "metadata": {},
          "execution_count": 601
        },
        {
          "output_type": "display_data",
          "data": {
            "image/png": "[encoded data removed]",
            "text/plain": [
              "<Figure size 864x576 with 1 Axes>"
            ]
          },
          "metadata": {}
        }
      ]
    },
    {
      "cell_type": "markdown",
      "metadata": {
        "id": "78N0cYqrIl0l"
      },
      "source": [
        "\n",
        "*   gross_amount\n",
        "\n"
      ]
    },
    {
      "cell_type": "code",
      "metadata": {
        "colab": {
          "base_uri": "https://localhost:8080/"
        },
        "id": "A2TS2SWcIqJS",
        "outputId": "620bf74e-3e47-4bc9-bd52-3479e5298f1e"
      },
      "source": [
        "df['gross_amount'].describe()"
      ],
      "execution_count": 602,
      "outputs": [
        {
          "output_type": "execute_result",
          "data": {
            "text/plain": [
              "count    4.123018e+06\n",
              "mean     5.055393e+01\n",
              "std      6.272378e+01\n",
              "min     -2.602980e+03\n",
              "25%      1.324000e+01\n",
              "50%      3.022000e+01\n",
              "75%      6.774000e+01\n",
              "max      2.306485e+04\n",
              "Name: gross_amount, dtype: float64"
            ]
          },
          "metadata": {},
          "execution_count": 602
        }
      ]
    },
    {
      "cell_type": "code",
      "metadata": {
        "colab": {
          "base_uri": "https://localhost:8080/",
          "height": 524
        },
        "id": "kKm8dUB3Ivr-",
        "outputId": "6e84c202-a1dd-41e3-ca65-d2114ff15650"
      },
      "source": [
        "sns.boxplot(x=df['gross_amount'])"
      ],
      "execution_count": 603,
      "outputs": [
        {
          "output_type": "execute_result",
          "data": {
            "text/plain": [
              "<matplotlib.axes._subplots.AxesSubplot at 0x7f6bfd6d8050>"
            ]
          },
          "metadata": {},
          "execution_count": 603
        },
        {
          "output_type": "display_data",
          "data": {
            "image/png": "[encoded data removed]",
            "text/plain": [
              "<Figure size 864x576 with 1 Axes>"
            ]
          },
          "metadata": {}
        }
      ]
    },
    {
      "cell_type": "markdown",
      "metadata": {
        "id": "6PtUaTtvSn-C"
      },
      "source": [
        "* discount_amount"
      ]
    },
    {
      "cell_type": "code",
      "metadata": {
        "colab": {
          "base_uri": "https://localhost:8080/"
        },
        "id": "vt8N5ZiiSq1S",
        "outputId": "6766672c-c6e1-4d6d-a64b-2736a01e0450"
      },
      "source": [
        "df['discount_amount'].describe()"
      ],
      "execution_count": 604,
      "outputs": [
        {
          "output_type": "execute_result",
          "data": {
            "text/plain": [
              "count    4.123018e+06\n",
              "mean     3.494612e+00\n",
              "std      1.073524e+01\n",
              "min     -1.131970e+03\n",
              "25%      0.000000e+00\n",
              "50%      0.000000e+00\n",
              "75%      2.240000e+00\n",
              "max      3.087360e+03\n",
              "Name: discount_amount, dtype: float64"
            ]
          },
          "metadata": {},
          "execution_count": 604
        }
      ]
    },
    {
      "cell_type": "code",
      "metadata": {
        "colab": {
          "base_uri": "https://localhost:8080/"
        },
        "id": "Vn_zmyyFS5Lk",
        "outputId": "f486d70d-9463-481a-e07b-892966696acd"
      },
      "source": [
        "df[\"discount_amount\"].astype(str).value_counts(normalize=True)*100"
      ],
      "execution_count": 605,
      "outputs": [
        {
          "output_type": "execute_result",
          "data": {
            "text/plain": [
              "0.0       61.442322\n",
              "10.0       2.133607\n",
              "12.0       0.873438\n",
              "8.0        0.619328\n",
              "0.18       0.524494\n",
              "            ...    \n",
              "174.72     0.000024\n",
              "-11.55     0.000024\n",
              "96.93      0.000024\n",
              "121.35     0.000024\n",
              "472.06     0.000024\n",
              "Name: discount_amount, Length: 14113, dtype: float64"
            ]
          },
          "metadata": {},
          "execution_count": 605
        }
      ]
    },
    {
      "cell_type": "code",
      "metadata": {
        "colab": {
          "base_uri": "https://localhost:8080/",
          "height": 524
        },
        "id": "hJ6kcKjWSumu",
        "outputId": "f226947b-ec4e-4959-988c-f94a78f0375c"
      },
      "source": [
        "sns.boxplot(x=df['discount_amount'])"
      ],
      "execution_count": 606,
      "outputs": [
        {
          "output_type": "execute_result",
          "data": {
            "text/plain": [
              "<matplotlib.axes._subplots.AxesSubplot at 0x7f6c41fb6e50>"
            ]
          },
          "metadata": {},
          "execution_count": 606
        },
        {
          "output_type": "display_data",
          "data": {
            "image/png": "[encoded data removed]",
            "text/plain": [
              "<Figure size 864x576 with 1 Axes>"
            ]
          },
          "metadata": {}
        }
      ]
    },
    {
      "cell_type": "markdown",
      "metadata": {
        "id": "N3yAX_b1I-Gi"
      },
      "source": [
        "\n",
        "\n",
        "*   basket_value\n",
        "\n"
      ]
    },
    {
      "cell_type": "code",
      "metadata": {
        "colab": {
          "base_uri": "https://localhost:8080/"
        },
        "id": "7eCy5AGWJAyI",
        "outputId": "798ab671-22c7-4a70-9cd7-51b2555184a4"
      },
      "source": [
        "df['basket_value'].describe()"
      ],
      "execution_count": 607,
      "outputs": [
        {
          "output_type": "execute_result",
          "data": {
            "text/plain": [
              "count    4.123018e+06\n",
              "mean     4.705932e+01\n",
              "std      5.650075e+01\n",
              "min     -2.342680e+03\n",
              "25%      1.292000e+01\n",
              "50%      2.918000e+01\n",
              "75%      6.219000e+01\n",
              "max      2.022748e+04\n",
              "Name: basket_value, dtype: float64"
            ]
          },
          "metadata": {},
          "execution_count": 607
        }
      ]
    },
    {
      "cell_type": "code",
      "metadata": {
        "colab": {
          "base_uri": "https://localhost:8080/",
          "height": 524
        },
        "id": "naPW4MbFJDXZ",
        "outputId": "9e59086f-0016-4def-9239-192e9eacbd3c"
      },
      "source": [
        "sns.boxplot(x=df['basket_value'])"
      ],
      "execution_count": 608,
      "outputs": [
        {
          "output_type": "execute_result",
          "data": {
            "text/plain": [
              "<matplotlib.axes._subplots.AxesSubplot at 0x7f6c0a8cb210>"
            ]
          },
          "metadata": {},
          "execution_count": 608
        },
        {
          "output_type": "display_data",
          "data": {
            "image/png": "[encoded data removed]",
            "text/plain": [
              "<Figure size 864x576 with 1 Axes>"
            ]
          },
          "metadata": {}
        }
      ]
    },
    {
      "cell_type": "markdown",
      "metadata": {
        "id": "1qpksCzvLwgx"
      },
      "source": [
        "* Payments"
      ]
    },
    {
      "cell_type": "code",
      "metadata": {
        "id": "5us2bFpJocZw"
      },
      "source": [
        "# We compute the frequencies for each kind of payment\n",
        "\n",
        "freq_gift = df[\"payment_gift\"].astype(str).value_counts(normalize=True)*100\n",
        "freq_cheque = df[\"payment_cheque\"].astype(str).value_counts(normalize=True)*100\n",
        "freq_cash = df[\"payment_cash\"].astype(str).value_counts(normalize=True)*100\n",
        "freq_card = df[\"payment_card\"].astype(str).value_counts(normalize=True)*100"
      ],
      "execution_count": 609,
      "outputs": []
    },
    {
      "cell_type": "code",
      "metadata": {
        "colab": {
          "base_uri": "https://localhost:8080/"
        },
        "id": "J9anWGxjNsAU",
        "outputId": "2c2c0ff9-88ba-41a3-fd0b-abb1b3f7b62e"
      },
      "source": [
        "print(freq_gift)\n",
        "print(freq_cheque)\n",
        "print(freq_cash)\n",
        "print(freq_card)"
      ],
      "execution_count": 610,
      "outputs": [
        {
          "output_type": "stream",
          "name": "stdout",
          "text": [
            "0    93.078759\n",
            "1     6.921241\n",
            "Name: payment_gift, dtype: float64\n",
            "0    96.659995\n",
            "1     3.340005\n",
            "Name: payment_cheque, dtype: float64\n",
            "0    77.26447\n",
            "1    22.73553\n",
            "Name: payment_cash, dtype: float64\n",
            "1    67.884254\n",
            "0    32.115746\n",
            "Name: payment_card, dtype: float64\n"
          ]
        }
      ]
    },
    {
      "cell_type": "markdown",
      "metadata": {
        "id": "81zAhrEWJIfG"
      },
      "source": [
        "\n",
        "\n",
        "*   payment_gift\n",
        "\n"
      ]
    },
    {
      "cell_type": "code",
      "metadata": {
        "colab": {
          "base_uri": "https://localhost:8080/",
          "height": 361
        },
        "id": "ZYFBYzkUJ5qi",
        "outputId": "60fc5b4d-333a-4757-8271-8279fc3f17ce"
      },
      "source": [
        "# We draw the barplot of the variable payment_gift\n",
        "\n",
        "l = []\n",
        "\n",
        "# Creation of a dictionnary with the modalities and the frequency linked to the modalities\n",
        "for i in range (freq_gift.shape[0]):\n",
        "   l.append({\"GIFT\":freq_gift.index[i], \"percent\":freq_gift[i]})\n",
        "\n",
        "# We transform this dictionnary into a dataframe\n",
        "df_gift = pd.DataFrame(l)\n",
        "\n",
        "# We plot the barplot (without the frequencies)\n",
        "g = sns.catplot(x = \"GIFT\", y = \"percent\", kind= 'bar',data = df_gift, palette = 'PuBuGn_r')\n",
        "\n",
        "# We add the frequencies at the top of each bar\n",
        "for p in g.ax.patches:\n",
        "   txt = str(p.get_height().round(1)) + '%'\n",
        "   txt_x = p.get_x()\n",
        "   txt_y = p.get_height()\n",
        "   g.ax.text(txt_x,txt_y,txt)"
      ],
      "execution_count": 611,
      "outputs": [
        {
          "output_type": "display_data",
          "data": {
            "image/png": "[encoded data removed]",
            "text/plain": [
              "<Figure size 360x360 with 1 Axes>"
            ]
          },
          "metadata": {}
        }
      ]
    },
    {
      "cell_type": "markdown",
      "metadata": {
        "id": "6nkLEfxnK1x8"
      },
      "source": [
        "\n",
        "\n",
        "*   payment_cash\n",
        "\n"
      ]
    },
    {
      "cell_type": "code",
      "metadata": {
        "colab": {
          "base_uri": "https://localhost:8080/",
          "height": 361
        },
        "id": "bJVSvzqyK5Wl",
        "outputId": "d906f365-915c-4fe9-ea51-357ca1577f97"
      },
      "source": [
        "# We draw the barplot of the variable payment_cash\n",
        "\n",
        "l = []\n",
        "\n",
        "# Creation of a dictionnary with the modalities and the frequency linked to the modalities\n",
        "for i in range (freq_cash.shape[0]):\n",
        "   l.append({\"CASH\":freq_cash.index[i], \"percent\":freq_cash[i]})\n",
        "\n",
        "# We transform this dictionnary into a dataframe\n",
        "df_cash = pd.DataFrame(l)\n",
        "\n",
        "# We plot the barplot (without the frequencies)\n",
        "g = sns.catplot(x = \"CASH\", y = \"percent\", kind= 'bar',data = df_cash, palette = 'PuBuGn_r')\n",
        "\n",
        "# We add the frequencies at the top of each bar\n",
        "for p in g.ax.patches:\n",
        "   txt = str(p.get_height().round(1)) + '%'\n",
        "   txt_x = p.get_x()\n",
        "   txt_y = p.get_height()\n",
        "   g.ax.text(txt_x,txt_y,txt)"
      ],
      "execution_count": 612,
      "outputs": [
        {
          "output_type": "display_data",
          "data": {
            "image/png": "[encoded data removed]",
            "text/plain": [
              "<Figure size 360x360 with 1 Axes>"
            ]
          },
          "metadata": {}
        }
      ]
    },
    {
      "cell_type": "markdown",
      "metadata": {
        "id": "-FLOjRAELIcv"
      },
      "source": [
        "\n",
        "\n",
        "*   payment_card\n",
        "\n"
      ]
    },
    {
      "cell_type": "code",
      "metadata": {
        "colab": {
          "base_uri": "https://localhost:8080/",
          "height": 361
        },
        "id": "eRxkhBJaLMYg",
        "outputId": "e1e2c962-900b-49c7-9de6-a5eb6ea2cc01"
      },
      "source": [
        "# We draw the barplot of the variable payment_card\n",
        "\n",
        "l = []\n",
        "\n",
        "# Creation of a dictionnary with the modalities and the frequency linked to the modalities\n",
        "for i in range (freq_card.shape[0]):\n",
        "   l.append({\"CARD\":freq_card.index[i], \"percent\":freq_card[i]})\n",
        "\n",
        "# We transform this dictionnary into a dataframe\n",
        "df_card = pd.DataFrame(l)\n",
        "\n",
        "# We plot the barplot (without the frequencies)\n",
        "g = sns.catplot(x = \"CARD\", y = \"percent\", kind= 'bar',data = df_card, palette = 'PuBuGn_r')\n",
        "\n",
        "# We add the frequencies at the top of each bar\n",
        "for p in g.ax.patches:\n",
        "   txt = str(p.get_height().round(1)) + '%'\n",
        "   txt_x = p.get_x()\n",
        "   txt_y = p.get_height()\n",
        "   g.ax.text(txt_x,txt_y,txt)"
      ],
      "execution_count": 613,
      "outputs": [
        {
          "output_type": "display_data",
          "data": {
            "image/png": "[encoded data removed]",
            "text/plain": [
              "<Figure size 360x360 with 1 Axes>"
            ]
          },
          "metadata": {}
        }
      ]
    },
    {
      "cell_type": "markdown",
      "metadata": {
        "id": "U5FQmKtPLc1t"
      },
      "source": [
        "\n",
        "\n",
        "*   payment_cheque\n",
        "\n"
      ]
    },
    {
      "cell_type": "code",
      "metadata": {
        "colab": {
          "base_uri": "https://localhost:8080/",
          "height": 361
        },
        "id": "9y2V1gfnLfRy",
        "outputId": "70ca039f-8ee3-404b-b427-2d5736789435"
      },
      "source": [
        "# We draw the barplot of the variable payment_cheque\n",
        "\n",
        "l = []\n",
        "\n",
        "# Creation of a dictionnary with the modalities and the frequency linked to the modalities\n",
        "for i in range (freq_cheque.shape[0]):\n",
        "   l.append({\"CHEQUE\":freq_cheque.index[i], \"percent\":freq_cheque[i]})\n",
        "\n",
        "# We transform this dictionnary into a dataframe\n",
        "df_cheque = pd.DataFrame(l)\n",
        "\n",
        "# We plot the barplot (without the frequencies)\n",
        "g = sns.catplot(x = \"CHEQUE\", y = \"percent\", kind= 'bar',data = df_cheque, palette = 'PuBuGn_r')\n",
        "\n",
        "# We add the frequencies at the top of each bar\n",
        "for p in g.ax.patches:\n",
        "   txt = str(p.get_height().round(1)) + '%'\n",
        "   txt_x = p.get_x()\n",
        "   txt_y = p.get_height()\n",
        "   g.ax.text(txt_x,txt_y,txt)"
      ],
      "execution_count": 614,
      "outputs": [
        {
          "output_type": "display_data",
          "data": {
            "image/png": "[encoded data removed]",
            "text/plain": [
              "<Figure size 360x360 with 1 Axes>"
            ]
          },
          "metadata": {}
        }
      ]
    },
    {
      "cell_type": "markdown",
      "metadata": {
        "id": "o1ZgYH38Ni_R"
      },
      "source": [
        "* email_domain"
      ]
    },
    {
      "cell_type": "code",
      "metadata": {
        "colab": {
          "base_uri": "https://localhost:8080/"
        },
        "id": "XsftIDp8Ozpv",
        "outputId": "03a280ed-e96d-401a-ef56-fdabf8b506ba"
      },
      "source": [
        "# Frequency\n",
        "\n",
        "freq_email=df[\"email_domain\"].astype(str).value_counts(normalize=True)*100\n",
        "print(freq_email)"
      ],
      "execution_count": 615,
      "outputs": [
        {
          "output_type": "stream",
          "name": "stdout",
          "text": [
            "nan                      38.838516\n",
            "GMAIL.COM                15.609900\n",
            "HOTMAIL.FR                8.784172\n",
            "ORANGE.FR                 7.782018\n",
            "WANADOO.FR                4.098357\n",
            "                           ...    \n",
            "BATI-ARCHITECTURE.COM     0.000024\n",
            "GO4MAIL.NET               0.000024\n",
            "MSCENE.FR                 0.000024\n",
            "NETPLUS.CH                0.000024\n",
            "CADONE.IT                 0.000024\n",
            "Name: email_domain, Length: 2948, dtype: float64\n"
          ]
        }
      ]
    },
    {
      "cell_type": "markdown",
      "metadata": {
        "id": "NSfAiYahPSLn"
      },
      "source": [
        "* civility"
      ]
    },
    {
      "cell_type": "code",
      "metadata": {
        "colab": {
          "base_uri": "https://localhost:8080/"
        },
        "id": "vOJZVfQhM-Y1",
        "outputId": "96621091-98e2-4a78-e229-5ecc99b835d0"
      },
      "source": [
        "# Frequency\n",
        "\n",
        "freq_civility = df[\"civility\"].astype(str).value_counts(normalize=True)*100\n",
        "freq_civility"
      ],
      "execution_count": 616,
      "outputs": [
        {
          "output_type": "execute_result",
          "data": {
            "text/plain": [
              "MME    63.657714\n",
              "M      27.141259\n",
              "NR      9.016162\n",
              "nan     0.184865\n",
              "Name: civility, dtype: float64"
            ]
          },
          "metadata": {},
          "execution_count": 616
        }
      ]
    },
    {
      "cell_type": "code",
      "metadata": {
        "colab": {
          "base_uri": "https://localhost:8080/",
          "height": 559
        },
        "id": "fSxMV4HdODPu",
        "outputId": "8d0f05b5-cffe-4b94-cf35-d49391480ec6"
      },
      "source": [
        "# We draw the barplot of the variable civility\n",
        "\n",
        "l = []\n",
        "\n",
        "# Creation of a dictionnary with the modalities and the frequency linked to the modalities\n",
        "for i in range (freq_civility.shape[0]):\n",
        "   l.append({\"CIVILITY\":freq_civility.index[i], \"percent\":freq_civility[i]})\n",
        "\n",
        "# We transform this dictionnary into a dataframe\n",
        "df_civility = pd.DataFrame(l)\n",
        "\n",
        "\n",
        "(markerline, stemlines, baseline) = plt.stem(df_civility['CIVILITY'],\n",
        "                                             df_civility['percent'])\n",
        "plt.setp(markerline, marker='*', markersize=15,\n",
        "         markeredgewidth=2, color='blue')\n",
        "plt.setp(stemlines, color='blue')\n",
        "plt.setp(baseline, visible=False)\n",
        "\n",
        "plt.tick_params(labelsize=12)\n",
        "plt.xlabel('Civility', size=12)\n",
        "plt.ylabel('Frequency', size=12)\n",
        "plt.ylim(bottom=0)\n",
        "\n",
        "plt.show()"
      ],
      "execution_count": 617,
      "outputs": [
        {
          "output_type": "stream",
          "name": "stderr",
          "text": [
            "/usr/local/lib/python3.7/dist-packages/ipykernel_launcher.py:14: UserWarning: In Matplotlib 3.3 individual lines on a stem plot will be added as a LineCollection instead of individual lines. This significantly improves the performance of a stem plot. To remove this warning and switch to the new behaviour, set the \"use_line_collection\" keyword argument to True.\n",
            "  \n"
          ]
        },
        {
          "output_type": "display_data",
          "data": {
            "image/png": "[encoded data removed]",
            "text/plain": [
              "<Figure size 864x576 with 1 Axes>"
            ]
          },
          "metadata": {}
        }
      ]
    },
    {
      "cell_type": "markdown",
      "metadata": {
        "id": "k6aqjJ91PrZN"
      },
      "source": [
        "* zip_code"
      ]
    },
    {
      "cell_type": "code",
      "metadata": {
        "colab": {
          "base_uri": "https://localhost:8080/"
        },
        "id": "7z4cHcpDPvQb",
        "outputId": "6a21716a-c80d-482c-d160-67e2de2ec244"
      },
      "source": [
        "# Frequency\n",
        "\n",
        "freq_zip = df[\"zip_code\"].astype(str).value_counts(normalize=True)*100\n",
        "print(freq_zip)\n",
        "print(len(freq_zip))"
      ],
      "execution_count": 618,
      "outputs": [
        {
          "output_type": "stream",
          "name": "stdout",
          "text": [
            "nan        9.184728\n",
            "13013      0.799633\n",
            "83600      0.715883\n",
            "34070      0.707880\n",
            "13009      0.656315\n",
            "             ...   \n",
            "92410.0    0.000024\n",
            "71870.0    0.000024\n",
            "44720      0.000024\n",
            "06211      0.000024\n",
            "3740       0.000024\n",
            "Name: zip_code, Length: 8516, dtype: float64\n",
            "8516\n"
          ]
        }
      ]
    },
    {
      "cell_type": "markdown",
      "metadata": {
        "id": "LqYalvo96whc"
      },
      "source": [
        "\n",
        "\n",
        "*   multicard\n",
        "\n"
      ]
    },
    {
      "cell_type": "code",
      "metadata": {
        "colab": {
          "base_uri": "https://localhost:8080/"
        },
        "id": "57KjE8Ci68ng",
        "outputId": "6bf9afa9-ffb3-443d-8bdc-530eab2d9c72"
      },
      "source": [
        "# Frequency\n",
        "\n",
        "freq_multicard = df[\"multicard\"].astype(str).value_counts(normalize=True)*100\n",
        "freq_multicard"
      ],
      "execution_count": 619,
      "outputs": [
        {
          "output_type": "execute_result",
          "data": {
            "text/plain": [
              "0.0     93.560251\n",
              "1.0      6.253817\n",
              "nan      0.184865\n",
              "21.0     0.001067\n",
              "Name: multicard, dtype: float64"
            ]
          },
          "metadata": {},
          "execution_count": 619
        }
      ]
    },
    {
      "cell_type": "code",
      "metadata": {
        "colab": {
          "base_uri": "https://localhost:8080/",
          "height": 361
        },
        "id": "FHAAwfnf7Hr6",
        "outputId": "c97cc998-d242-4752-f463-bd6ddb2f07f6"
      },
      "source": [
        "# We draw the barplot of the variable multicard\n",
        "\n",
        "l = []\n",
        "\n",
        "# Creation of a dictionnary with the modalities and the frequency linked to the modalities\n",
        "for i in range (freq_multicard.shape[0]):\n",
        "   l.append({\"Multicard\":freq_multicard.index[i], \"percent\":freq_multicard[i]})\n",
        "\n",
        "# We transform this dictionnary into a dataframe\n",
        "df_multicard = pd.DataFrame(l)\n",
        "\n",
        "# We plot the barplot (without the frequencies)\n",
        "g = sns.catplot(x = \"Multicard\", y = \"percent\", kind= 'bar',data = df_multicard, palette = 'PuBuGn_r')\n",
        "\n",
        "# We add the frequencies at the top of each bar\n",
        "for p in g.ax.patches:\n",
        "   txt = str(p.get_height().round(1)) + '%'\n",
        "   txt_x = p.get_x()\n",
        "   txt_y = p.get_height()\n",
        "   g.ax.text(txt_x,txt_y,txt)"
      ],
      "execution_count": 620,
      "outputs": [
        {
          "output_type": "display_data",
          "data": {
            "image/png": "[encoded data removed]",
            "text/plain": [
              "<Figure size 360x360 with 1 Axes>"
            ]
          },
          "metadata": {}
        }
      ]
    },
    {
      "cell_type": "markdown",
      "metadata": {
        "id": "dhrNYzxP9Ouj"
      },
      "source": [
        "\n",
        "\n",
        "*   price_segmentation\n",
        "\n"
      ]
    },
    {
      "cell_type": "code",
      "metadata": {
        "colab": {
          "base_uri": "https://localhost:8080/"
        },
        "id": "aOk9wlcj9SKw",
        "outputId": "2e418894-518f-4981-f027-6fd302731615"
      },
      "source": [
        "# Frequency\n",
        "\n",
        "freq_price = df[\"price_segmentation\"].astype(str).value_counts(normalize=True)*100\n",
        "freq_price"
      ],
      "execution_count": 621,
      "outputs": [
        {
          "output_type": "execute_result",
          "data": {
            "text/plain": [
              "nan       47.331227\n",
              "Mixte     29.569311\n",
              "Quali     10.943319\n",
              "Access    10.129134\n",
              "xx         2.025943\n",
              "08         0.001067\n",
              "Name: price_segmentation, dtype: float64"
            ]
          },
          "metadata": {},
          "execution_count": 621
        }
      ]
    },
    {
      "cell_type": "code",
      "metadata": {
        "colab": {
          "base_uri": "https://localhost:8080/",
          "height": 361
        },
        "id": "053vVhiWAQ94",
        "outputId": "6fa57fbe-a16b-4018-fa6b-c195220a3a34"
      },
      "source": [
        "# We draw the barplot of the variable price_segmentation\n",
        "\n",
        "l = []\n",
        "\n",
        "# Creation of a dictionnary with the modalities and the frequency linked to the modalities\n",
        "for i in range (freq_price.shape[0]):\n",
        "   l.append({\"Price_segmentation\":freq_price.index[i], \"percent\":freq_price[i]})\n",
        "\n",
        "# We transform this dictionnary into a dataframe\n",
        "df_price = pd.DataFrame(l)\n",
        "\n",
        "# We plot the barplot (without the frequencies)\n",
        "g = sns.catplot(x = \"Price_segmentation\", y = \"percent\", kind= 'bar',data = df_price, palette = 'PuBuGn_r')\n",
        "\n",
        "# We add the frequencies at the top of each bar\n",
        "for p in g.ax.patches:\n",
        "   txt = str(p.get_height().round(1)) + '%'\n",
        "   txt_x = p.get_x()\n",
        "   txt_y = p.get_height()\n",
        "   g.ax.text(txt_x,txt_y,txt)"
      ],
      "execution_count": 622,
      "outputs": [
        {
          "output_type": "display_data",
          "data": {
            "image/png": "[encoded data removed]",
            "text/plain": [
              "<Figure size 360x360 with 1 Axes>"
            ]
          },
          "metadata": {}
        }
      ]
    },
    {
      "cell_type": "code",
      "metadata": {
        "colab": {
          "base_uri": "https://localhost:8080/"
        },
        "id": "Q2r1x29Xm7wW",
        "outputId": "556440d7-dada-4639-f63d-09d6fe92eaba"
      },
      "source": [
        "df.dtypes"
      ],
      "execution_count": 623,
      "outputs": [
        {
          "output_type": "execute_result",
          "data": {
            "text/plain": [
              "id_client               int64\n",
              "transaction_date       object\n",
              "stores_nb               int64\n",
              "item_count              int64\n",
              "gross_amount          float64\n",
              "discount_amount       float64\n",
              "basket_value          float64\n",
              "payment_gift            int64\n",
              "payment_cheque          int64\n",
              "payment_cash            int64\n",
              "payment_card            int64\n",
              "email_domain           object\n",
              "civility               object\n",
              "zip_code               object\n",
              "card_subscription      object\n",
              "multicard             float64\n",
              "price_segmentation     object\n",
              "Group                  object\n",
              "dtype: object"
            ]
          },
          "metadata": {},
          "execution_count": 623
        }
      ]
    },
    {
      "cell_type": "markdown",
      "metadata": {
        "id": "WLQ40uafm7wW"
      },
      "source": [
        "## Cleaning and creation of variables"
      ]
    },
    {
      "cell_type": "markdown",
      "metadata": {
        "id": "NwwmrEZYm7wW"
      },
      "source": [
        "* transaction_date"
      ]
    },
    {
      "cell_type": "code",
      "metadata": {
        "id": "LtN9TeDam7wX"
      },
      "source": [
        "# We change the date format\n",
        "df['transaction_date']=pd.to_datetime(df.transaction_date)"
      ],
      "execution_count": 624,
      "outputs": []
    },
    {
      "cell_type": "code",
      "metadata": {
        "colab": {
          "base_uri": "https://localhost:8080/"
        },
        "id": "ZIDTksfnm7wX",
        "outputId": "479a29c4-797b-487c-d6f7-1d277dd37af6"
      },
      "source": [
        "max_date=df[\"transaction_date\"].max()\n",
        "max_date"
      ],
      "execution_count": 625,
      "outputs": [
        {
          "output_type": "execute_result",
          "data": {
            "text/plain": [
              "Timestamp('2020-07-31 23:55:00+0000', tz='UTC')"
            ]
          },
          "metadata": {},
          "execution_count": 625
        }
      ]
    },
    {
      "cell_type": "markdown",
      "metadata": {
        "id": "bZqZTH_mm7wX"
      },
      "source": [
        "* Negative values"
      ]
    },
    {
      "cell_type": "code",
      "metadata": {
        "id": "dMG4NKSvm7wX"
      },
      "source": [
        "# We delete the irrevelant negative values\n",
        "\n",
        "df['item_count']=np.where(df['item_count']<0,np.nan,df['item_count'])\n",
        "df['gross_amount']=np.where(df['gross_amount']<0,np.nan,df['gross_amount'])\n",
        "df['discount_amount']=np.where(df['discount_amount']<0,np.nan,df['discount_amount'])\n",
        "df['basket_value']=np.where(df['basket_value']<0,np.nan,df['basket_value'])"
      ],
      "execution_count": 626,
      "outputs": []
    },
    {
      "cell_type": "markdown",
      "metadata": {
        "id": "KfRW3Bf1m7wY"
      },
      "source": [
        "* item_count"
      ]
    },
    {
      "cell_type": "code",
      "metadata": {
        "id": "_HLC4jELm7wY"
      },
      "source": [
        "# We change to NA the item_count of individuals that bought more than 8000 items\n",
        "# It might be very big families not representative of the population\n",
        "df['item_count']=np.where(df['item_count']>500,np.nan,df['item_count'])"
      ],
      "execution_count": 627,
      "outputs": []
    },
    {
      "cell_type": "code",
      "metadata": {
        "colab": {
          "base_uri": "https://localhost:8080/",
          "height": 524
        },
        "id": "vEmjoc7xm7wY",
        "outputId": "6466815b-9413-406e-f144-4592770cbd34"
      },
      "source": [
        "# Boxplot\n",
        "sns.boxplot(x=df['item_count'])"
      ],
      "execution_count": 628,
      "outputs": [
        {
          "output_type": "execute_result",
          "data": {
            "text/plain": [
              "<matplotlib.axes._subplots.AxesSubplot at 0x7f6c2fd13d90>"
            ]
          },
          "metadata": {},
          "execution_count": 628
        },
        {
          "output_type": "display_data",
          "data": {
            "image/png": "[encoded data removed]",
            "text/plain": [
              "<Figure size 864x576 with 1 Axes>"
            ]
          },
          "metadata": {}
        }
      ]
    },
    {
      "cell_type": "markdown",
      "metadata": {
        "id": "lOm_dNBBm7wY"
      },
      "source": [
        "* gross_amount"
      ]
    },
    {
      "cell_type": "code",
      "metadata": {
        "id": "NehGD4Ipm7wY"
      },
      "source": [
        "# We change to NA the gross_count of individuals that paid more than 10000 before discount\n",
        "df['gross_amount']=np.where(df['gross_amount']>5000,np.nan,df['gross_amount'])"
      ],
      "execution_count": 629,
      "outputs": []
    },
    {
      "cell_type": "code",
      "metadata": {
        "colab": {
          "base_uri": "https://localhost:8080/",
          "height": 524
        },
        "id": "2C6r9D65m7wZ",
        "outputId": "bba40a38-8f0e-4047-8c5c-40eac495b624"
      },
      "source": [
        "# Boxplot\n",
        "sns.boxplot(x=df['gross_amount'])"
      ],
      "execution_count": 630,
      "outputs": [
        {
          "output_type": "execute_result",
          "data": {
            "text/plain": [
              "<matplotlib.axes._subplots.AxesSubplot at 0x7f6c2fcbfe10>"
            ]
          },
          "metadata": {},
          "execution_count": 630
        },
        {
          "output_type": "display_data",
          "data": {
            "image/png": "[encoded data removed]",
            "text/plain": [
              "<Figure size 864x576 with 1 Axes>"
            ]
          },
          "metadata": {}
        }
      ]
    },
    {
      "cell_type": "markdown",
      "metadata": {
        "id": "5aqJkW88m7wZ"
      },
      "source": [
        "* dicount_amount"
      ]
    },
    {
      "cell_type": "code",
      "metadata": {
        "id": "gSNs7ogem7wZ"
      },
      "source": [
        "# We change to NA the discount_amount of individuals that had a discount of more than what they paid \n",
        "\n",
        "df['discount_amount']=np.where(df['gross_amount']<df['discount_amount'],np.nan,df['discount_amount'])\n",
        "\n",
        "# We change to NA the discount_amount of individuals that had a discount of more than 1000\n",
        "\n",
        "df['discount_amount']=np.where(df['discount_amount']>1000,np.nan,df['discount_amount'])"
      ],
      "execution_count": 631,
      "outputs": []
    },
    {
      "cell_type": "code",
      "metadata": {
        "colab": {
          "base_uri": "https://localhost:8080/",
          "height": 524
        },
        "id": "048PloINm7wZ",
        "outputId": "0697d61a-91ee-4c70-f3b3-69316cdd813e"
      },
      "source": [
        "# Boxplot\n",
        "sns.boxplot(x=df['discount_amount'])"
      ],
      "execution_count": 632,
      "outputs": [
        {
          "output_type": "execute_result",
          "data": {
            "text/plain": [
              "<matplotlib.axes._subplots.AxesSubplot at 0x7f6c2fd61f10>"
            ]
          },
          "metadata": {},
          "execution_count": 632
        },
        {
          "output_type": "display_data",
          "data": {
            "image/png": "[encoded data removed]",
            "text/plain": [
              "<Figure size 864x576 with 1 Axes>"
            ]
          },
          "metadata": {}
        }
      ]
    },
    {
      "cell_type": "markdown",
      "metadata": {
        "id": "0b-luZZhm7wa"
      },
      "source": [
        "* basket_value"
      ]
    },
    {
      "cell_type": "code",
      "metadata": {
        "id": "1Fmh0IOfm7wa"
      },
      "source": [
        "# We change to NA the basket_value of individuals that paid more than 5000\n",
        "\n",
        "df['basket_value']=np.where(df['basket_value']>5000,np.nan,df['basket_value'])"
      ],
      "execution_count": 633,
      "outputs": []
    },
    {
      "cell_type": "code",
      "metadata": {
        "colab": {
          "base_uri": "https://localhost:8080/",
          "height": 524
        },
        "id": "Bwi-55tgm7wa",
        "outputId": "26b339e3-5706-41b2-e1e0-e2aca1e99e8b"
      },
      "source": [
        "# Boxplot\n",
        "sns.boxplot(x=df['basket_value'])"
      ],
      "execution_count": 634,
      "outputs": [
        {
          "output_type": "execute_result",
          "data": {
            "text/plain": [
              "<matplotlib.axes._subplots.AxesSubplot at 0x7f6c2fc46b50>"
            ]
          },
          "metadata": {},
          "execution_count": 634
        },
        {
          "output_type": "display_data",
          "data": {
            "image/png": "[encoded data removed]",
            "text/plain": [
              "<Figure size 864x576 with 1 Axes>"
            ]
          },
          "metadata": {}
        }
      ]
    },
    {
      "cell_type": "markdown",
      "metadata": {
        "id": "JjiLqqqBm7wa"
      },
      "source": [
        "* email_domain"
      ]
    },
    {
      "cell_type": "code",
      "metadata": {
        "colab": {
          "base_uri": "https://localhost:8080/"
        },
        "id": "ZZWveeI6m7wa",
        "outputId": "262daf9d-9ca6-459a-e08a-5fe8d838c2b2"
      },
      "source": [
        "# Know the root of emails\n",
        "df[\"email_domain_root\"]=df[\"email_domain\"].str.split('.').str[-2]\n",
        "df[\"email_domain_root\"].astype(str).value_counts(normalize=True)*100"
      ],
      "execution_count": 635,
      "outputs": [
        {
          "output_type": "execute_result",
          "data": {
            "text/plain": [
              "nan        38.844119\n",
              "GMAIL      15.725495\n",
              "HOTMAIL    11.675064\n",
              "ORANGE      7.811244\n",
              "YAHOO       4.654067\n",
              "             ...    \n",
              "IPCV        0.000024\n",
              "YOKLER      0.000024\n",
              "WJDH        0.000024\n",
              "IOPMAIL     0.000024\n",
              "FAIM        0.000024\n",
              "Name: email_domain_root, Length: 2465, dtype: float64"
            ]
          },
          "metadata": {},
          "execution_count": 635
        }
      ]
    },
    {
      "cell_type": "code",
      "metadata": {
        "id": "Sqz-aUeOm7wj"
      },
      "source": [
        "# Create dummies for the email roots\n",
        "\n",
        "df['gmail']=np.where(df['email_domain_root']=='GMAIL',1,0)\n",
        "df['hotmail']=np.where(df['email_domain_root']=='HOTMAIL',1,0)\n",
        "df['orange']=np.where(df['email_domain_root']=='ORANGE',1,0)\n",
        "df['yahoo']=np.where(df['email_domain_root']=='YAHOO',1,0)\n",
        "\n",
        "df['other_mail']=np.where(df['email_domain_root']=='GMAIL',0,\n",
        "                              np.where(df['email_domain_root']=='HOTMAIL',0,\n",
        "                                      np.where(df['email_domain_root']=='ORANGE',0,\n",
        "                                               np.where(df['email_domain_root']=='YAHOO',0,\n",
        "                                                       np.where(df['email_domain_root'].isna()==True,0,1)))))"
      ],
      "execution_count": 636,
      "outputs": []
    },
    {
      "cell_type": "markdown",
      "metadata": {
        "id": "liSOs6hEm7wj"
      },
      "source": [
        "* card_subscription"
      ]
    },
    {
      "cell_type": "code",
      "metadata": {
        "colab": {
          "base_uri": "https://localhost:8080/"
        },
        "id": "gMgsZ9Lom7wj",
        "outputId": "ea12a1ed-84a5-408c-9483-4e5c519cf5bc"
      },
      "source": [
        "# Delete value that is not a date\n",
        "df['card_subscription']=np.where(df['card_subscription']=='RÉPUBLIQUE DÉMOCRATIQUE\"',np.nan,df['card_subscription'])\n",
        "\n",
        "# We change the date format\n",
        "df['card_subscription']=pd.to_datetime(df.card_subscription)\n",
        "\n",
        "# Min and max dates\n",
        "print(f'min: {df[\"card_subscription\"].min()}')\n",
        "print(f'max: {df[\"card_subscription\"].max()}')"
      ],
      "execution_count": 637,
      "outputs": [
        {
          "output_type": "stream",
          "name": "stdout",
          "text": [
            "min: 1996-10-12 00:00:00\n",
            "max: 2020-12-06 00:00:00\n"
          ]
        }
      ]
    },
    {
      "cell_type": "markdown",
      "metadata": {
        "id": "TpsZm0Hom7wk"
      },
      "source": [
        "* price_segmentation"
      ]
    },
    {
      "cell_type": "code",
      "metadata": {
        "id": "dLnTquddm7wk"
      },
      "source": [
        "# Change xx and 08 to missing value because they don't have any sense\n",
        "\n",
        "df['price_segmentation']=np.where(df['price_segmentation']=='xx',np.nan,df['price_segmentation'])\n",
        "df['price_segmentation']=np.where(df['price_segmentation']=='08',np.nan,df['price_segmentation'])"
      ],
      "execution_count": 638,
      "outputs": []
    },
    {
      "cell_type": "markdown",
      "metadata": {
        "id": "KVtjFT4PQiUG"
      },
      "source": [
        "# Data at the individual level"
      ]
    },
    {
      "cell_type": "markdown",
      "metadata": {
        "id": "3_NPDuC3Qm-Y"
      },
      "source": [
        "## Create new data at the individual level"
      ]
    },
    {
      "cell_type": "code",
      "metadata": {
        "colab": {
          "base_uri": "https://localhost:8080/"
        },
        "id": "5iMYr0i5Z1I0",
        "outputId": "aa65ed63-f32f-4889-e5dc-f7401fd82d34"
      },
      "source": [
        "# Checking if the price_segmentation changes for a customer\n",
        "tmp=df.groupby('id_client')[\"price_segmentation\"].nunique().reset_index()\n",
        "tmp[\"price_segmentation\"].astype(str).value_counts(normalize=True)*100"
      ],
      "execution_count": 639,
      "outputs": [
        {
          "output_type": "execute_result",
          "data": {
            "text/plain": [
              "0    60.373012\n",
              "1    39.626988\n",
              "Name: price_segmentation, dtype: float64"
            ]
          },
          "metadata": {},
          "execution_count": 639
        }
      ]
    },
    {
      "cell_type": "code",
      "metadata": {
        "colab": {
          "base_uri": "https://localhost:8080/"
        },
        "id": "higrr_Qcawzh",
        "outputId": "8c9845fb-25fe-41d4-a42f-478ef4bcab6f"
      },
      "source": [
        "# Checking if the email domain changes for a customer\n",
        "tmp=df.groupby('id_client')[\"email_domain\"].nunique().reset_index()\n",
        "tmp[\"email_domain\"].astype(str).value_counts(normalize=True)*100"
      ],
      "execution_count": 640,
      "outputs": [
        {
          "output_type": "execute_result",
          "data": {
            "text/plain": [
              "1    54.654665\n",
              "0    45.345335\n",
              "Name: email_domain, dtype: float64"
            ]
          },
          "metadata": {},
          "execution_count": 640
        }
      ]
    },
    {
      "cell_type": "code",
      "metadata": {
        "id": "iScwGUPzm7wl"
      },
      "source": [
        "# We duplicate the transaction_date so we can extract the recency after\n",
        "\n",
        "df['last_date']=df['transaction_date']"
      ],
      "execution_count": 641,
      "outputs": []
    },
    {
      "cell_type": "code",
      "metadata": {
        "id": "VbuXQh0rRyJr"
      },
      "source": [
        "# We create a list containing each variable to be grouped in a single row per customer\n",
        "\n",
        "aggregation_functions = {'transaction_date': 'count', 'last_date': 'max','item_count': 'sum', 'gross_amount' : 'sum',\n",
        "                         'discount_amount':'sum', 'basket_value': 'sum', 'payment_gift': 'sum', \n",
        "                         'payment_cheque': 'sum', 'payment_cash':'sum', 'gmail': 'first', 'hotmail': 'first',\n",
        "                         'yahoo': 'first', 'orange': 'first', 'other_mail': 'first',\n",
        "                         'payment_card':'sum',\n",
        "                         'civility':'first', 'zip_code': 'first', 'card_subscription': 'first', \n",
        "                         'multicard': 'sum','price_segmentation': 'first', 'Group':'first'}\n",
        "\n",
        "# We create a new data frame grouping by customer_id from the initial data set\n",
        "df_new = df.groupby('id_client').aggregate(aggregation_functions).reset_index()"
      ],
      "execution_count": 642,
      "outputs": []
    },
    {
      "cell_type": "code",
      "metadata": {
        "colab": {
          "base_uri": "https://localhost:8080/",
          "height": 0
        },
        "id": "tae6sEcWR2VH",
        "outputId": "e9c4422a-4edb-497c-d1c6-d59da4f90238"
      },
      "source": [
        "df_new.head(10)"
      ],
      "execution_count": 643,
      "outputs": [
        {
          "output_type": "execute_result",
          "data": {
            "text/html": [
              "<div>\n",
              "<style scoped>\n",
              "    .dataframe tbody tr th:only-of-type {\n",
              "        vertical-align: middle;\n",
              "    }\n",
              "\n",
              "    .dataframe tbody tr th {\n",
              "        vertical-align: top;\n",
              "    }\n",
              "\n",
              "    .dataframe thead th {\n",
              "        text-align: right;\n",
              "    }\n",
              "</style>\n",
              "<table border=\"1\" class=\"dataframe\">\n",
              "  <thead>\n",
              "    <tr style=\"text-align: right;\">\n",
              "      <th></th>\n",
              "      <th>id_client</th>\n",
              "      <th>transaction_date</th>\n",
              "      <th>last_date</th>\n",
              "      <th>item_count</th>\n",
              "      <th>gross_amount</th>\n",
              "      <th>discount_amount</th>\n",
              "      <th>basket_value</th>\n",
              "      <th>payment_gift</th>\n",
              "      <th>payment_cheque</th>\n",
              "      <th>payment_cash</th>\n",
              "      <th>gmail</th>\n",
              "      <th>hotmail</th>\n",
              "      <th>yahoo</th>\n",
              "      <th>orange</th>\n",
              "      <th>other_mail</th>\n",
              "      <th>payment_card</th>\n",
              "      <th>civility</th>\n",
              "      <th>zip_code</th>\n",
              "      <th>card_subscription</th>\n",
              "      <th>multicard</th>\n",
              "      <th>price_segmentation</th>\n",
              "      <th>Group</th>\n",
              "    </tr>\n",
              "  </thead>\n",
              "  <tbody>\n",
              "    <tr>\n",
              "      <th>0</th>\n",
              "      <td>291</td>\n",
              "      <td>55</td>\n",
              "      <td>2020-07-31 19:52:00+00:00</td>\n",
              "      <td>1499.0</td>\n",
              "      <td>4151.43</td>\n",
              "      <td>119.99</td>\n",
              "      <td>4031.44</td>\n",
              "      <td>5</td>\n",
              "      <td>0</td>\n",
              "      <td>0</td>\n",
              "      <td>0</td>\n",
              "      <td>0</td>\n",
              "      <td>0</td>\n",
              "      <td>0</td>\n",
              "      <td>0</td>\n",
              "      <td>55</td>\n",
              "      <td>MME</td>\n",
              "      <td>92220</td>\n",
              "      <td>NaT</td>\n",
              "      <td>0.0</td>\n",
              "      <td>Quali</td>\n",
              "      <td>TRAIN</td>\n",
              "    </tr>\n",
              "    <tr>\n",
              "      <th>1</th>\n",
              "      <td>365</td>\n",
              "      <td>25</td>\n",
              "      <td>2020-06-09 11:53:00+00:00</td>\n",
              "      <td>140.0</td>\n",
              "      <td>390.05</td>\n",
              "      <td>1.97</td>\n",
              "      <td>388.08</td>\n",
              "      <td>1</td>\n",
              "      <td>0</td>\n",
              "      <td>11</td>\n",
              "      <td>1</td>\n",
              "      <td>0</td>\n",
              "      <td>0</td>\n",
              "      <td>0</td>\n",
              "      <td>0</td>\n",
              "      <td>14</td>\n",
              "      <td>M</td>\n",
              "      <td>75011</td>\n",
              "      <td>NaT</td>\n",
              "      <td>0.0</td>\n",
              "      <td>Quali</td>\n",
              "      <td>TRAIN</td>\n",
              "    </tr>\n",
              "    <tr>\n",
              "      <th>2</th>\n",
              "      <td>1800</td>\n",
              "      <td>78</td>\n",
              "      <td>2020-07-25 09:43:00+00:00</td>\n",
              "      <td>1961.0</td>\n",
              "      <td>7900.33</td>\n",
              "      <td>879.23</td>\n",
              "      <td>7021.10</td>\n",
              "      <td>21</td>\n",
              "      <td>0</td>\n",
              "      <td>3</td>\n",
              "      <td>0</td>\n",
              "      <td>0</td>\n",
              "      <td>0</td>\n",
              "      <td>0</td>\n",
              "      <td>1</td>\n",
              "      <td>75</td>\n",
              "      <td>MME</td>\n",
              "      <td>93230</td>\n",
              "      <td>NaT</td>\n",
              "      <td>0.0</td>\n",
              "      <td>Mixte</td>\n",
              "      <td>TRAIN</td>\n",
              "    </tr>\n",
              "    <tr>\n",
              "      <th>3</th>\n",
              "      <td>2098</td>\n",
              "      <td>36</td>\n",
              "      <td>2020-07-23 10:58:00+00:00</td>\n",
              "      <td>577.0</td>\n",
              "      <td>1697.54</td>\n",
              "      <td>52.98</td>\n",
              "      <td>1644.56</td>\n",
              "      <td>6</td>\n",
              "      <td>3</td>\n",
              "      <td>7</td>\n",
              "      <td>0</td>\n",
              "      <td>0</td>\n",
              "      <td>0</td>\n",
              "      <td>0</td>\n",
              "      <td>0</td>\n",
              "      <td>26</td>\n",
              "      <td>MME</td>\n",
              "      <td>38130</td>\n",
              "      <td>NaT</td>\n",
              "      <td>0.0</td>\n",
              "      <td>Quali</td>\n",
              "      <td>TEST</td>\n",
              "    </tr>\n",
              "    <tr>\n",
              "      <th>4</th>\n",
              "      <td>3399</td>\n",
              "      <td>103</td>\n",
              "      <td>2020-07-31 11:54:00+00:00</td>\n",
              "      <td>1372.0</td>\n",
              "      <td>4285.57</td>\n",
              "      <td>57.11</td>\n",
              "      <td>4228.46</td>\n",
              "      <td>1</td>\n",
              "      <td>16</td>\n",
              "      <td>8</td>\n",
              "      <td>0</td>\n",
              "      <td>0</td>\n",
              "      <td>0</td>\n",
              "      <td>0</td>\n",
              "      <td>0</td>\n",
              "      <td>81</td>\n",
              "      <td>MME</td>\n",
              "      <td>38130</td>\n",
              "      <td>NaT</td>\n",
              "      <td>0.0</td>\n",
              "      <td>Quali</td>\n",
              "      <td>TEST</td>\n",
              "    </tr>\n",
              "    <tr>\n",
              "      <th>5</th>\n",
              "      <td>3471</td>\n",
              "      <td>60</td>\n",
              "      <td>2020-03-14 11:17:00+00:00</td>\n",
              "      <td>406.0</td>\n",
              "      <td>1203.76</td>\n",
              "      <td>8.53</td>\n",
              "      <td>1195.23</td>\n",
              "      <td>0</td>\n",
              "      <td>0</td>\n",
              "      <td>53</td>\n",
              "      <td>0</td>\n",
              "      <td>0</td>\n",
              "      <td>0</td>\n",
              "      <td>0</td>\n",
              "      <td>0</td>\n",
              "      <td>7</td>\n",
              "      <td>MME</td>\n",
              "      <td>93500</td>\n",
              "      <td>NaT</td>\n",
              "      <td>0.0</td>\n",
              "      <td>Mixte</td>\n",
              "      <td>TRAIN</td>\n",
              "    </tr>\n",
              "    <tr>\n",
              "      <th>6</th>\n",
              "      <td>3712</td>\n",
              "      <td>80</td>\n",
              "      <td>2020-07-29 12:31:00+00:00</td>\n",
              "      <td>834.0</td>\n",
              "      <td>2234.37</td>\n",
              "      <td>195.78</td>\n",
              "      <td>2038.59</td>\n",
              "      <td>1</td>\n",
              "      <td>0</td>\n",
              "      <td>1</td>\n",
              "      <td>0</td>\n",
              "      <td>0</td>\n",
              "      <td>0</td>\n",
              "      <td>0</td>\n",
              "      <td>1</td>\n",
              "      <td>74</td>\n",
              "      <td>M</td>\n",
              "      <td>75011</td>\n",
              "      <td>NaT</td>\n",
              "      <td>0.0</td>\n",
              "      <td>Mixte</td>\n",
              "      <td>TEST</td>\n",
              "    </tr>\n",
              "    <tr>\n",
              "      <th>7</th>\n",
              "      <td>3961</td>\n",
              "      <td>3</td>\n",
              "      <td>2019-09-25 19:37:00+00:00</td>\n",
              "      <td>131.0</td>\n",
              "      <td>415.34</td>\n",
              "      <td>1.62</td>\n",
              "      <td>413.72</td>\n",
              "      <td>0</td>\n",
              "      <td>0</td>\n",
              "      <td>1</td>\n",
              "      <td>0</td>\n",
              "      <td>0</td>\n",
              "      <td>0</td>\n",
              "      <td>0</td>\n",
              "      <td>1</td>\n",
              "      <td>2</td>\n",
              "      <td>MME</td>\n",
              "      <td>75013</td>\n",
              "      <td>NaT</td>\n",
              "      <td>0.0</td>\n",
              "      <td>None</td>\n",
              "      <td>TRAIN</td>\n",
              "    </tr>\n",
              "    <tr>\n",
              "      <th>8</th>\n",
              "      <td>4146</td>\n",
              "      <td>24</td>\n",
              "      <td>2020-07-10 19:39:00+00:00</td>\n",
              "      <td>618.0</td>\n",
              "      <td>1725.98</td>\n",
              "      <td>20.01</td>\n",
              "      <td>1705.97</td>\n",
              "      <td>1</td>\n",
              "      <td>0</td>\n",
              "      <td>2</td>\n",
              "      <td>0</td>\n",
              "      <td>0</td>\n",
              "      <td>0</td>\n",
              "      <td>0</td>\n",
              "      <td>0</td>\n",
              "      <td>22</td>\n",
              "      <td>MME</td>\n",
              "      <td>06160</td>\n",
              "      <td>NaT</td>\n",
              "      <td>0.0</td>\n",
              "      <td>Mixte</td>\n",
              "      <td>TRAIN</td>\n",
              "    </tr>\n",
              "    <tr>\n",
              "      <th>9</th>\n",
              "      <td>4409</td>\n",
              "      <td>4</td>\n",
              "      <td>2020-06-12 16:55:00+00:00</td>\n",
              "      <td>32.0</td>\n",
              "      <td>155.19</td>\n",
              "      <td>0.00</td>\n",
              "      <td>155.19</td>\n",
              "      <td>0</td>\n",
              "      <td>0</td>\n",
              "      <td>0</td>\n",
              "      <td>0</td>\n",
              "      <td>0</td>\n",
              "      <td>0</td>\n",
              "      <td>0</td>\n",
              "      <td>0</td>\n",
              "      <td>4</td>\n",
              "      <td>MME</td>\n",
              "      <td>29430</td>\n",
              "      <td>NaT</td>\n",
              "      <td>0.0</td>\n",
              "      <td>Mixte</td>\n",
              "      <td>TRAIN</td>\n",
              "    </tr>\n",
              "  </tbody>\n",
              "</table>\n",
              "</div>"
            ],
            "text/plain": [
              "   id_client  transaction_date  ... price_segmentation  Group\n",
              "0        291                55  ...              Quali  TRAIN\n",
              "1        365                25  ...              Quali  TRAIN\n",
              "2       1800                78  ...              Mixte  TRAIN\n",
              "3       2098                36  ...              Quali   TEST\n",
              "4       3399               103  ...              Quali   TEST\n",
              "5       3471                60  ...              Mixte  TRAIN\n",
              "6       3712                80  ...              Mixte   TEST\n",
              "7       3961                 3  ...               None  TRAIN\n",
              "8       4146                24  ...              Mixte  TRAIN\n",
              "9       4409                 4  ...              Mixte  TRAIN\n",
              "\n",
              "[10 rows x 22 columns]"
            ]
          },
          "metadata": {},
          "execution_count": 643
        }
      ]
    },
    {
      "cell_type": "code",
      "metadata": {
        "colab": {
          "base_uri": "https://localhost:8080/"
        },
        "id": "jsEksAe0dAHH",
        "outputId": "b6cfcf3d-9930-498c-d7e8-950deffc56ce"
      },
      "source": [
        "df_new.shape"
      ],
      "execution_count": 644,
      "outputs": [
        {
          "output_type": "execute_result",
          "data": {
            "text/plain": [
              "(200530, 22)"
            ]
          },
          "metadata": {},
          "execution_count": 644
        }
      ]
    },
    {
      "cell_type": "code",
      "metadata": {
        "colab": {
          "base_uri": "https://localhost:8080/",
          "height": 0
        },
        "id": "c-M2xTgIThxM",
        "outputId": "e8ea9cb2-45d4-4593-930c-f964e9f4149f"
      },
      "source": [
        "# Get number of different stores in which the customers went\n",
        "stores = df.groupby('id_client')[\"stores_nb\"].nunique().reset_index()\n",
        "stores"
      ],
      "execution_count": 645,
      "outputs": [
        {
          "output_type": "execute_result",
          "data": {
            "text/html": [
              "<div>\n",
              "<style scoped>\n",
              "    .dataframe tbody tr th:only-of-type {\n",
              "        vertical-align: middle;\n",
              "    }\n",
              "\n",
              "    .dataframe tbody tr th {\n",
              "        vertical-align: top;\n",
              "    }\n",
              "\n",
              "    .dataframe thead th {\n",
              "        text-align: right;\n",
              "    }\n",
              "</style>\n",
              "<table border=\"1\" class=\"dataframe\">\n",
              "  <thead>\n",
              "    <tr style=\"text-align: right;\">\n",
              "      <th></th>\n",
              "      <th>id_client</th>\n",
              "      <th>stores_nb</th>\n",
              "    </tr>\n",
              "  </thead>\n",
              "  <tbody>\n",
              "    <tr>\n",
              "      <th>0</th>\n",
              "      <td>291</td>\n",
              "      <td>1</td>\n",
              "    </tr>\n",
              "    <tr>\n",
              "      <th>1</th>\n",
              "      <td>365</td>\n",
              "      <td>1</td>\n",
              "    </tr>\n",
              "    <tr>\n",
              "      <th>2</th>\n",
              "      <td>1800</td>\n",
              "      <td>4</td>\n",
              "    </tr>\n",
              "    <tr>\n",
              "      <th>3</th>\n",
              "      <td>2098</td>\n",
              "      <td>1</td>\n",
              "    </tr>\n",
              "    <tr>\n",
              "      <th>4</th>\n",
              "      <td>3399</td>\n",
              "      <td>1</td>\n",
              "    </tr>\n",
              "    <tr>\n",
              "      <th>...</th>\n",
              "      <td>...</td>\n",
              "      <td>...</td>\n",
              "    </tr>\n",
              "    <tr>\n",
              "      <th>200525</th>\n",
              "      <td>88010343</td>\n",
              "      <td>2</td>\n",
              "    </tr>\n",
              "    <tr>\n",
              "      <th>200526</th>\n",
              "      <td>88010368</td>\n",
              "      <td>1</td>\n",
              "    </tr>\n",
              "    <tr>\n",
              "      <th>200527</th>\n",
              "      <td>88010370</td>\n",
              "      <td>1</td>\n",
              "    </tr>\n",
              "    <tr>\n",
              "      <th>200528</th>\n",
              "      <td>88010377</td>\n",
              "      <td>1</td>\n",
              "    </tr>\n",
              "    <tr>\n",
              "      <th>200529</th>\n",
              "      <td>88010403</td>\n",
              "      <td>2</td>\n",
              "    </tr>\n",
              "  </tbody>\n",
              "</table>\n",
              "<p>200530 rows × 2 columns</p>\n",
              "</div>"
            ],
            "text/plain": [
              "        id_client  stores_nb\n",
              "0             291          1\n",
              "1             365          1\n",
              "2            1800          4\n",
              "3            2098          1\n",
              "4            3399          1\n",
              "...           ...        ...\n",
              "200525   88010343          2\n",
              "200526   88010368          1\n",
              "200527   88010370          1\n",
              "200528   88010377          1\n",
              "200529   88010403          2\n",
              "\n",
              "[200530 rows x 2 columns]"
            ]
          },
          "metadata": {},
          "execution_count": 645
        }
      ]
    },
    {
      "cell_type": "code",
      "metadata": {
        "colab": {
          "base_uri": "https://localhost:8080/",
          "height": 0
        },
        "id": "cg283n8qUva-",
        "outputId": "32002ab8-0b42-4510-e128-81db874a5ae0"
      },
      "source": [
        "# Merge datasets to have the stores_nb \n",
        "df_ind=stores.merge(df_new, on='id_client', how='left')\n",
        "df_ind"
      ],
      "execution_count": 646,
      "outputs": [
        {
          "output_type": "execute_result",
          "data": {
            "text/html": [
              "<div>\n",
              "<style scoped>\n",
              "    .dataframe tbody tr th:only-of-type {\n",
              "        vertical-align: middle;\n",
              "    }\n",
              "\n",
              "    .dataframe tbody tr th {\n",
              "        vertical-align: top;\n",
              "    }\n",
              "\n",
              "    .dataframe thead th {\n",
              "        text-align: right;\n",
              "    }\n",
              "</style>\n",
              "<table border=\"1\" class=\"dataframe\">\n",
              "  <thead>\n",
              "    <tr style=\"text-align: right;\">\n",
              "      <th></th>\n",
              "      <th>id_client</th>\n",
              "      <th>stores_nb</th>\n",
              "      <th>transaction_date</th>\n",
              "      <th>last_date</th>\n",
              "      <th>item_count</th>\n",
              "      <th>gross_amount</th>\n",
              "      <th>discount_amount</th>\n",
              "      <th>basket_value</th>\n",
              "      <th>payment_gift</th>\n",
              "      <th>payment_cheque</th>\n",
              "      <th>payment_cash</th>\n",
              "      <th>gmail</th>\n",
              "      <th>hotmail</th>\n",
              "      <th>yahoo</th>\n",
              "      <th>orange</th>\n",
              "      <th>other_mail</th>\n",
              "      <th>payment_card</th>\n",
              "      <th>civility</th>\n",
              "      <th>zip_code</th>\n",
              "      <th>card_subscription</th>\n",
              "      <th>multicard</th>\n",
              "      <th>price_segmentation</th>\n",
              "      <th>Group</th>\n",
              "    </tr>\n",
              "  </thead>\n",
              "  <tbody>\n",
              "    <tr>\n",
              "      <th>0</th>\n",
              "      <td>291</td>\n",
              "      <td>1</td>\n",
              "      <td>55</td>\n",
              "      <td>2020-07-31 19:52:00+00:00</td>\n",
              "      <td>1499.0</td>\n",
              "      <td>4151.43</td>\n",
              "      <td>119.99</td>\n",
              "      <td>4031.44</td>\n",
              "      <td>5</td>\n",
              "      <td>0</td>\n",
              "      <td>0</td>\n",
              "      <td>0</td>\n",
              "      <td>0</td>\n",
              "      <td>0</td>\n",
              "      <td>0</td>\n",
              "      <td>0</td>\n",
              "      <td>55</td>\n",
              "      <td>MME</td>\n",
              "      <td>92220</td>\n",
              "      <td>NaT</td>\n",
              "      <td>0.0</td>\n",
              "      <td>Quali</td>\n",
              "      <td>TRAIN</td>\n",
              "    </tr>\n",
              "    <tr>\n",
              "      <th>1</th>\n",
              "      <td>365</td>\n",
              "      <td>1</td>\n",
              "      <td>25</td>\n",
              "      <td>2020-06-09 11:53:00+00:00</td>\n",
              "      <td>140.0</td>\n",
              "      <td>390.05</td>\n",
              "      <td>1.97</td>\n",
              "      <td>388.08</td>\n",
              "      <td>1</td>\n",
              "      <td>0</td>\n",
              "      <td>11</td>\n",
              "      <td>1</td>\n",
              "      <td>0</td>\n",
              "      <td>0</td>\n",
              "      <td>0</td>\n",
              "      <td>0</td>\n",
              "      <td>14</td>\n",
              "      <td>M</td>\n",
              "      <td>75011</td>\n",
              "      <td>NaT</td>\n",
              "      <td>0.0</td>\n",
              "      <td>Quali</td>\n",
              "      <td>TRAIN</td>\n",
              "    </tr>\n",
              "    <tr>\n",
              "      <th>2</th>\n",
              "      <td>1800</td>\n",
              "      <td>4</td>\n",
              "      <td>78</td>\n",
              "      <td>2020-07-25 09:43:00+00:00</td>\n",
              "      <td>1961.0</td>\n",
              "      <td>7900.33</td>\n",
              "      <td>879.23</td>\n",
              "      <td>7021.10</td>\n",
              "      <td>21</td>\n",
              "      <td>0</td>\n",
              "      <td>3</td>\n",
              "      <td>0</td>\n",
              "      <td>0</td>\n",
              "      <td>0</td>\n",
              "      <td>0</td>\n",
              "      <td>1</td>\n",
              "      <td>75</td>\n",
              "      <td>MME</td>\n",
              "      <td>93230</td>\n",
              "      <td>NaT</td>\n",
              "      <td>0.0</td>\n",
              "      <td>Mixte</td>\n",
              "      <td>TRAIN</td>\n",
              "    </tr>\n",
              "    <tr>\n",
              "      <th>3</th>\n",
              "      <td>2098</td>\n",
              "      <td>1</td>\n",
              "      <td>36</td>\n",
              "      <td>2020-07-23 10:58:00+00:00</td>\n",
              "      <td>577.0</td>\n",
              "      <td>1697.54</td>\n",
              "      <td>52.98</td>\n",
              "      <td>1644.56</td>\n",
              "      <td>6</td>\n",
              "      <td>3</td>\n",
              "      <td>7</td>\n",
              "      <td>0</td>\n",
              "      <td>0</td>\n",
              "      <td>0</td>\n",
              "      <td>0</td>\n",
              "      <td>0</td>\n",
              "      <td>26</td>\n",
              "      <td>MME</td>\n",
              "      <td>38130</td>\n",
              "      <td>NaT</td>\n",
              "      <td>0.0</td>\n",
              "      <td>Quali</td>\n",
              "      <td>TEST</td>\n",
              "    </tr>\n",
              "    <tr>\n",
              "      <th>4</th>\n",
              "      <td>3399</td>\n",
              "      <td>1</td>\n",
              "      <td>103</td>\n",
              "      <td>2020-07-31 11:54:00+00:00</td>\n",
              "      <td>1372.0</td>\n",
              "      <td>4285.57</td>\n",
              "      <td>57.11</td>\n",
              "      <td>4228.46</td>\n",
              "      <td>1</td>\n",
              "      <td>16</td>\n",
              "      <td>8</td>\n",
              "      <td>0</td>\n",
              "      <td>0</td>\n",
              "      <td>0</td>\n",
              "      <td>0</td>\n",
              "      <td>0</td>\n",
              "      <td>81</td>\n",
              "      <td>MME</td>\n",
              "      <td>38130</td>\n",
              "      <td>NaT</td>\n",
              "      <td>0.0</td>\n",
              "      <td>Quali</td>\n",
              "      <td>TEST</td>\n",
              "    </tr>\n",
              "    <tr>\n",
              "      <th>...</th>\n",
              "      <td>...</td>\n",
              "      <td>...</td>\n",
              "      <td>...</td>\n",
              "      <td>...</td>\n",
              "      <td>...</td>\n",
              "      <td>...</td>\n",
              "      <td>...</td>\n",
              "      <td>...</td>\n",
              "      <td>...</td>\n",
              "      <td>...</td>\n",
              "      <td>...</td>\n",
              "      <td>...</td>\n",
              "      <td>...</td>\n",
              "      <td>...</td>\n",
              "      <td>...</td>\n",
              "      <td>...</td>\n",
              "      <td>...</td>\n",
              "      <td>...</td>\n",
              "      <td>...</td>\n",
              "      <td>...</td>\n",
              "      <td>...</td>\n",
              "      <td>...</td>\n",
              "      <td>...</td>\n",
              "    </tr>\n",
              "    <tr>\n",
              "      <th>200525</th>\n",
              "      <td>88010343</td>\n",
              "      <td>2</td>\n",
              "      <td>4</td>\n",
              "      <td>2019-12-04 15:29:00+00:00</td>\n",
              "      <td>39.0</td>\n",
              "      <td>107.12</td>\n",
              "      <td>0.68</td>\n",
              "      <td>106.44</td>\n",
              "      <td>0</td>\n",
              "      <td>0</td>\n",
              "      <td>0</td>\n",
              "      <td>0</td>\n",
              "      <td>0</td>\n",
              "      <td>0</td>\n",
              "      <td>0</td>\n",
              "      <td>0</td>\n",
              "      <td>4</td>\n",
              "      <td>MME</td>\n",
              "      <td>42140</td>\n",
              "      <td>NaT</td>\n",
              "      <td>0.0</td>\n",
              "      <td>Mixte</td>\n",
              "      <td>TEST</td>\n",
              "    </tr>\n",
              "    <tr>\n",
              "      <th>200526</th>\n",
              "      <td>88010368</td>\n",
              "      <td>1</td>\n",
              "      <td>11</td>\n",
              "      <td>2020-07-11 18:39:00+00:00</td>\n",
              "      <td>256.0</td>\n",
              "      <td>973.93</td>\n",
              "      <td>25.83</td>\n",
              "      <td>948.10</td>\n",
              "      <td>1</td>\n",
              "      <td>0</td>\n",
              "      <td>0</td>\n",
              "      <td>0</td>\n",
              "      <td>0</td>\n",
              "      <td>0</td>\n",
              "      <td>0</td>\n",
              "      <td>0</td>\n",
              "      <td>11</td>\n",
              "      <td>MME</td>\n",
              "      <td>70300</td>\n",
              "      <td>NaT</td>\n",
              "      <td>0.0</td>\n",
              "      <td>Mixte</td>\n",
              "      <td>TRAIN</td>\n",
              "    </tr>\n",
              "    <tr>\n",
              "      <th>200527</th>\n",
              "      <td>88010370</td>\n",
              "      <td>1</td>\n",
              "      <td>24</td>\n",
              "      <td>2020-07-14 11:54:00+00:00</td>\n",
              "      <td>619.0</td>\n",
              "      <td>1556.50</td>\n",
              "      <td>39.06</td>\n",
              "      <td>1517.44</td>\n",
              "      <td>0</td>\n",
              "      <td>10</td>\n",
              "      <td>6</td>\n",
              "      <td>0</td>\n",
              "      <td>0</td>\n",
              "      <td>0</td>\n",
              "      <td>0</td>\n",
              "      <td>0</td>\n",
              "      <td>8</td>\n",
              "      <td>MME</td>\n",
              "      <td>14140</td>\n",
              "      <td>NaT</td>\n",
              "      <td>0.0</td>\n",
              "      <td>Access</td>\n",
              "      <td>TRAIN</td>\n",
              "    </tr>\n",
              "    <tr>\n",
              "      <th>200528</th>\n",
              "      <td>88010377</td>\n",
              "      <td>1</td>\n",
              "      <td>4</td>\n",
              "      <td>2020-05-22 12:17:00+00:00</td>\n",
              "      <td>33.0</td>\n",
              "      <td>110.50</td>\n",
              "      <td>8.12</td>\n",
              "      <td>102.38</td>\n",
              "      <td>0</td>\n",
              "      <td>0</td>\n",
              "      <td>2</td>\n",
              "      <td>0</td>\n",
              "      <td>0</td>\n",
              "      <td>0</td>\n",
              "      <td>0</td>\n",
              "      <td>1</td>\n",
              "      <td>2</td>\n",
              "      <td>MME</td>\n",
              "      <td>56300</td>\n",
              "      <td>NaT</td>\n",
              "      <td>0.0</td>\n",
              "      <td>Mixte</td>\n",
              "      <td>TEST</td>\n",
              "    </tr>\n",
              "    <tr>\n",
              "      <th>200529</th>\n",
              "      <td>88010403</td>\n",
              "      <td>2</td>\n",
              "      <td>3</td>\n",
              "      <td>2019-12-14 10:59:00+00:00</td>\n",
              "      <td>11.0</td>\n",
              "      <td>22.17</td>\n",
              "      <td>0.78</td>\n",
              "      <td>21.39</td>\n",
              "      <td>0</td>\n",
              "      <td>0</td>\n",
              "      <td>0</td>\n",
              "      <td>0</td>\n",
              "      <td>1</td>\n",
              "      <td>0</td>\n",
              "      <td>0</td>\n",
              "      <td>0</td>\n",
              "      <td>2</td>\n",
              "      <td>MME</td>\n",
              "      <td>69370</td>\n",
              "      <td>NaT</td>\n",
              "      <td>0.0</td>\n",
              "      <td>Mixte</td>\n",
              "      <td>TRAIN</td>\n",
              "    </tr>\n",
              "  </tbody>\n",
              "</table>\n",
              "<p>200530 rows × 23 columns</p>\n",
              "</div>"
            ],
            "text/plain": [
              "        id_client  stores_nb  ...  price_segmentation  Group\n",
              "0             291          1  ...               Quali  TRAIN\n",
              "1             365          1  ...               Quali  TRAIN\n",
              "2            1800          4  ...               Mixte  TRAIN\n",
              "3            2098          1  ...               Quali   TEST\n",
              "4            3399          1  ...               Quali   TEST\n",
              "...           ...        ...  ...                 ...    ...\n",
              "200525   88010343          2  ...               Mixte   TEST\n",
              "200526   88010368          1  ...               Mixte  TRAIN\n",
              "200527   88010370          1  ...              Access  TRAIN\n",
              "200528   88010377          1  ...               Mixte   TEST\n",
              "200529   88010403          2  ...               Mixte  TRAIN\n",
              "\n",
              "[200530 rows x 23 columns]"
            ]
          },
          "metadata": {},
          "execution_count": 646
        }
      ]
    },
    {
      "cell_type": "markdown",
      "metadata": {
        "id": "gXipoMdjXW4G"
      },
      "source": [
        "## Summary statistics"
      ]
    },
    {
      "cell_type": "code",
      "metadata": {
        "colab": {
          "base_uri": "https://localhost:8080/",
          "height": 317
        },
        "id": "diimw7XgZlmj",
        "outputId": "e3328795-6991-456b-9505-5729168a64bc"
      },
      "source": [
        "df_ind.describe()"
      ],
      "execution_count": 647,
      "outputs": [
        {
          "output_type": "execute_result",
          "data": {
            "text/html": [
              "<div>\n",
              "<style scoped>\n",
              "    .dataframe tbody tr th:only-of-type {\n",
              "        vertical-align: middle;\n",
              "    }\n",
              "\n",
              "    .dataframe tbody tr th {\n",
              "        vertical-align: top;\n",
              "    }\n",
              "\n",
              "    .dataframe thead th {\n",
              "        text-align: right;\n",
              "    }\n",
              "</style>\n",
              "<table border=\"1\" class=\"dataframe\">\n",
              "  <thead>\n",
              "    <tr style=\"text-align: right;\">\n",
              "      <th></th>\n",
              "      <th>id_client</th>\n",
              "      <th>stores_nb</th>\n",
              "      <th>transaction_date</th>\n",
              "      <th>item_count</th>\n",
              "      <th>gross_amount</th>\n",
              "      <th>discount_amount</th>\n",
              "      <th>basket_value</th>\n",
              "      <th>payment_gift</th>\n",
              "      <th>payment_cheque</th>\n",
              "      <th>payment_cash</th>\n",
              "      <th>gmail</th>\n",
              "      <th>hotmail</th>\n",
              "      <th>yahoo</th>\n",
              "      <th>orange</th>\n",
              "      <th>other_mail</th>\n",
              "      <th>payment_card</th>\n",
              "      <th>multicard</th>\n",
              "    </tr>\n",
              "  </thead>\n",
              "  <tbody>\n",
              "    <tr>\n",
              "      <th>count</th>\n",
              "      <td>2.005300e+05</td>\n",
              "      <td>200530.000000</td>\n",
              "      <td>200530.000000</td>\n",
              "      <td>200530.000000</td>\n",
              "      <td>200530.000000</td>\n",
              "      <td>200530.000000</td>\n",
              "      <td>200530.000000</td>\n",
              "      <td>200530.000000</td>\n",
              "      <td>200530.000000</td>\n",
              "      <td>200530.000000</td>\n",
              "      <td>200530.000000</td>\n",
              "      <td>200530.000000</td>\n",
              "      <td>200530.000000</td>\n",
              "      <td>200530.000000</td>\n",
              "      <td>200530.000000</td>\n",
              "      <td>200530.000000</td>\n",
              "      <td>200530.000000</td>\n",
              "    </tr>\n",
              "    <tr>\n",
              "      <th>mean</th>\n",
              "      <td>3.754481e+07</td>\n",
              "      <td>1.484596</td>\n",
              "      <td>20.560604</td>\n",
              "      <td>328.418955</td>\n",
              "      <td>1040.718652</td>\n",
              "      <td>72.039890</td>\n",
              "      <td>968.805387</td>\n",
              "      <td>1.423049</td>\n",
              "      <td>0.686725</td>\n",
              "      <td>4.674562</td>\n",
              "      <td>0.151184</td>\n",
              "      <td>0.106458</td>\n",
              "      <td>0.042398</td>\n",
              "      <td>0.062405</td>\n",
              "      <td>0.184077</td>\n",
              "      <td>13.957413</td>\n",
              "      <td>1.290430</td>\n",
              "    </tr>\n",
              "    <tr>\n",
              "      <th>std</th>\n",
              "      <td>2.602165e+07</td>\n",
              "      <td>0.923261</td>\n",
              "      <td>36.330442</td>\n",
              "      <td>585.688976</td>\n",
              "      <td>2039.368367</td>\n",
              "      <td>322.484095</td>\n",
              "      <td>1787.779199</td>\n",
              "      <td>4.875887</td>\n",
              "      <td>4.363767</td>\n",
              "      <td>16.612051</td>\n",
              "      <td>0.358229</td>\n",
              "      <td>0.308424</td>\n",
              "      <td>0.201495</td>\n",
              "      <td>0.241890</td>\n",
              "      <td>0.387548</td>\n",
              "      <td>23.954682</td>\n",
              "      <td>14.128515</td>\n",
              "    </tr>\n",
              "    <tr>\n",
              "      <th>min</th>\n",
              "      <td>2.910000e+02</td>\n",
              "      <td>1.000000</td>\n",
              "      <td>1.000000</td>\n",
              "      <td>0.000000</td>\n",
              "      <td>0.000000</td>\n",
              "      <td>0.000000</td>\n",
              "      <td>0.000000</td>\n",
              "      <td>0.000000</td>\n",
              "      <td>0.000000</td>\n",
              "      <td>0.000000</td>\n",
              "      <td>0.000000</td>\n",
              "      <td>0.000000</td>\n",
              "      <td>0.000000</td>\n",
              "      <td>0.000000</td>\n",
              "      <td>0.000000</td>\n",
              "      <td>0.000000</td>\n",
              "      <td>0.000000</td>\n",
              "    </tr>\n",
              "    <tr>\n",
              "      <th>25%</th>\n",
              "      <td>1.797049e+07</td>\n",
              "      <td>1.000000</td>\n",
              "      <td>2.000000</td>\n",
              "      <td>28.000000</td>\n",
              "      <td>94.360000</td>\n",
              "      <td>0.000000</td>\n",
              "      <td>90.590000</td>\n",
              "      <td>0.000000</td>\n",
              "      <td>0.000000</td>\n",
              "      <td>0.000000</td>\n",
              "      <td>0.000000</td>\n",
              "      <td>0.000000</td>\n",
              "      <td>0.000000</td>\n",
              "      <td>0.000000</td>\n",
              "      <td>0.000000</td>\n",
              "      <td>1.000000</td>\n",
              "      <td>0.000000</td>\n",
              "    </tr>\n",
              "    <tr>\n",
              "      <th>50%</th>\n",
              "      <td>3.396942e+07</td>\n",
              "      <td>1.000000</td>\n",
              "      <td>8.000000</td>\n",
              "      <td>105.000000</td>\n",
              "      <td>344.435000</td>\n",
              "      <td>8.000000</td>\n",
              "      <td>330.065000</td>\n",
              "      <td>0.000000</td>\n",
              "      <td>0.000000</td>\n",
              "      <td>1.000000</td>\n",
              "      <td>0.000000</td>\n",
              "      <td>0.000000</td>\n",
              "      <td>0.000000</td>\n",
              "      <td>0.000000</td>\n",
              "      <td>0.000000</td>\n",
              "      <td>5.000000</td>\n",
              "      <td>0.000000</td>\n",
              "    </tr>\n",
              "    <tr>\n",
              "      <th>75%</th>\n",
              "      <td>3.896918e+07</td>\n",
              "      <td>2.000000</td>\n",
              "      <td>25.000000</td>\n",
              "      <td>367.000000</td>\n",
              "      <td>1136.490000</td>\n",
              "      <td>40.770000</td>\n",
              "      <td>1085.972500</td>\n",
              "      <td>1.000000</td>\n",
              "      <td>0.000000</td>\n",
              "      <td>3.000000</td>\n",
              "      <td>0.000000</td>\n",
              "      <td>0.000000</td>\n",
              "      <td>0.000000</td>\n",
              "      <td>0.000000</td>\n",
              "      <td>0.000000</td>\n",
              "      <td>16.000000</td>\n",
              "      <td>0.000000</td>\n",
              "    </tr>\n",
              "    <tr>\n",
              "      <th>max</th>\n",
              "      <td>8.801040e+07</td>\n",
              "      <td>27.000000</td>\n",
              "      <td>3019.000000</td>\n",
              "      <td>29013.000000</td>\n",
              "      <td>148949.480000</td>\n",
              "      <td>36123.890000</td>\n",
              "      <td>119978.500000</td>\n",
              "      <td>543.000000</td>\n",
              "      <td>177.000000</td>\n",
              "      <td>1905.000000</td>\n",
              "      <td>1.000000</td>\n",
              "      <td>1.000000</td>\n",
              "      <td>1.000000</td>\n",
              "      <td>1.000000</td>\n",
              "      <td>1.000000</td>\n",
              "      <td>1038.000000</td>\n",
              "      <td>2456.000000</td>\n",
              "    </tr>\n",
              "  </tbody>\n",
              "</table>\n",
              "</div>"
            ],
            "text/plain": [
              "          id_client      stores_nb  ...   payment_card      multicard\n",
              "count  2.005300e+05  200530.000000  ...  200530.000000  200530.000000\n",
              "mean   3.754481e+07       1.484596  ...      13.957413       1.290430\n",
              "std    2.602165e+07       0.923261  ...      23.954682      14.128515\n",
              "min    2.910000e+02       1.000000  ...       0.000000       0.000000\n",
              "25%    1.797049e+07       1.000000  ...       1.000000       0.000000\n",
              "50%    3.396942e+07       1.000000  ...       5.000000       0.000000\n",
              "75%    3.896918e+07       2.000000  ...      16.000000       0.000000\n",
              "max    8.801040e+07      27.000000  ...    1038.000000    2456.000000\n",
              "\n",
              "[8 rows x 17 columns]"
            ]
          },
          "metadata": {},
          "execution_count": 647
        }
      ]
    },
    {
      "cell_type": "markdown",
      "metadata": {
        "id": "XploJK6WS5FV"
      },
      "source": [
        "* transaction_date"
      ]
    },
    {
      "cell_type": "code",
      "metadata": {
        "colab": {
          "base_uri": "https://localhost:8080/"
        },
        "id": "D7WLb1G2S4V-",
        "outputId": "a1a32143-d590-4075-9d84-b22fa5a3ba32"
      },
      "source": [
        "df_ind['transaction_date'].describe()"
      ],
      "execution_count": 648,
      "outputs": [
        {
          "output_type": "execute_result",
          "data": {
            "text/plain": [
              "count    200530.000000\n",
              "mean         20.560604\n",
              "std          36.330442\n",
              "min           1.000000\n",
              "25%           2.000000\n",
              "50%           8.000000\n",
              "75%          25.000000\n",
              "max        3019.000000\n",
              "Name: transaction_date, dtype: float64"
            ]
          },
          "metadata": {},
          "execution_count": 648
        }
      ]
    },
    {
      "cell_type": "code",
      "metadata": {
        "colab": {
          "base_uri": "https://localhost:8080/",
          "height": 524
        },
        "id": "tvzq8Lb2TY_7",
        "outputId": "59b914a3-6137-4210-8949-2522d6dbd907"
      },
      "source": [
        "# Boxplot of the number of visits\n",
        "sns.boxplot(x=df_ind['transaction_date'])"
      ],
      "execution_count": 649,
      "outputs": [
        {
          "output_type": "execute_result",
          "data": {
            "text/plain": [
              "<matplotlib.axes._subplots.AxesSubplot at 0x7f6be804ae90>"
            ]
          },
          "metadata": {},
          "execution_count": 649
        },
        {
          "output_type": "display_data",
          "data": {
            "image/png": "[encoded data removed]",
            "text/plain": [
              "<Figure size 864x576 with 1 Axes>"
            ]
          },
          "metadata": {}
        }
      ]
    },
    {
      "cell_type": "markdown",
      "metadata": {
        "id": "x2jZU5XHZsNR"
      },
      "source": [
        "*   stores_nb"
      ]
    },
    {
      "cell_type": "code",
      "metadata": {
        "colab": {
          "base_uri": "https://localhost:8080/"
        },
        "id": "SdmvxwVtZqHf",
        "outputId": "23262eb9-bfd0-4fe7-d86c-5077dd796754"
      },
      "source": [
        "df_ind['stores_nb'].describe()"
      ],
      "execution_count": 650,
      "outputs": [
        {
          "output_type": "execute_result",
          "data": {
            "text/plain": [
              "count    200530.000000\n",
              "mean          1.484596\n",
              "std           0.923261\n",
              "min           1.000000\n",
              "25%           1.000000\n",
              "50%           1.000000\n",
              "75%           2.000000\n",
              "max          27.000000\n",
              "Name: stores_nb, dtype: float64"
            ]
          },
          "metadata": {},
          "execution_count": 650
        }
      ]
    },
    {
      "cell_type": "code",
      "metadata": {
        "colab": {
          "base_uri": "https://localhost:8080/",
          "height": 524
        },
        "id": "FZdGojr8ZwF_",
        "outputId": "7bbd5696-91f1-4856-b204-4640fa506421"
      },
      "source": [
        "# Boxplot of the number of different stores in which the customers went\n",
        "sns.boxplot(x=df_ind['stores_nb'])"
      ],
      "execution_count": 651,
      "outputs": [
        {
          "output_type": "execute_result",
          "data": {
            "text/plain": [
              "<matplotlib.axes._subplots.AxesSubplot at 0x7f6be80eeb10>"
            ]
          },
          "metadata": {},
          "execution_count": 651
        },
        {
          "output_type": "display_data",
          "data": {
            "image/png": "[encoded data removed]",
            "text/plain": [
              "<Figure size 864x576 with 1 Axes>"
            ]
          },
          "metadata": {}
        }
      ]
    },
    {
      "cell_type": "markdown",
      "metadata": {
        "id": "QTuVCdZJo0QV"
      },
      "source": [
        "\n",
        "\n",
        "*   item_count\n",
        "\n"
      ]
    },
    {
      "cell_type": "code",
      "metadata": {
        "colab": {
          "base_uri": "https://localhost:8080/"
        },
        "id": "HPv6Toy9o3mC",
        "outputId": "2323f914-aaf8-47af-dd88-899658221670"
      },
      "source": [
        "df_ind['item_count'].describe()"
      ],
      "execution_count": 652,
      "outputs": [
        {
          "output_type": "execute_result",
          "data": {
            "text/plain": [
              "count    200530.000000\n",
              "mean        328.418955\n",
              "std         585.688976\n",
              "min           0.000000\n",
              "25%          28.000000\n",
              "50%         105.000000\n",
              "75%         367.000000\n",
              "max       29013.000000\n",
              "Name: item_count, dtype: float64"
            ]
          },
          "metadata": {},
          "execution_count": 652
        }
      ]
    },
    {
      "cell_type": "code",
      "metadata": {
        "colab": {
          "base_uri": "https://localhost:8080/",
          "height": 524
        },
        "id": "SAeyrPhYo9dP",
        "outputId": "51e393c5-ddb8-4ffc-cc5e-9285f02b7830"
      },
      "source": [
        "sns.boxplot(x=df_ind['item_count'])"
      ],
      "execution_count": 653,
      "outputs": [
        {
          "output_type": "execute_result",
          "data": {
            "text/plain": [
              "<matplotlib.axes._subplots.AxesSubplot at 0x7f6be811fc50>"
            ]
          },
          "metadata": {},
          "execution_count": 653
        },
        {
          "output_type": "display_data",
          "data": {
            "image/png": "[encoded data removed]",
            "text/plain": [
              "<Figure size 864x576 with 1 Axes>"
            ]
          },
          "metadata": {}
        }
      ]
    },
    {
      "cell_type": "markdown",
      "metadata": {
        "id": "-RtUlxnkp5Og"
      },
      "source": [
        "\n",
        "*   gross_amount\n",
        "\n",
        "\n"
      ]
    },
    {
      "cell_type": "code",
      "metadata": {
        "colab": {
          "base_uri": "https://localhost:8080/"
        },
        "id": "u0Y4a2r8qLJj",
        "outputId": "42720c1f-53e0-4fd6-bf91-318dbe9d7640"
      },
      "source": [
        "df_ind['gross_amount'].describe()"
      ],
      "execution_count": 654,
      "outputs": [
        {
          "output_type": "execute_result",
          "data": {
            "text/plain": [
              "count    200530.000000\n",
              "mean       1040.718652\n",
              "std        2039.368367\n",
              "min           0.000000\n",
              "25%          94.360000\n",
              "50%         344.435000\n",
              "75%        1136.490000\n",
              "max      148949.480000\n",
              "Name: gross_amount, dtype: float64"
            ]
          },
          "metadata": {},
          "execution_count": 654
        }
      ]
    },
    {
      "cell_type": "code",
      "metadata": {
        "colab": {
          "base_uri": "https://localhost:8080/",
          "height": 524
        },
        "id": "dUcJQs1Yp9Y8",
        "outputId": "ea28131d-d139-46a4-becf-86186f2f811a"
      },
      "source": [
        "sns.boxplot(x=df_ind['gross_amount'])"
      ],
      "execution_count": 655,
      "outputs": [
        {
          "output_type": "execute_result",
          "data": {
            "text/plain": [
              "<matplotlib.axes._subplots.AxesSubplot at 0x7f6be8169f10>"
            ]
          },
          "metadata": {},
          "execution_count": 655
        },
        {
          "output_type": "display_data",
          "data": {
            "image/png": "[encoded data removed]",
            "text/plain": [
              "<Figure size 864x576 with 1 Axes>"
            ]
          },
          "metadata": {}
        }
      ]
    },
    {
      "cell_type": "markdown",
      "metadata": {
        "id": "6n_cLkx3qAde"
      },
      "source": [
        "\n",
        "\n",
        "*   discount_amount\n",
        "\n",
        "\n"
      ]
    },
    {
      "cell_type": "code",
      "metadata": {
        "colab": {
          "base_uri": "https://localhost:8080/"
        },
        "id": "yg8TuBkqqJhP",
        "outputId": "8ce071a3-5e20-485d-f36c-ff6caf69087c"
      },
      "source": [
        "df_ind['discount_amount'].describe()"
      ],
      "execution_count": 656,
      "outputs": [
        {
          "output_type": "execute_result",
          "data": {
            "text/plain": [
              "count    200530.000000\n",
              "mean         72.039890\n",
              "std         322.484095\n",
              "min           0.000000\n",
              "25%           0.000000\n",
              "50%           8.000000\n",
              "75%          40.770000\n",
              "max       36123.890000\n",
              "Name: discount_amount, dtype: float64"
            ]
          },
          "metadata": {},
          "execution_count": 656
        }
      ]
    },
    {
      "cell_type": "code",
      "metadata": {
        "colab": {
          "base_uri": "https://localhost:8080/",
          "height": 524
        },
        "id": "B1533tZvqF5O",
        "outputId": "24a282a6-c8dd-466b-8dd5-6ecac29707f5"
      },
      "source": [
        "sns.boxplot(x=df_ind['discount_amount'])"
      ],
      "execution_count": 657,
      "outputs": [
        {
          "output_type": "execute_result",
          "data": {
            "text/plain": [
              "<matplotlib.axes._subplots.AxesSubplot at 0x7f6be8150f90>"
            ]
          },
          "metadata": {},
          "execution_count": 657
        },
        {
          "output_type": "display_data",
          "data": {
            "image/png": "[encoded data removed]",
            "text/plain": [
              "<Figure size 864x576 with 1 Axes>"
            ]
          },
          "metadata": {}
        }
      ]
    },
    {
      "cell_type": "markdown",
      "metadata": {
        "id": "vroRgoWfqRKj"
      },
      "source": [
        "\n",
        "\n",
        "*   bastet_value\n",
        "\n"
      ]
    },
    {
      "cell_type": "code",
      "metadata": {
        "colab": {
          "base_uri": "https://localhost:8080/"
        },
        "id": "FaXjRgsEqZEl",
        "outputId": "3c986940-522e-49fb-8626-1a1345cd88e9"
      },
      "source": [
        "df_ind['basket_value'].describe()"
      ],
      "execution_count": 658,
      "outputs": [
        {
          "output_type": "execute_result",
          "data": {
            "text/plain": [
              "count    200530.000000\n",
              "mean        968.805387\n",
              "std        1787.779199\n",
              "min           0.000000\n",
              "25%          90.590000\n",
              "50%         330.065000\n",
              "75%        1085.972500\n",
              "max      119978.500000\n",
              "Name: basket_value, dtype: float64"
            ]
          },
          "metadata": {},
          "execution_count": 658
        }
      ]
    },
    {
      "cell_type": "code",
      "metadata": {
        "colab": {
          "base_uri": "https://localhost:8080/",
          "height": 524
        },
        "id": "cZq2Ryerqatz",
        "outputId": "eb08ab27-15ca-443d-9fca-253edd248fdc"
      },
      "source": [
        "sns.boxplot(x=df_ind['basket_value'])"
      ],
      "execution_count": 659,
      "outputs": [
        {
          "output_type": "execute_result",
          "data": {
            "text/plain": [
              "<matplotlib.axes._subplots.AxesSubplot at 0x7f6be81e1a10>"
            ]
          },
          "metadata": {},
          "execution_count": 659
        },
        {
          "output_type": "display_data",
          "data": {
            "image/png": "[encoded data removed]",
            "text/plain": [
              "<Figure size 864x576 with 1 Axes>"
            ]
          },
          "metadata": {}
        }
      ]
    },
    {
      "cell_type": "markdown",
      "metadata": {
        "id": "5aE7wTZeq_cf"
      },
      "source": [
        "\n",
        "\n",
        "*   Payments\n",
        "\n"
      ]
    },
    {
      "cell_type": "code",
      "metadata": {
        "colab": {
          "base_uri": "https://localhost:8080/"
        },
        "id": "CR16Rd7Mr0CN",
        "outputId": "2348016c-4254-4c95-9a49-6dee501435ee"
      },
      "source": [
        "# Description of payment_gift\n",
        "df_ind['payment_gift'].describe()"
      ],
      "execution_count": 660,
      "outputs": [
        {
          "output_type": "execute_result",
          "data": {
            "text/plain": [
              "count    200530.000000\n",
              "mean          1.423049\n",
              "std           4.875887\n",
              "min           0.000000\n",
              "25%           0.000000\n",
              "50%           0.000000\n",
              "75%           1.000000\n",
              "max         543.000000\n",
              "Name: payment_gift, dtype: float64"
            ]
          },
          "metadata": {},
          "execution_count": 660
        }
      ]
    },
    {
      "cell_type": "code",
      "metadata": {
        "colab": {
          "base_uri": "https://localhost:8080/"
        },
        "id": "q3jT2_NVsNvd",
        "outputId": "a664d7d6-a3fd-4fa4-afec-edff6735c693"
      },
      "source": [
        "# Description of payment_cheque\n",
        "df_ind['payment_cheque'].describe()"
      ],
      "execution_count": 661,
      "outputs": [
        {
          "output_type": "execute_result",
          "data": {
            "text/plain": [
              "count    200530.000000\n",
              "mean          0.686725\n",
              "std           4.363767\n",
              "min           0.000000\n",
              "25%           0.000000\n",
              "50%           0.000000\n",
              "75%           0.000000\n",
              "max         177.000000\n",
              "Name: payment_cheque, dtype: float64"
            ]
          },
          "metadata": {},
          "execution_count": 661
        }
      ]
    },
    {
      "cell_type": "code",
      "metadata": {
        "colab": {
          "base_uri": "https://localhost:8080/"
        },
        "id": "NJgOy9L7sS7S",
        "outputId": "773b8788-9f42-4481-8924-eabd4ea96176"
      },
      "source": [
        "# Description of payment_cash\n",
        "df_ind['payment_cash'].describe()"
      ],
      "execution_count": 662,
      "outputs": [
        {
          "output_type": "execute_result",
          "data": {
            "text/plain": [
              "count    200530.000000\n",
              "mean          4.674562\n",
              "std          16.612051\n",
              "min           0.000000\n",
              "25%           0.000000\n",
              "50%           1.000000\n",
              "75%           3.000000\n",
              "max        1905.000000\n",
              "Name: payment_cash, dtype: float64"
            ]
          },
          "metadata": {},
          "execution_count": 662
        }
      ]
    },
    {
      "cell_type": "code",
      "metadata": {
        "colab": {
          "base_uri": "https://localhost:8080/"
        },
        "id": "sJ5m1-sMscd5",
        "outputId": "1e77574d-e399-499c-c506-55baad54e345"
      },
      "source": [
        "# Description of payment_card\n",
        "df_ind['payment_card'].describe()"
      ],
      "execution_count": 663,
      "outputs": [
        {
          "output_type": "execute_result",
          "data": {
            "text/plain": [
              "count    200530.000000\n",
              "mean         13.957413\n",
              "std          23.954682\n",
              "min           0.000000\n",
              "25%           1.000000\n",
              "50%           5.000000\n",
              "75%          16.000000\n",
              "max        1038.000000\n",
              "Name: payment_card, dtype: float64"
            ]
          },
          "metadata": {},
          "execution_count": 663
        }
      ]
    },
    {
      "cell_type": "code",
      "metadata": {
        "colab": {
          "base_uri": "https://localhost:8080/",
          "height": 173
        },
        "id": "gjB563-vtNmt",
        "outputId": "2f97c84c-4746-4dfa-bdd9-7d49c00dbf6a"
      },
      "source": [
        "payment = df_ind[[\"payment_gift\",\"payment_cheque\",\"payment_cash\",\"payment_card\"]].sum().reset_index()\n",
        "payment.columns = ['Payment type', 'Number of times']\n",
        "payment"
      ],
      "execution_count": 664,
      "outputs": [
        {
          "output_type": "execute_result",
          "data": {
            "text/html": [
              "<div>\n",
              "<style scoped>\n",
              "    .dataframe tbody tr th:only-of-type {\n",
              "        vertical-align: middle;\n",
              "    }\n",
              "\n",
              "    .dataframe tbody tr th {\n",
              "        vertical-align: top;\n",
              "    }\n",
              "\n",
              "    .dataframe thead th {\n",
              "        text-align: right;\n",
              "    }\n",
              "</style>\n",
              "<table border=\"1\" class=\"dataframe\">\n",
              "  <thead>\n",
              "    <tr style=\"text-align: right;\">\n",
              "      <th></th>\n",
              "      <th>Payment type</th>\n",
              "      <th>Number of times</th>\n",
              "    </tr>\n",
              "  </thead>\n",
              "  <tbody>\n",
              "    <tr>\n",
              "      <th>0</th>\n",
              "      <td>payment_gift</td>\n",
              "      <td>285364</td>\n",
              "    </tr>\n",
              "    <tr>\n",
              "      <th>1</th>\n",
              "      <td>payment_cheque</td>\n",
              "      <td>137709</td>\n",
              "    </tr>\n",
              "    <tr>\n",
              "      <th>2</th>\n",
              "      <td>payment_cash</td>\n",
              "      <td>937390</td>\n",
              "    </tr>\n",
              "    <tr>\n",
              "      <th>3</th>\n",
              "      <td>payment_card</td>\n",
              "      <td>2798880</td>\n",
              "    </tr>\n",
              "  </tbody>\n",
              "</table>\n",
              "</div>"
            ],
            "text/plain": [
              "     Payment type  Number of times\n",
              "0    payment_gift           285364\n",
              "1  payment_cheque           137709\n",
              "2    payment_cash           937390\n",
              "3    payment_card          2798880"
            ]
          },
          "metadata": {},
          "execution_count": 664
        }
      ]
    },
    {
      "cell_type": "code",
      "metadata": {
        "colab": {
          "base_uri": "https://localhost:8080/",
          "height": 471
        },
        "id": "Xwi67gg0u08k",
        "outputId": "4f45633d-ca50-4a23-f5fd-35b4fa454e40"
      },
      "source": [
        "# Pie chart of the different types of payments\n",
        "labels = [\"Cheque\", \"Gift\", \"Cash\", \"Card\"]\n",
        "sizes = [137709, 285364, 937390, 2798880]\n",
        "explode = (0, 0, 0, 0.1)  # only \"explode\" the 4th slice \n",
        "\n",
        "fig1, ax1 = plt.subplots()\n",
        "ax1.pie(sizes, explode=explode, labels=labels, autopct='%1.1f%%',\n",
        "        shadow=True, startangle=90)\n",
        "ax1.axis('equal')  # Equal aspect ratio ensures that pie is drawn as a circle.\n",
        "\n",
        "plt.show()"
      ],
      "execution_count": 665,
      "outputs": [
        {
          "output_type": "display_data",
          "data": {
            "image/png": "[encoded data removed]",
            "text/plain": [
              "<Figure size 864x576 with 1 Axes>"
            ]
          },
          "metadata": {}
        }
      ]
    },
    {
      "cell_type": "markdown",
      "metadata": {
        "id": "D11RxYiz3oR9"
      },
      "source": [
        "\n",
        "*   civility\n",
        "\n"
      ]
    },
    {
      "cell_type": "code",
      "metadata": {
        "colab": {
          "base_uri": "https://localhost:8080/"
        },
        "id": "PKJUkuAC11Of",
        "outputId": "7d227170-8a5a-4466-d55c-0b5b3f652bd7"
      },
      "source": [
        "# Frequency\n",
        "\n",
        "freq_civility = df_ind[\"civility\"].astype(str).value_counts(normalize=True)*100\n",
        "freq_civility"
      ],
      "execution_count": 666,
      "outputs": [
        {
          "output_type": "execute_result",
          "data": {
            "text/plain": [
              "MME     58.371316\n",
              "M       23.148157\n",
              "NR      18.030719\n",
              "None     0.449808\n",
              "Name: civility, dtype: float64"
            ]
          },
          "metadata": {},
          "execution_count": 666
        }
      ]
    },
    {
      "cell_type": "code",
      "metadata": {
        "colab": {
          "base_uri": "https://localhost:8080/",
          "height": 559
        },
        "id": "OnC7q_4g35Gu",
        "outputId": "eb1e5e34-6fe2-49fa-e46a-7d39dd179f7c"
      },
      "source": [
        "# We draw the barplot of the variable civility\n",
        "\n",
        "l = []\n",
        "\n",
        "# Creation of a dictionnary with the modalities and the frequency linked to the modalities\n",
        "for i in range (freq_civility.shape[0]):\n",
        "   l.append({\"CIVILITY\":freq_civility.index[i], \"percent\":freq_civility[i]})\n",
        "\n",
        "# We transform this dictionnary into a dataframe\n",
        "df_civility = pd.DataFrame(l)\n",
        "\n",
        "(markerline, stemlines, baseline) = plt.stem(df_civility['CIVILITY'],\n",
        "                                             df_civility['percent'])\n",
        "plt.setp(markerline, marker='*', markersize=15,\n",
        "         markeredgewidth=2, color='blue')\n",
        "plt.setp(stemlines, color='blue')\n",
        "plt.setp(baseline, visible=False)\n",
        "\n",
        "plt.tick_params(labelsize=12)\n",
        "plt.xlabel('Civility', size=12)\n",
        "plt.ylabel('Frequency', size=12)\n",
        "plt.ylim(bottom=0)\n",
        "\n",
        "plt.show()"
      ],
      "execution_count": 667,
      "outputs": [
        {
          "output_type": "stream",
          "name": "stderr",
          "text": [
            "/usr/local/lib/python3.7/dist-packages/ipykernel_launcher.py:13: UserWarning: In Matplotlib 3.3 individual lines on a stem plot will be added as a LineCollection instead of individual lines. This significantly improves the performance of a stem plot. To remove this warning and switch to the new behaviour, set the \"use_line_collection\" keyword argument to True.\n",
            "  del sys.path[0]\n"
          ]
        },
        {
          "output_type": "display_data",
          "data": {
            "image/png": "[encoded data removed]",
            "text/plain": [
              "<Figure size 864x576 with 1 Axes>"
            ]
          },
          "metadata": {}
        }
      ]
    },
    {
      "cell_type": "markdown",
      "metadata": {
        "id": "m83I0P_44Gcj"
      },
      "source": [
        "\n",
        "\n",
        "*   zip_code\n",
        "\n"
      ]
    },
    {
      "cell_type": "code",
      "metadata": {
        "colab": {
          "base_uri": "https://localhost:8080/"
        },
        "id": "XFzmdk8Z4GCh",
        "outputId": "4bdc6a98-8802-4695-d946-edc7490643f3"
      },
      "source": [
        "# Frequency\n",
        "\n",
        "freq_zip = df_ind[\"zip_code\"].astype(str).value_counts(normalize=True)*100\n",
        "print(freq_zip)\n",
        "print(len(freq_zip))"
      ],
      "execution_count": 668,
      "outputs": [
        {
          "output_type": "stream",
          "name": "stdout",
          "text": [
            "None       19.002643\n",
            "34070       0.506657\n",
            "25000       0.448811\n",
            "13013       0.444323\n",
            "21000       0.440333\n",
            "             ...    \n",
            "66540       0.000499\n",
            "60350       0.000499\n",
            "68000.0     0.000499\n",
            "74360       0.000499\n",
            "1131        0.000499\n",
            "Name: zip_code, Length: 7745, dtype: float64\n",
            "7745\n"
          ]
        }
      ]
    },
    {
      "cell_type": "markdown",
      "metadata": {
        "id": "dJ6JARt74iyE"
      },
      "source": [
        "\n",
        "\n",
        "*   card_subscription\n",
        "\n"
      ]
    },
    {
      "cell_type": "code",
      "metadata": {
        "colab": {
          "base_uri": "https://localhost:8080/"
        },
        "id": "ROnwN9BO6BVT",
        "outputId": "34674c0b-70f0-4fad-f7dd-dcc3e1ce0393"
      },
      "source": [
        "df_ind['card_subscription'].describe()"
      ],
      "execution_count": 669,
      "outputs": [
        {
          "output_type": "stream",
          "name": "stderr",
          "text": [
            "/usr/local/lib/python3.7/dist-packages/ipykernel_launcher.py:1: FutureWarning: Treating datetime data as categorical rather than numeric in `.describe` is deprecated and will be removed in a future version of pandas. Specify `datetime_is_numeric=True` to silence this warning and adopt the future behavior now.\n",
            "  \"\"\"Entry point for launching an IPython kernel.\n"
          ]
        },
        {
          "output_type": "execute_result",
          "data": {
            "text/plain": [
              "count                    6161\n",
              "unique                   2301\n",
              "top       2016-01-01 00:00:00\n",
              "freq                      179\n",
              "first     1996-10-12 00:00:00\n",
              "last      2020-12-06 00:00:00\n",
              "Name: card_subscription, dtype: object"
            ]
          },
          "metadata": {},
          "execution_count": 669
        }
      ]
    },
    {
      "cell_type": "markdown",
      "metadata": {
        "id": "W0UUgtfe5_89"
      },
      "source": [
        "\n",
        "\n",
        "*   multicard\n",
        "\n"
      ]
    },
    {
      "cell_type": "code",
      "metadata": {
        "colab": {
          "base_uri": "https://localhost:8080/"
        },
        "id": "MDiu9Bp_6Y7L",
        "outputId": "892ab24e-b2ed-4c91-d428-8e590a3c2fda"
      },
      "source": [
        "df_ind['multicard'].describe()"
      ],
      "execution_count": 670,
      "outputs": [
        {
          "output_type": "execute_result",
          "data": {
            "text/plain": [
              "count    200530.000000\n",
              "mean          1.290430\n",
              "std          14.128515\n",
              "min           0.000000\n",
              "25%           0.000000\n",
              "50%           0.000000\n",
              "75%           0.000000\n",
              "max        2456.000000\n",
              "Name: multicard, dtype: float64"
            ]
          },
          "metadata": {},
          "execution_count": 670
        }
      ]
    },
    {
      "cell_type": "code",
      "metadata": {
        "colab": {
          "base_uri": "https://localhost:8080/"
        },
        "id": "1dJ9ElyU7lg8",
        "outputId": "74e82db9-c1de-4867-aa3d-e2102ff92793"
      },
      "source": [
        "freq_multicard = df_ind[\"multicard\"].astype(str).value_counts(normalize=True)*100\n",
        "freq_multicard"
      ],
      "execution_count": 671,
      "outputs": [
        {
          "output_type": "execute_result",
          "data": {
            "text/plain": [
              "0.0      96.937117\n",
              "1.0       0.151100\n",
              "2.0       0.142622\n",
              "3.0       0.103226\n",
              "4.0       0.099237\n",
              "           ...    \n",
              "204.0     0.000499\n",
              "340.0     0.000499\n",
              "349.0     0.000499\n",
              "343.0     0.000499\n",
              "187.0     0.000499\n",
              "Name: multicard, Length: 319, dtype: float64"
            ]
          },
          "metadata": {},
          "execution_count": 671
        }
      ]
    },
    {
      "cell_type": "code",
      "metadata": {
        "colab": {
          "base_uri": "https://localhost:8080/",
          "height": 524
        },
        "id": "hsfYOrlaaoes",
        "outputId": "529f3757-a99c-49c2-9728-a457e9e61d59"
      },
      "source": [
        "sns.boxplot(x=df_ind[\"multicard\"])"
      ],
      "execution_count": 672,
      "outputs": [
        {
          "output_type": "execute_result",
          "data": {
            "text/plain": [
              "<matplotlib.axes._subplots.AxesSubplot at 0x7f6bebea6590>"
            ]
          },
          "metadata": {},
          "execution_count": 672
        },
        {
          "output_type": "display_data",
          "data": {
            "image/png": "[encoded data removed]",
            "text/plain": [
              "<Figure size 864x576 with 1 Axes>"
            ]
          },
          "metadata": {}
        }
      ]
    },
    {
      "cell_type": "markdown",
      "metadata": {
        "id": "OA4xTJhkVpgM"
      },
      "source": [
        "* price_segmentation"
      ]
    },
    {
      "cell_type": "code",
      "metadata": {
        "colab": {
          "base_uri": "https://localhost:8080/"
        },
        "id": "YE6SuiIFVmuJ",
        "outputId": "6601bf1c-4bf9-483a-e945-6b4c93f46739"
      },
      "source": [
        "df_ind['price_segmentation'].describe()"
      ],
      "execution_count": 673,
      "outputs": [
        {
          "output_type": "execute_result",
          "data": {
            "text/plain": [
              "count     79464\n",
              "unique        3\n",
              "top       Mixte\n",
              "freq      45322\n",
              "Name: price_segmentation, dtype: object"
            ]
          },
          "metadata": {},
          "execution_count": 673
        }
      ]
    },
    {
      "cell_type": "code",
      "metadata": {
        "colab": {
          "base_uri": "https://localhost:8080/"
        },
        "id": "Csz7AxY8W0_c",
        "outputId": "d1e50b1e-7694-4c19-c3fa-bf9c89c3b5ed"
      },
      "source": [
        "# Frequency\n",
        "\n",
        "price_segmentation = df_ind[\"price_segmentation\"].astype(str).value_counts(normalize=True)*100\n",
        "price_segmentation"
      ],
      "execution_count": 674,
      "outputs": [
        {
          "output_type": "execute_result",
          "data": {
            "text/plain": [
              "None      60.373012\n",
              "Mixte     22.601107\n",
              "Quali      8.884456\n",
              "Access     8.141425\n",
              "Name: price_segmentation, dtype: float64"
            ]
          },
          "metadata": {},
          "execution_count": 674
        }
      ]
    },
    {
      "cell_type": "code",
      "metadata": {
        "colab": {
          "base_uri": "https://localhost:8080/",
          "height": 361
        },
        "id": "Xx41t2TvVxJY",
        "outputId": "8233460b-ba6a-4624-dd4f-bb762d93a518"
      },
      "source": [
        "# We draw the barplot of the variable price_segmentation\n",
        "\n",
        "l = []\n",
        "\n",
        "# Creation of a dictionnary with the modalities and the frequency linked to the modalities\n",
        "for i in range (price_segmentation.shape[0]):\n",
        "   l.append({\"PRICE_SEGMENTATION\":price_segmentation.index[i], \"percent\":price_segmentation[i]})\n",
        "\n",
        "# We transform this dictionnary into a dataframe\n",
        "df_price_segmentation = pd.DataFrame(l)\n",
        "\n",
        "# We plot the barplot (without the frequencies)\n",
        "g = sns.catplot(x = \"PRICE_SEGMENTATION\", y = \"percent\", kind= 'bar',data = df_price_segmentation, \n",
        "                palette = 'PuBuGn_r')\n",
        "\n",
        "# We add the frequencies at the top of each bar\n",
        "for p in g.ax.patches:\n",
        "   txt = str(p.get_height().round(1)) + '%'\n",
        "   txt_x = p.get_x()\n",
        "   txt_y = p.get_height()\n",
        "   g.ax.text(txt_x,txt_y,txt)"
      ],
      "execution_count": 675,
      "outputs": [
        {
          "output_type": "display_data",
          "data": {
            "image/png": "[encoded data removed]",
            "text/plain": [
              "<Figure size 360x360 with 1 Axes>"
            ]
          },
          "metadata": {}
        }
      ]
    },
    {
      "cell_type": "markdown",
      "metadata": {
        "id": "JdS4XnJ1LYRo"
      },
      "source": [
        "## Cleaning data and adding variable"
      ]
    },
    {
      "cell_type": "markdown",
      "metadata": {
        "id": "INV8w7Q7m7wx"
      },
      "source": [
        "* transaction_date"
      ]
    },
    {
      "cell_type": "code",
      "metadata": {
        "colab": {
          "base_uri": "https://localhost:8080/",
          "height": 309
        },
        "id": "P4eZ1rh6Q0nf",
        "outputId": "b829c7fa-b1d4-4de9-df7a-2ee490a9778c"
      },
      "source": [
        "# Renaming the variables\n",
        "\n",
        "df_ind = df_ind.rename({'transaction_date': 'visits_nb'}, axis='columns')\n",
        "df_ind.head()"
      ],
      "execution_count": 676,
      "outputs": [
        {
          "output_type": "execute_result",
          "data": {
            "text/html": [
              "<div>\n",
              "<style scoped>\n",
              "    .dataframe tbody tr th:only-of-type {\n",
              "        vertical-align: middle;\n",
              "    }\n",
              "\n",
              "    .dataframe tbody tr th {\n",
              "        vertical-align: top;\n",
              "    }\n",
              "\n",
              "    .dataframe thead th {\n",
              "        text-align: right;\n",
              "    }\n",
              "</style>\n",
              "<table border=\"1\" class=\"dataframe\">\n",
              "  <thead>\n",
              "    <tr style=\"text-align: right;\">\n",
              "      <th></th>\n",
              "      <th>id_client</th>\n",
              "      <th>stores_nb</th>\n",
              "      <th>visits_nb</th>\n",
              "      <th>last_date</th>\n",
              "      <th>item_count</th>\n",
              "      <th>gross_amount</th>\n",
              "      <th>discount_amount</th>\n",
              "      <th>basket_value</th>\n",
              "      <th>payment_gift</th>\n",
              "      <th>payment_cheque</th>\n",
              "      <th>payment_cash</th>\n",
              "      <th>gmail</th>\n",
              "      <th>hotmail</th>\n",
              "      <th>yahoo</th>\n",
              "      <th>orange</th>\n",
              "      <th>other_mail</th>\n",
              "      <th>payment_card</th>\n",
              "      <th>civility</th>\n",
              "      <th>zip_code</th>\n",
              "      <th>card_subscription</th>\n",
              "      <th>multicard</th>\n",
              "      <th>price_segmentation</th>\n",
              "      <th>Group</th>\n",
              "    </tr>\n",
              "  </thead>\n",
              "  <tbody>\n",
              "    <tr>\n",
              "      <th>0</th>\n",
              "      <td>291</td>\n",
              "      <td>1</td>\n",
              "      <td>55</td>\n",
              "      <td>2020-07-31 19:52:00+00:00</td>\n",
              "      <td>1499.0</td>\n",
              "      <td>4151.43</td>\n",
              "      <td>119.99</td>\n",
              "      <td>4031.44</td>\n",
              "      <td>5</td>\n",
              "      <td>0</td>\n",
              "      <td>0</td>\n",
              "      <td>0</td>\n",
              "      <td>0</td>\n",
              "      <td>0</td>\n",
              "      <td>0</td>\n",
              "      <td>0</td>\n",
              "      <td>55</td>\n",
              "      <td>MME</td>\n",
              "      <td>92220</td>\n",
              "      <td>NaT</td>\n",
              "      <td>0.0</td>\n",
              "      <td>Quali</td>\n",
              "      <td>TRAIN</td>\n",
              "    </tr>\n",
              "    <tr>\n",
              "      <th>1</th>\n",
              "      <td>365</td>\n",
              "      <td>1</td>\n",
              "      <td>25</td>\n",
              "      <td>2020-06-09 11:53:00+00:00</td>\n",
              "      <td>140.0</td>\n",
              "      <td>390.05</td>\n",
              "      <td>1.97</td>\n",
              "      <td>388.08</td>\n",
              "      <td>1</td>\n",
              "      <td>0</td>\n",
              "      <td>11</td>\n",
              "      <td>1</td>\n",
              "      <td>0</td>\n",
              "      <td>0</td>\n",
              "      <td>0</td>\n",
              "      <td>0</td>\n",
              "      <td>14</td>\n",
              "      <td>M</td>\n",
              "      <td>75011</td>\n",
              "      <td>NaT</td>\n",
              "      <td>0.0</td>\n",
              "      <td>Quali</td>\n",
              "      <td>TRAIN</td>\n",
              "    </tr>\n",
              "    <tr>\n",
              "      <th>2</th>\n",
              "      <td>1800</td>\n",
              "      <td>4</td>\n",
              "      <td>78</td>\n",
              "      <td>2020-07-25 09:43:00+00:00</td>\n",
              "      <td>1961.0</td>\n",
              "      <td>7900.33</td>\n",
              "      <td>879.23</td>\n",
              "      <td>7021.10</td>\n",
              "      <td>21</td>\n",
              "      <td>0</td>\n",
              "      <td>3</td>\n",
              "      <td>0</td>\n",
              "      <td>0</td>\n",
              "      <td>0</td>\n",
              "      <td>0</td>\n",
              "      <td>1</td>\n",
              "      <td>75</td>\n",
              "      <td>MME</td>\n",
              "      <td>93230</td>\n",
              "      <td>NaT</td>\n",
              "      <td>0.0</td>\n",
              "      <td>Mixte</td>\n",
              "      <td>TRAIN</td>\n",
              "    </tr>\n",
              "    <tr>\n",
              "      <th>3</th>\n",
              "      <td>2098</td>\n",
              "      <td>1</td>\n",
              "      <td>36</td>\n",
              "      <td>2020-07-23 10:58:00+00:00</td>\n",
              "      <td>577.0</td>\n",
              "      <td>1697.54</td>\n",
              "      <td>52.98</td>\n",
              "      <td>1644.56</td>\n",
              "      <td>6</td>\n",
              "      <td>3</td>\n",
              "      <td>7</td>\n",
              "      <td>0</td>\n",
              "      <td>0</td>\n",
              "      <td>0</td>\n",
              "      <td>0</td>\n",
              "      <td>0</td>\n",
              "      <td>26</td>\n",
              "      <td>MME</td>\n",
              "      <td>38130</td>\n",
              "      <td>NaT</td>\n",
              "      <td>0.0</td>\n",
              "      <td>Quali</td>\n",
              "      <td>TEST</td>\n",
              "    </tr>\n",
              "    <tr>\n",
              "      <th>4</th>\n",
              "      <td>3399</td>\n",
              "      <td>1</td>\n",
              "      <td>103</td>\n",
              "      <td>2020-07-31 11:54:00+00:00</td>\n",
              "      <td>1372.0</td>\n",
              "      <td>4285.57</td>\n",
              "      <td>57.11</td>\n",
              "      <td>4228.46</td>\n",
              "      <td>1</td>\n",
              "      <td>16</td>\n",
              "      <td>8</td>\n",
              "      <td>0</td>\n",
              "      <td>0</td>\n",
              "      <td>0</td>\n",
              "      <td>0</td>\n",
              "      <td>0</td>\n",
              "      <td>81</td>\n",
              "      <td>MME</td>\n",
              "      <td>38130</td>\n",
              "      <td>NaT</td>\n",
              "      <td>0.0</td>\n",
              "      <td>Quali</td>\n",
              "      <td>TEST</td>\n",
              "    </tr>\n",
              "  </tbody>\n",
              "</table>\n",
              "</div>"
            ],
            "text/plain": [
              "   id_client  stores_nb  visits_nb  ... multicard  price_segmentation  Group\n",
              "0        291          1         55  ...       0.0               Quali  TRAIN\n",
              "1        365          1         25  ...       0.0               Quali  TRAIN\n",
              "2       1800          4         78  ...       0.0               Mixte  TRAIN\n",
              "3       2098          1         36  ...       0.0               Quali   TEST\n",
              "4       3399          1        103  ...       0.0               Quali   TEST\n",
              "\n",
              "[5 rows x 23 columns]"
            ]
          },
          "metadata": {},
          "execution_count": 676
        }
      ]
    },
    {
      "cell_type": "markdown",
      "metadata": {
        "id": "jSILVEYSm7wz"
      },
      "source": [
        "* civility"
      ]
    },
    {
      "cell_type": "code",
      "metadata": {
        "colab": {
          "base_uri": "https://localhost:8080/"
        },
        "id": "32pV509Um7wz",
        "outputId": "ead46d96-cb6c-4e90-d4dd-154d6f7b7cb3"
      },
      "source": [
        "# Coding the civility variable \n",
        "\n",
        "df_ind[\"civility\"] = pd.DataFrame(df_ind[\"civility\"]).replace({\"civility\": {\"MME\" : \"3\", \n",
        "                             \"M\" : \"2\", \"NR\" : \"1\"}})\n",
        "\n",
        "df_ind.civility.fillna(value=0, inplace=True)\n",
        "\n",
        "freq_civility = df_ind[\"civility\"].astype(str).value_counts(normalize=True)*100\n",
        "freq_civility"
      ],
      "execution_count": 677,
      "outputs": [
        {
          "output_type": "execute_result",
          "data": {
            "text/plain": [
              "3    58.371316\n",
              "2    23.148157\n",
              "1    18.030719\n",
              "0     0.449808\n",
              "Name: civility, dtype: float64"
            ]
          },
          "metadata": {},
          "execution_count": 677
        }
      ]
    },
    {
      "cell_type": "code",
      "metadata": {
        "id": "fhcTGZRXm7wz"
      },
      "source": [
        "df_ind['civility']=df_ind['civility'].astype(int)"
      ],
      "execution_count": 678,
      "outputs": []
    },
    {
      "cell_type": "markdown",
      "metadata": {
        "id": "uOxfVCUFm7w2"
      },
      "source": [
        "* card_subscription"
      ]
    },
    {
      "cell_type": "code",
      "metadata": {
        "colab": {
          "base_uri": "https://localhost:8080/",
          "height": 609
        },
        "id": "oVYNmtuGm7w2",
        "outputId": "b2b4c47e-386d-423d-dd61-d1270e1ed6ba"
      },
      "source": [
        "# Card subscription: dummy = 1 if they have one, 0 otherwise\n",
        "\n",
        "df_ind[\"card_subscription_dummy\"] = np.where(pd.isna(df_ind[\"card_subscription\"])==True,0,1)\n",
        "df_ind"
      ],
      "execution_count": 679,
      "outputs": [
        {
          "output_type": "execute_result",
          "data": {
            "text/html": [
              "<div>\n",
              "<style scoped>\n",
              "    .dataframe tbody tr th:only-of-type {\n",
              "        vertical-align: middle;\n",
              "    }\n",
              "\n",
              "    .dataframe tbody tr th {\n",
              "        vertical-align: top;\n",
              "    }\n",
              "\n",
              "    .dataframe thead th {\n",
              "        text-align: right;\n",
              "    }\n",
              "</style>\n",
              "<table border=\"1\" class=\"dataframe\">\n",
              "  <thead>\n",
              "    <tr style=\"text-align: right;\">\n",
              "      <th></th>\n",
              "      <th>id_client</th>\n",
              "      <th>stores_nb</th>\n",
              "      <th>visits_nb</th>\n",
              "      <th>last_date</th>\n",
              "      <th>item_count</th>\n",
              "      <th>gross_amount</th>\n",
              "      <th>discount_amount</th>\n",
              "      <th>basket_value</th>\n",
              "      <th>payment_gift</th>\n",
              "      <th>payment_cheque</th>\n",
              "      <th>payment_cash</th>\n",
              "      <th>gmail</th>\n",
              "      <th>hotmail</th>\n",
              "      <th>yahoo</th>\n",
              "      <th>orange</th>\n",
              "      <th>other_mail</th>\n",
              "      <th>payment_card</th>\n",
              "      <th>civility</th>\n",
              "      <th>zip_code</th>\n",
              "      <th>card_subscription</th>\n",
              "      <th>multicard</th>\n",
              "      <th>price_segmentation</th>\n",
              "      <th>Group</th>\n",
              "      <th>card_subscription_dummy</th>\n",
              "    </tr>\n",
              "  </thead>\n",
              "  <tbody>\n",
              "    <tr>\n",
              "      <th>0</th>\n",
              "      <td>291</td>\n",
              "      <td>1</td>\n",
              "      <td>55</td>\n",
              "      <td>2020-07-31 19:52:00+00:00</td>\n",
              "      <td>1499.0</td>\n",
              "      <td>4151.43</td>\n",
              "      <td>119.99</td>\n",
              "      <td>4031.44</td>\n",
              "      <td>5</td>\n",
              "      <td>0</td>\n",
              "      <td>0</td>\n",
              "      <td>0</td>\n",
              "      <td>0</td>\n",
              "      <td>0</td>\n",
              "      <td>0</td>\n",
              "      <td>0</td>\n",
              "      <td>55</td>\n",
              "      <td>3</td>\n",
              "      <td>92220</td>\n",
              "      <td>NaT</td>\n",
              "      <td>0.0</td>\n",
              "      <td>Quali</td>\n",
              "      <td>TRAIN</td>\n",
              "      <td>0</td>\n",
              "    </tr>\n",
              "    <tr>\n",
              "      <th>1</th>\n",
              "      <td>365</td>\n",
              "      <td>1</td>\n",
              "      <td>25</td>\n",
              "      <td>2020-06-09 11:53:00+00:00</td>\n",
              "      <td>140.0</td>\n",
              "      <td>390.05</td>\n",
              "      <td>1.97</td>\n",
              "      <td>388.08</td>\n",
              "      <td>1</td>\n",
              "      <td>0</td>\n",
              "      <td>11</td>\n",
              "      <td>1</td>\n",
              "      <td>0</td>\n",
              "      <td>0</td>\n",
              "      <td>0</td>\n",
              "      <td>0</td>\n",
              "      <td>14</td>\n",
              "      <td>2</td>\n",
              "      <td>75011</td>\n",
              "      <td>NaT</td>\n",
              "      <td>0.0</td>\n",
              "      <td>Quali</td>\n",
              "      <td>TRAIN</td>\n",
              "      <td>0</td>\n",
              "    </tr>\n",
              "    <tr>\n",
              "      <th>2</th>\n",
              "      <td>1800</td>\n",
              "      <td>4</td>\n",
              "      <td>78</td>\n",
              "      <td>2020-07-25 09:43:00+00:00</td>\n",
              "      <td>1961.0</td>\n",
              "      <td>7900.33</td>\n",
              "      <td>879.23</td>\n",
              "      <td>7021.10</td>\n",
              "      <td>21</td>\n",
              "      <td>0</td>\n",
              "      <td>3</td>\n",
              "      <td>0</td>\n",
              "      <td>0</td>\n",
              "      <td>0</td>\n",
              "      <td>0</td>\n",
              "      <td>1</td>\n",
              "      <td>75</td>\n",
              "      <td>3</td>\n",
              "      <td>93230</td>\n",
              "      <td>NaT</td>\n",
              "      <td>0.0</td>\n",
              "      <td>Mixte</td>\n",
              "      <td>TRAIN</td>\n",
              "      <td>0</td>\n",
              "    </tr>\n",
              "    <tr>\n",
              "      <th>3</th>\n",
              "      <td>2098</td>\n",
              "      <td>1</td>\n",
              "      <td>36</td>\n",
              "      <td>2020-07-23 10:58:00+00:00</td>\n",
              "      <td>577.0</td>\n",
              "      <td>1697.54</td>\n",
              "      <td>52.98</td>\n",
              "      <td>1644.56</td>\n",
              "      <td>6</td>\n",
              "      <td>3</td>\n",
              "      <td>7</td>\n",
              "      <td>0</td>\n",
              "      <td>0</td>\n",
              "      <td>0</td>\n",
              "      <td>0</td>\n",
              "      <td>0</td>\n",
              "      <td>26</td>\n",
              "      <td>3</td>\n",
              "      <td>38130</td>\n",
              "      <td>NaT</td>\n",
              "      <td>0.0</td>\n",
              "      <td>Quali</td>\n",
              "      <td>TEST</td>\n",
              "      <td>0</td>\n",
              "    </tr>\n",
              "    <tr>\n",
              "      <th>4</th>\n",
              "      <td>3399</td>\n",
              "      <td>1</td>\n",
              "      <td>103</td>\n",
              "      <td>2020-07-31 11:54:00+00:00</td>\n",
              "      <td>1372.0</td>\n",
              "      <td>4285.57</td>\n",
              "      <td>57.11</td>\n",
              "      <td>4228.46</td>\n",
              "      <td>1</td>\n",
              "      <td>16</td>\n",
              "      <td>8</td>\n",
              "      <td>0</td>\n",
              "      <td>0</td>\n",
              "      <td>0</td>\n",
              "      <td>0</td>\n",
              "      <td>0</td>\n",
              "      <td>81</td>\n",
              "      <td>3</td>\n",
              "      <td>38130</td>\n",
              "      <td>NaT</td>\n",
              "      <td>0.0</td>\n",
              "      <td>Quali</td>\n",
              "      <td>TEST</td>\n",
              "      <td>0</td>\n",
              "    </tr>\n",
              "    <tr>\n",
              "      <th>...</th>\n",
              "      <td>...</td>\n",
              "      <td>...</td>\n",
              "      <td>...</td>\n",
              "      <td>...</td>\n",
              "      <td>...</td>\n",
              "      <td>...</td>\n",
              "      <td>...</td>\n",
              "      <td>...</td>\n",
              "      <td>...</td>\n",
              "      <td>...</td>\n",
              "      <td>...</td>\n",
              "      <td>...</td>\n",
              "      <td>...</td>\n",
              "      <td>...</td>\n",
              "      <td>...</td>\n",
              "      <td>...</td>\n",
              "      <td>...</td>\n",
              "      <td>...</td>\n",
              "      <td>...</td>\n",
              "      <td>...</td>\n",
              "      <td>...</td>\n",
              "      <td>...</td>\n",
              "      <td>...</td>\n",
              "      <td>...</td>\n",
              "    </tr>\n",
              "    <tr>\n",
              "      <th>200525</th>\n",
              "      <td>88010343</td>\n",
              "      <td>2</td>\n",
              "      <td>4</td>\n",
              "      <td>2019-12-04 15:29:00+00:00</td>\n",
              "      <td>39.0</td>\n",
              "      <td>107.12</td>\n",
              "      <td>0.68</td>\n",
              "      <td>106.44</td>\n",
              "      <td>0</td>\n",
              "      <td>0</td>\n",
              "      <td>0</td>\n",
              "      <td>0</td>\n",
              "      <td>0</td>\n",
              "      <td>0</td>\n",
              "      <td>0</td>\n",
              "      <td>0</td>\n",
              "      <td>4</td>\n",
              "      <td>3</td>\n",
              "      <td>42140</td>\n",
              "      <td>NaT</td>\n",
              "      <td>0.0</td>\n",
              "      <td>Mixte</td>\n",
              "      <td>TEST</td>\n",
              "      <td>0</td>\n",
              "    </tr>\n",
              "    <tr>\n",
              "      <th>200526</th>\n",
              "      <td>88010368</td>\n",
              "      <td>1</td>\n",
              "      <td>11</td>\n",
              "      <td>2020-07-11 18:39:00+00:00</td>\n",
              "      <td>256.0</td>\n",
              "      <td>973.93</td>\n",
              "      <td>25.83</td>\n",
              "      <td>948.10</td>\n",
              "      <td>1</td>\n",
              "      <td>0</td>\n",
              "      <td>0</td>\n",
              "      <td>0</td>\n",
              "      <td>0</td>\n",
              "      <td>0</td>\n",
              "      <td>0</td>\n",
              "      <td>0</td>\n",
              "      <td>11</td>\n",
              "      <td>3</td>\n",
              "      <td>70300</td>\n",
              "      <td>NaT</td>\n",
              "      <td>0.0</td>\n",
              "      <td>Mixte</td>\n",
              "      <td>TRAIN</td>\n",
              "      <td>0</td>\n",
              "    </tr>\n",
              "    <tr>\n",
              "      <th>200527</th>\n",
              "      <td>88010370</td>\n",
              "      <td>1</td>\n",
              "      <td>24</td>\n",
              "      <td>2020-07-14 11:54:00+00:00</td>\n",
              "      <td>619.0</td>\n",
              "      <td>1556.50</td>\n",
              "      <td>39.06</td>\n",
              "      <td>1517.44</td>\n",
              "      <td>0</td>\n",
              "      <td>10</td>\n",
              "      <td>6</td>\n",
              "      <td>0</td>\n",
              "      <td>0</td>\n",
              "      <td>0</td>\n",
              "      <td>0</td>\n",
              "      <td>0</td>\n",
              "      <td>8</td>\n",
              "      <td>3</td>\n",
              "      <td>14140</td>\n",
              "      <td>NaT</td>\n",
              "      <td>0.0</td>\n",
              "      <td>Access</td>\n",
              "      <td>TRAIN</td>\n",
              "      <td>0</td>\n",
              "    </tr>\n",
              "    <tr>\n",
              "      <th>200528</th>\n",
              "      <td>88010377</td>\n",
              "      <td>1</td>\n",
              "      <td>4</td>\n",
              "      <td>2020-05-22 12:17:00+00:00</td>\n",
              "      <td>33.0</td>\n",
              "      <td>110.50</td>\n",
              "      <td>8.12</td>\n",
              "      <td>102.38</td>\n",
              "      <td>0</td>\n",
              "      <td>0</td>\n",
              "      <td>2</td>\n",
              "      <td>0</td>\n",
              "      <td>0</td>\n",
              "      <td>0</td>\n",
              "      <td>0</td>\n",
              "      <td>1</td>\n",
              "      <td>2</td>\n",
              "      <td>3</td>\n",
              "      <td>56300</td>\n",
              "      <td>NaT</td>\n",
              "      <td>0.0</td>\n",
              "      <td>Mixte</td>\n",
              "      <td>TEST</td>\n",
              "      <td>0</td>\n",
              "    </tr>\n",
              "    <tr>\n",
              "      <th>200529</th>\n",
              "      <td>88010403</td>\n",
              "      <td>2</td>\n",
              "      <td>3</td>\n",
              "      <td>2019-12-14 10:59:00+00:00</td>\n",
              "      <td>11.0</td>\n",
              "      <td>22.17</td>\n",
              "      <td>0.78</td>\n",
              "      <td>21.39</td>\n",
              "      <td>0</td>\n",
              "      <td>0</td>\n",
              "      <td>0</td>\n",
              "      <td>0</td>\n",
              "      <td>1</td>\n",
              "      <td>0</td>\n",
              "      <td>0</td>\n",
              "      <td>0</td>\n",
              "      <td>2</td>\n",
              "      <td>3</td>\n",
              "      <td>69370</td>\n",
              "      <td>NaT</td>\n",
              "      <td>0.0</td>\n",
              "      <td>Mixte</td>\n",
              "      <td>TRAIN</td>\n",
              "      <td>0</td>\n",
              "    </tr>\n",
              "  </tbody>\n",
              "</table>\n",
              "<p>200530 rows × 24 columns</p>\n",
              "</div>"
            ],
            "text/plain": [
              "        id_client  stores_nb  ...  Group card_subscription_dummy\n",
              "0             291          1  ...  TRAIN                       0\n",
              "1             365          1  ...  TRAIN                       0\n",
              "2            1800          4  ...  TRAIN                       0\n",
              "3            2098          1  ...   TEST                       0\n",
              "4            3399          1  ...   TEST                       0\n",
              "...           ...        ...  ...    ...                     ...\n",
              "200525   88010343          2  ...   TEST                       0\n",
              "200526   88010368          1  ...  TRAIN                       0\n",
              "200527   88010370          1  ...  TRAIN                       0\n",
              "200528   88010377          1  ...   TEST                       0\n",
              "200529   88010403          2  ...  TRAIN                       0\n",
              "\n",
              "[200530 rows x 24 columns]"
            ]
          },
          "metadata": {},
          "execution_count": 679
        }
      ]
    },
    {
      "cell_type": "markdown",
      "metadata": {
        "id": "EgZiZd_Lm7w2"
      },
      "source": [
        "* price_segmentation"
      ]
    },
    {
      "cell_type": "code",
      "metadata": {
        "colab": {
          "base_uri": "https://localhost:8080/"
        },
        "id": "jRRnKJdJm7w2",
        "outputId": "627a9c15-c1e1-4b5d-b40f-2057430023ad"
      },
      "source": [
        "# Coding the price_segmentation variable \n",
        "\n",
        "df_ind[\"price_segmentation\"] = pd.DataFrame(df_ind[\"price_segmentation\"]).replace({\"price_segmentation\": \n",
        "                        {\"Mixte\" : \"3\", \"Quali\" : \"2\", \"Access\" : \"1\"}})\n",
        "\n",
        "df_ind.price_segmentation.fillna(value=0, inplace=True)\n",
        "\n",
        "freq_price_segmentation = df_ind[\"price_segmentation\"].astype(str).value_counts(normalize=True)*100\n",
        "freq_price_segmentation"
      ],
      "execution_count": 680,
      "outputs": [
        {
          "output_type": "execute_result",
          "data": {
            "text/plain": [
              "0    60.373012\n",
              "3    22.601107\n",
              "2     8.884456\n",
              "1     8.141425\n",
              "Name: price_segmentation, dtype: float64"
            ]
          },
          "metadata": {},
          "execution_count": 680
        }
      ]
    },
    {
      "cell_type": "code",
      "metadata": {
        "id": "t1Kod6Ldm7w3"
      },
      "source": [
        "df_ind['price_segmentation']=df_ind['price_segmentation'].astype(int)"
      ],
      "execution_count": 681,
      "outputs": []
    },
    {
      "cell_type": "markdown",
      "metadata": {
        "id": "FcNEQNvqm7w3"
      },
      "source": [
        "* recency"
      ]
    },
    {
      "cell_type": "code",
      "metadata": {
        "colab": {
          "base_uri": "https://localhost:8080/",
          "height": 609
        },
        "id": "JvJ4mKEDm7w3",
        "outputId": "06a441d6-aa1b-4277-af47-626b90f54268"
      },
      "source": [
        "# Recency\n",
        "\n",
        "df_ind[\"recency\"] = (max_date - df_ind[\"last_date\"])/np.timedelta64(1, 'D')\n",
        "df_ind"
      ],
      "execution_count": 682,
      "outputs": [
        {
          "output_type": "execute_result",
          "data": {
            "text/html": [
              "<div>\n",
              "<style scoped>\n",
              "    .dataframe tbody tr th:only-of-type {\n",
              "        vertical-align: middle;\n",
              "    }\n",
              "\n",
              "    .dataframe tbody tr th {\n",
              "        vertical-align: top;\n",
              "    }\n",
              "\n",
              "    .dataframe thead th {\n",
              "        text-align: right;\n",
              "    }\n",
              "</style>\n",
              "<table border=\"1\" class=\"dataframe\">\n",
              "  <thead>\n",
              "    <tr style=\"text-align: right;\">\n",
              "      <th></th>\n",
              "      <th>id_client</th>\n",
              "      <th>stores_nb</th>\n",
              "      <th>visits_nb</th>\n",
              "      <th>last_date</th>\n",
              "      <th>item_count</th>\n",
              "      <th>gross_amount</th>\n",
              "      <th>discount_amount</th>\n",
              "      <th>basket_value</th>\n",
              "      <th>payment_gift</th>\n",
              "      <th>payment_cheque</th>\n",
              "      <th>payment_cash</th>\n",
              "      <th>gmail</th>\n",
              "      <th>hotmail</th>\n",
              "      <th>yahoo</th>\n",
              "      <th>orange</th>\n",
              "      <th>other_mail</th>\n",
              "      <th>payment_card</th>\n",
              "      <th>civility</th>\n",
              "      <th>zip_code</th>\n",
              "      <th>card_subscription</th>\n",
              "      <th>multicard</th>\n",
              "      <th>price_segmentation</th>\n",
              "      <th>Group</th>\n",
              "      <th>card_subscription_dummy</th>\n",
              "      <th>recency</th>\n",
              "    </tr>\n",
              "  </thead>\n",
              "  <tbody>\n",
              "    <tr>\n",
              "      <th>0</th>\n",
              "      <td>291</td>\n",
              "      <td>1</td>\n",
              "      <td>55</td>\n",
              "      <td>2020-07-31 19:52:00+00:00</td>\n",
              "      <td>1499.0</td>\n",
              "      <td>4151.43</td>\n",
              "      <td>119.99</td>\n",
              "      <td>4031.44</td>\n",
              "      <td>5</td>\n",
              "      <td>0</td>\n",
              "      <td>0</td>\n",
              "      <td>0</td>\n",
              "      <td>0</td>\n",
              "      <td>0</td>\n",
              "      <td>0</td>\n",
              "      <td>0</td>\n",
              "      <td>55</td>\n",
              "      <td>3</td>\n",
              "      <td>92220</td>\n",
              "      <td>NaT</td>\n",
              "      <td>0.0</td>\n",
              "      <td>2</td>\n",
              "      <td>TRAIN</td>\n",
              "      <td>0</td>\n",
              "      <td>0.168750</td>\n",
              "    </tr>\n",
              "    <tr>\n",
              "      <th>1</th>\n",
              "      <td>365</td>\n",
              "      <td>1</td>\n",
              "      <td>25</td>\n",
              "      <td>2020-06-09 11:53:00+00:00</td>\n",
              "      <td>140.0</td>\n",
              "      <td>390.05</td>\n",
              "      <td>1.97</td>\n",
              "      <td>388.08</td>\n",
              "      <td>1</td>\n",
              "      <td>0</td>\n",
              "      <td>11</td>\n",
              "      <td>1</td>\n",
              "      <td>0</td>\n",
              "      <td>0</td>\n",
              "      <td>0</td>\n",
              "      <td>0</td>\n",
              "      <td>14</td>\n",
              "      <td>2</td>\n",
              "      <td>75011</td>\n",
              "      <td>NaT</td>\n",
              "      <td>0.0</td>\n",
              "      <td>2</td>\n",
              "      <td>TRAIN</td>\n",
              "      <td>0</td>\n",
              "      <td>52.501389</td>\n",
              "    </tr>\n",
              "    <tr>\n",
              "      <th>2</th>\n",
              "      <td>1800</td>\n",
              "      <td>4</td>\n",
              "      <td>78</td>\n",
              "      <td>2020-07-25 09:43:00+00:00</td>\n",
              "      <td>1961.0</td>\n",
              "      <td>7900.33</td>\n",
              "      <td>879.23</td>\n",
              "      <td>7021.10</td>\n",
              "      <td>21</td>\n",
              "      <td>0</td>\n",
              "      <td>3</td>\n",
              "      <td>0</td>\n",
              "      <td>0</td>\n",
              "      <td>0</td>\n",
              "      <td>0</td>\n",
              "      <td>1</td>\n",
              "      <td>75</td>\n",
              "      <td>3</td>\n",
              "      <td>93230</td>\n",
              "      <td>NaT</td>\n",
              "      <td>0.0</td>\n",
              "      <td>3</td>\n",
              "      <td>TRAIN</td>\n",
              "      <td>0</td>\n",
              "      <td>6.591667</td>\n",
              "    </tr>\n",
              "    <tr>\n",
              "      <th>3</th>\n",
              "      <td>2098</td>\n",
              "      <td>1</td>\n",
              "      <td>36</td>\n",
              "      <td>2020-07-23 10:58:00+00:00</td>\n",
              "      <td>577.0</td>\n",
              "      <td>1697.54</td>\n",
              "      <td>52.98</td>\n",
              "      <td>1644.56</td>\n",
              "      <td>6</td>\n",
              "      <td>3</td>\n",
              "      <td>7</td>\n",
              "      <td>0</td>\n",
              "      <td>0</td>\n",
              "      <td>0</td>\n",
              "      <td>0</td>\n",
              "      <td>0</td>\n",
              "      <td>26</td>\n",
              "      <td>3</td>\n",
              "      <td>38130</td>\n",
              "      <td>NaT</td>\n",
              "      <td>0.0</td>\n",
              "      <td>2</td>\n",
              "      <td>TEST</td>\n",
              "      <td>0</td>\n",
              "      <td>8.539583</td>\n",
              "    </tr>\n",
              "    <tr>\n",
              "      <th>4</th>\n",
              "      <td>3399</td>\n",
              "      <td>1</td>\n",
              "      <td>103</td>\n",
              "      <td>2020-07-31 11:54:00+00:00</td>\n",
              "      <td>1372.0</td>\n",
              "      <td>4285.57</td>\n",
              "      <td>57.11</td>\n",
              "      <td>4228.46</td>\n",
              "      <td>1</td>\n",
              "      <td>16</td>\n",
              "      <td>8</td>\n",
              "      <td>0</td>\n",
              "      <td>0</td>\n",
              "      <td>0</td>\n",
              "      <td>0</td>\n",
              "      <td>0</td>\n",
              "      <td>81</td>\n",
              "      <td>3</td>\n",
              "      <td>38130</td>\n",
              "      <td>NaT</td>\n",
              "      <td>0.0</td>\n",
              "      <td>2</td>\n",
              "      <td>TEST</td>\n",
              "      <td>0</td>\n",
              "      <td>0.500694</td>\n",
              "    </tr>\n",
              "    <tr>\n",
              "      <th>...</th>\n",
              "      <td>...</td>\n",
              "      <td>...</td>\n",
              "      <td>...</td>\n",
              "      <td>...</td>\n",
              "      <td>...</td>\n",
              "      <td>...</td>\n",
              "      <td>...</td>\n",
              "      <td>...</td>\n",
              "      <td>...</td>\n",
              "      <td>...</td>\n",
              "      <td>...</td>\n",
              "      <td>...</td>\n",
              "      <td>...</td>\n",
              "      <td>...</td>\n",
              "      <td>...</td>\n",
              "      <td>...</td>\n",
              "      <td>...</td>\n",
              "      <td>...</td>\n",
              "      <td>...</td>\n",
              "      <td>...</td>\n",
              "      <td>...</td>\n",
              "      <td>...</td>\n",
              "      <td>...</td>\n",
              "      <td>...</td>\n",
              "      <td>...</td>\n",
              "    </tr>\n",
              "    <tr>\n",
              "      <th>200525</th>\n",
              "      <td>88010343</td>\n",
              "      <td>2</td>\n",
              "      <td>4</td>\n",
              "      <td>2019-12-04 15:29:00+00:00</td>\n",
              "      <td>39.0</td>\n",
              "      <td>107.12</td>\n",
              "      <td>0.68</td>\n",
              "      <td>106.44</td>\n",
              "      <td>0</td>\n",
              "      <td>0</td>\n",
              "      <td>0</td>\n",
              "      <td>0</td>\n",
              "      <td>0</td>\n",
              "      <td>0</td>\n",
              "      <td>0</td>\n",
              "      <td>0</td>\n",
              "      <td>4</td>\n",
              "      <td>3</td>\n",
              "      <td>42140</td>\n",
              "      <td>NaT</td>\n",
              "      <td>0.0</td>\n",
              "      <td>3</td>\n",
              "      <td>TEST</td>\n",
              "      <td>0</td>\n",
              "      <td>240.351389</td>\n",
              "    </tr>\n",
              "    <tr>\n",
              "      <th>200526</th>\n",
              "      <td>88010368</td>\n",
              "      <td>1</td>\n",
              "      <td>11</td>\n",
              "      <td>2020-07-11 18:39:00+00:00</td>\n",
              "      <td>256.0</td>\n",
              "      <td>973.93</td>\n",
              "      <td>25.83</td>\n",
              "      <td>948.10</td>\n",
              "      <td>1</td>\n",
              "      <td>0</td>\n",
              "      <td>0</td>\n",
              "      <td>0</td>\n",
              "      <td>0</td>\n",
              "      <td>0</td>\n",
              "      <td>0</td>\n",
              "      <td>0</td>\n",
              "      <td>11</td>\n",
              "      <td>3</td>\n",
              "      <td>70300</td>\n",
              "      <td>NaT</td>\n",
              "      <td>0.0</td>\n",
              "      <td>3</td>\n",
              "      <td>TRAIN</td>\n",
              "      <td>0</td>\n",
              "      <td>20.219444</td>\n",
              "    </tr>\n",
              "    <tr>\n",
              "      <th>200527</th>\n",
              "      <td>88010370</td>\n",
              "      <td>1</td>\n",
              "      <td>24</td>\n",
              "      <td>2020-07-14 11:54:00+00:00</td>\n",
              "      <td>619.0</td>\n",
              "      <td>1556.50</td>\n",
              "      <td>39.06</td>\n",
              "      <td>1517.44</td>\n",
              "      <td>0</td>\n",
              "      <td>10</td>\n",
              "      <td>6</td>\n",
              "      <td>0</td>\n",
              "      <td>0</td>\n",
              "      <td>0</td>\n",
              "      <td>0</td>\n",
              "      <td>0</td>\n",
              "      <td>8</td>\n",
              "      <td>3</td>\n",
              "      <td>14140</td>\n",
              "      <td>NaT</td>\n",
              "      <td>0.0</td>\n",
              "      <td>1</td>\n",
              "      <td>TRAIN</td>\n",
              "      <td>0</td>\n",
              "      <td>17.500694</td>\n",
              "    </tr>\n",
              "    <tr>\n",
              "      <th>200528</th>\n",
              "      <td>88010377</td>\n",
              "      <td>1</td>\n",
              "      <td>4</td>\n",
              "      <td>2020-05-22 12:17:00+00:00</td>\n",
              "      <td>33.0</td>\n",
              "      <td>110.50</td>\n",
              "      <td>8.12</td>\n",
              "      <td>102.38</td>\n",
              "      <td>0</td>\n",
              "      <td>0</td>\n",
              "      <td>2</td>\n",
              "      <td>0</td>\n",
              "      <td>0</td>\n",
              "      <td>0</td>\n",
              "      <td>0</td>\n",
              "      <td>1</td>\n",
              "      <td>2</td>\n",
              "      <td>3</td>\n",
              "      <td>56300</td>\n",
              "      <td>NaT</td>\n",
              "      <td>0.0</td>\n",
              "      <td>3</td>\n",
              "      <td>TEST</td>\n",
              "      <td>0</td>\n",
              "      <td>70.484722</td>\n",
              "    </tr>\n",
              "    <tr>\n",
              "      <th>200529</th>\n",
              "      <td>88010403</td>\n",
              "      <td>2</td>\n",
              "      <td>3</td>\n",
              "      <td>2019-12-14 10:59:00+00:00</td>\n",
              "      <td>11.0</td>\n",
              "      <td>22.17</td>\n",
              "      <td>0.78</td>\n",
              "      <td>21.39</td>\n",
              "      <td>0</td>\n",
              "      <td>0</td>\n",
              "      <td>0</td>\n",
              "      <td>0</td>\n",
              "      <td>1</td>\n",
              "      <td>0</td>\n",
              "      <td>0</td>\n",
              "      <td>0</td>\n",
              "      <td>2</td>\n",
              "      <td>3</td>\n",
              "      <td>69370</td>\n",
              "      <td>NaT</td>\n",
              "      <td>0.0</td>\n",
              "      <td>3</td>\n",
              "      <td>TRAIN</td>\n",
              "      <td>0</td>\n",
              "      <td>230.538889</td>\n",
              "    </tr>\n",
              "  </tbody>\n",
              "</table>\n",
              "<p>200530 rows × 25 columns</p>\n",
              "</div>"
            ],
            "text/plain": [
              "        id_client  stores_nb  ...  card_subscription_dummy     recency\n",
              "0             291          1  ...                        0    0.168750\n",
              "1             365          1  ...                        0   52.501389\n",
              "2            1800          4  ...                        0    6.591667\n",
              "3            2098          1  ...                        0    8.539583\n",
              "4            3399          1  ...                        0    0.500694\n",
              "...           ...        ...  ...                      ...         ...\n",
              "200525   88010343          2  ...                        0  240.351389\n",
              "200526   88010368          1  ...                        0   20.219444\n",
              "200527   88010370          1  ...                        0   17.500694\n",
              "200528   88010377          1  ...                        0   70.484722\n",
              "200529   88010403          2  ...                        0  230.538889\n",
              "\n",
              "[200530 rows x 25 columns]"
            ]
          },
          "metadata": {},
          "execution_count": 682
        }
      ]
    },
    {
      "cell_type": "code",
      "metadata": {
        "colab": {
          "base_uri": "https://localhost:8080/"
        },
        "id": "-k9m83hVm7w3",
        "outputId": "521b10cf-34fb-442d-ef5b-644aec4b1d2f"
      },
      "source": [
        "df_ind.dtypes"
      ],
      "execution_count": 683,
      "outputs": [
        {
          "output_type": "execute_result",
          "data": {
            "text/plain": [
              "id_client                                int64\n",
              "stores_nb                                int64\n",
              "visits_nb                                int64\n",
              "last_date                  datetime64[ns, UTC]\n",
              "item_count                             float64\n",
              "gross_amount                           float64\n",
              "discount_amount                        float64\n",
              "basket_value                           float64\n",
              "payment_gift                             int64\n",
              "payment_cheque                           int64\n",
              "payment_cash                             int64\n",
              "gmail                                    int64\n",
              "hotmail                                  int64\n",
              "yahoo                                    int64\n",
              "orange                                   int64\n",
              "other_mail                               int64\n",
              "payment_card                             int64\n",
              "civility                                 int64\n",
              "zip_code                                object\n",
              "card_subscription               datetime64[ns]\n",
              "multicard                              float64\n",
              "price_segmentation                       int64\n",
              "Group                                   object\n",
              "card_subscription_dummy                  int64\n",
              "recency                                float64\n",
              "dtype: object"
            ]
          },
          "metadata": {},
          "execution_count": 683
        }
      ]
    },
    {
      "cell_type": "markdown",
      "metadata": {
        "id": "8607kdbCcXG_"
      },
      "source": [
        "## Check number of individuals"
      ]
    },
    {
      "cell_type": "code",
      "metadata": {
        "colab": {
          "base_uri": "https://localhost:8080/"
        },
        "id": "r6dVn-Y4cWPA",
        "outputId": "4526ff0d-58cb-4e4e-9e86-6bfd82d2c68b"
      },
      "source": [
        "df_ind.shape"
      ],
      "execution_count": 684,
      "outputs": [
        {
          "output_type": "execute_result",
          "data": {
            "text/plain": [
              "(200530, 25)"
            ]
          },
          "metadata": {},
          "execution_count": 684
        }
      ]
    },
    {
      "cell_type": "code",
      "metadata": {
        "colab": {
          "base_uri": "https://localhost:8080/"
        },
        "id": "6qvALGBpcsWD",
        "outputId": "7329937a-42f1-4c63-f068-0bab9e8992d8"
      },
      "source": [
        "df_ind['Group'].astype(str).value_counts(normalize=True)*100"
      ],
      "execution_count": 685,
      "outputs": [
        {
          "output_type": "execute_result",
          "data": {
            "text/plain": [
              "TRAIN    80.0\n",
              "TEST     20.0\n",
              "Name: Group, dtype: float64"
            ]
          },
          "metadata": {},
          "execution_count": 685
        }
      ]
    },
    {
      "cell_type": "code",
      "metadata": {
        "colab": {
          "base_uri": "https://localhost:8080/"
        },
        "id": "4ZeackTnm7w5",
        "outputId": "c6edbdeb-2da2-4246-a917-48a82fdee760"
      },
      "source": [
        "df_ind.isna().sum()"
      ],
      "execution_count": 686,
      "outputs": [
        {
          "output_type": "execute_result",
          "data": {
            "text/plain": [
              "id_client                       0\n",
              "stores_nb                       0\n",
              "visits_nb                       0\n",
              "last_date                       0\n",
              "item_count                      0\n",
              "gross_amount                    0\n",
              "discount_amount                 0\n",
              "basket_value                    0\n",
              "payment_gift                    0\n",
              "payment_cheque                  0\n",
              "payment_cash                    0\n",
              "gmail                           0\n",
              "hotmail                         0\n",
              "yahoo                           0\n",
              "orange                          0\n",
              "other_mail                      0\n",
              "payment_card                    0\n",
              "civility                        0\n",
              "zip_code                    38106\n",
              "card_subscription          194369\n",
              "multicard                       0\n",
              "price_segmentation              0\n",
              "Group                           0\n",
              "card_subscription_dummy         0\n",
              "recency                         0\n",
              "dtype: int64"
            ]
          },
          "metadata": {},
          "execution_count": 686
        }
      ]
    },
    {
      "cell_type": "markdown",
      "metadata": {
        "id": "6R8wL8FVjzmQ"
      },
      "source": [
        "## We resplit Train and Test"
      ]
    },
    {
      "cell_type": "code",
      "metadata": {
        "id": "U1vWRm3Cj6Bh"
      },
      "source": [
        "TRAIN_clean=df_ind[df_ind['Group']=='TRAIN']\n",
        "TEST_final=df_ind[df_ind['Group']=='TEST']"
      ],
      "execution_count": 687,
      "outputs": []
    },
    {
      "cell_type": "code",
      "metadata": {
        "colab": {
          "base_uri": "https://localhost:8080/",
          "height": 309
        },
        "id": "0fq3yEnbkKl3",
        "outputId": "3ed24304-d498-450a-9e1c-d4d271f6c59d"
      },
      "source": [
        "TRAIN_clean.head(5)"
      ],
      "execution_count": 688,
      "outputs": [
        {
          "output_type": "execute_result",
          "data": {
            "text/html": [
              "<div>\n",
              "<style scoped>\n",
              "    .dataframe tbody tr th:only-of-type {\n",
              "        vertical-align: middle;\n",
              "    }\n",
              "\n",
              "    .dataframe tbody tr th {\n",
              "        vertical-align: top;\n",
              "    }\n",
              "\n",
              "    .dataframe thead th {\n",
              "        text-align: right;\n",
              "    }\n",
              "</style>\n",
              "<table border=\"1\" class=\"dataframe\">\n",
              "  <thead>\n",
              "    <tr style=\"text-align: right;\">\n",
              "      <th></th>\n",
              "      <th>id_client</th>\n",
              "      <th>stores_nb</th>\n",
              "      <th>visits_nb</th>\n",
              "      <th>last_date</th>\n",
              "      <th>item_count</th>\n",
              "      <th>gross_amount</th>\n",
              "      <th>discount_amount</th>\n",
              "      <th>basket_value</th>\n",
              "      <th>payment_gift</th>\n",
              "      <th>payment_cheque</th>\n",
              "      <th>payment_cash</th>\n",
              "      <th>gmail</th>\n",
              "      <th>hotmail</th>\n",
              "      <th>yahoo</th>\n",
              "      <th>orange</th>\n",
              "      <th>other_mail</th>\n",
              "      <th>payment_card</th>\n",
              "      <th>civility</th>\n",
              "      <th>zip_code</th>\n",
              "      <th>card_subscription</th>\n",
              "      <th>multicard</th>\n",
              "      <th>price_segmentation</th>\n",
              "      <th>Group</th>\n",
              "      <th>card_subscription_dummy</th>\n",
              "      <th>recency</th>\n",
              "    </tr>\n",
              "  </thead>\n",
              "  <tbody>\n",
              "    <tr>\n",
              "      <th>0</th>\n",
              "      <td>291</td>\n",
              "      <td>1</td>\n",
              "      <td>55</td>\n",
              "      <td>2020-07-31 19:52:00+00:00</td>\n",
              "      <td>1499.0</td>\n",
              "      <td>4151.43</td>\n",
              "      <td>119.99</td>\n",
              "      <td>4031.44</td>\n",
              "      <td>5</td>\n",
              "      <td>0</td>\n",
              "      <td>0</td>\n",
              "      <td>0</td>\n",
              "      <td>0</td>\n",
              "      <td>0</td>\n",
              "      <td>0</td>\n",
              "      <td>0</td>\n",
              "      <td>55</td>\n",
              "      <td>3</td>\n",
              "      <td>92220</td>\n",
              "      <td>NaT</td>\n",
              "      <td>0.0</td>\n",
              "      <td>2</td>\n",
              "      <td>TRAIN</td>\n",
              "      <td>0</td>\n",
              "      <td>0.168750</td>\n",
              "    </tr>\n",
              "    <tr>\n",
              "      <th>1</th>\n",
              "      <td>365</td>\n",
              "      <td>1</td>\n",
              "      <td>25</td>\n",
              "      <td>2020-06-09 11:53:00+00:00</td>\n",
              "      <td>140.0</td>\n",
              "      <td>390.05</td>\n",
              "      <td>1.97</td>\n",
              "      <td>388.08</td>\n",
              "      <td>1</td>\n",
              "      <td>0</td>\n",
              "      <td>11</td>\n",
              "      <td>1</td>\n",
              "      <td>0</td>\n",
              "      <td>0</td>\n",
              "      <td>0</td>\n",
              "      <td>0</td>\n",
              "      <td>14</td>\n",
              "      <td>2</td>\n",
              "      <td>75011</td>\n",
              "      <td>NaT</td>\n",
              "      <td>0.0</td>\n",
              "      <td>2</td>\n",
              "      <td>TRAIN</td>\n",
              "      <td>0</td>\n",
              "      <td>52.501389</td>\n",
              "    </tr>\n",
              "    <tr>\n",
              "      <th>2</th>\n",
              "      <td>1800</td>\n",
              "      <td>4</td>\n",
              "      <td>78</td>\n",
              "      <td>2020-07-25 09:43:00+00:00</td>\n",
              "      <td>1961.0</td>\n",
              "      <td>7900.33</td>\n",
              "      <td>879.23</td>\n",
              "      <td>7021.10</td>\n",
              "      <td>21</td>\n",
              "      <td>0</td>\n",
              "      <td>3</td>\n",
              "      <td>0</td>\n",
              "      <td>0</td>\n",
              "      <td>0</td>\n",
              "      <td>0</td>\n",
              "      <td>1</td>\n",
              "      <td>75</td>\n",
              "      <td>3</td>\n",
              "      <td>93230</td>\n",
              "      <td>NaT</td>\n",
              "      <td>0.0</td>\n",
              "      <td>3</td>\n",
              "      <td>TRAIN</td>\n",
              "      <td>0</td>\n",
              "      <td>6.591667</td>\n",
              "    </tr>\n",
              "    <tr>\n",
              "      <th>5</th>\n",
              "      <td>3471</td>\n",
              "      <td>2</td>\n",
              "      <td>60</td>\n",
              "      <td>2020-03-14 11:17:00+00:00</td>\n",
              "      <td>406.0</td>\n",
              "      <td>1203.76</td>\n",
              "      <td>8.53</td>\n",
              "      <td>1195.23</td>\n",
              "      <td>0</td>\n",
              "      <td>0</td>\n",
              "      <td>53</td>\n",
              "      <td>0</td>\n",
              "      <td>0</td>\n",
              "      <td>0</td>\n",
              "      <td>0</td>\n",
              "      <td>0</td>\n",
              "      <td>7</td>\n",
              "      <td>3</td>\n",
              "      <td>93500</td>\n",
              "      <td>NaT</td>\n",
              "      <td>0.0</td>\n",
              "      <td>3</td>\n",
              "      <td>TRAIN</td>\n",
              "      <td>0</td>\n",
              "      <td>139.526389</td>\n",
              "    </tr>\n",
              "    <tr>\n",
              "      <th>7</th>\n",
              "      <td>3961</td>\n",
              "      <td>1</td>\n",
              "      <td>3</td>\n",
              "      <td>2019-09-25 19:37:00+00:00</td>\n",
              "      <td>131.0</td>\n",
              "      <td>415.34</td>\n",
              "      <td>1.62</td>\n",
              "      <td>413.72</td>\n",
              "      <td>0</td>\n",
              "      <td>0</td>\n",
              "      <td>1</td>\n",
              "      <td>0</td>\n",
              "      <td>0</td>\n",
              "      <td>0</td>\n",
              "      <td>0</td>\n",
              "      <td>1</td>\n",
              "      <td>2</td>\n",
              "      <td>3</td>\n",
              "      <td>75013</td>\n",
              "      <td>NaT</td>\n",
              "      <td>0.0</td>\n",
              "      <td>0</td>\n",
              "      <td>TRAIN</td>\n",
              "      <td>0</td>\n",
              "      <td>310.179167</td>\n",
              "    </tr>\n",
              "  </tbody>\n",
              "</table>\n",
              "</div>"
            ],
            "text/plain": [
              "   id_client  stores_nb  visits_nb  ...  Group  card_subscription_dummy     recency\n",
              "0        291          1         55  ...  TRAIN                        0    0.168750\n",
              "1        365          1         25  ...  TRAIN                        0   52.501389\n",
              "2       1800          4         78  ...  TRAIN                        0    6.591667\n",
              "5       3471          2         60  ...  TRAIN                        0  139.526389\n",
              "7       3961          1          3  ...  TRAIN                        0  310.179167\n",
              "\n",
              "[5 rows x 25 columns]"
            ]
          },
          "metadata": {},
          "execution_count": 688
        }
      ]
    },
    {
      "cell_type": "code",
      "metadata": {
        "colab": {
          "base_uri": "https://localhost:8080/"
        },
        "id": "tq6DMTiBkG5Y",
        "outputId": "fa164f11-3c0a-4181-edb6-cfb05a198f78"
      },
      "source": [
        "TRAIN_clean.shape"
      ],
      "execution_count": 689,
      "outputs": [
        {
          "output_type": "execute_result",
          "data": {
            "text/plain": [
              "(160424, 25)"
            ]
          },
          "metadata": {},
          "execution_count": 689
        }
      ]
    },
    {
      "cell_type": "code",
      "metadata": {
        "colab": {
          "base_uri": "https://localhost:8080/",
          "height": 309
        },
        "id": "PaNlewogkShH",
        "outputId": "e3415c58-d298-48b4-aa69-262236d45dfb"
      },
      "source": [
        "TEST_final.head(5)"
      ],
      "execution_count": 690,
      "outputs": [
        {
          "output_type": "execute_result",
          "data": {
            "text/html": [
              "<div>\n",
              "<style scoped>\n",
              "    .dataframe tbody tr th:only-of-type {\n",
              "        vertical-align: middle;\n",
              "    }\n",
              "\n",
              "    .dataframe tbody tr th {\n",
              "        vertical-align: top;\n",
              "    }\n",
              "\n",
              "    .dataframe thead th {\n",
              "        text-align: right;\n",
              "    }\n",
              "</style>\n",
              "<table border=\"1\" class=\"dataframe\">\n",
              "  <thead>\n",
              "    <tr style=\"text-align: right;\">\n",
              "      <th></th>\n",
              "      <th>id_client</th>\n",
              "      <th>stores_nb</th>\n",
              "      <th>visits_nb</th>\n",
              "      <th>last_date</th>\n",
              "      <th>item_count</th>\n",
              "      <th>gross_amount</th>\n",
              "      <th>discount_amount</th>\n",
              "      <th>basket_value</th>\n",
              "      <th>payment_gift</th>\n",
              "      <th>payment_cheque</th>\n",
              "      <th>payment_cash</th>\n",
              "      <th>gmail</th>\n",
              "      <th>hotmail</th>\n",
              "      <th>yahoo</th>\n",
              "      <th>orange</th>\n",
              "      <th>other_mail</th>\n",
              "      <th>payment_card</th>\n",
              "      <th>civility</th>\n",
              "      <th>zip_code</th>\n",
              "      <th>card_subscription</th>\n",
              "      <th>multicard</th>\n",
              "      <th>price_segmentation</th>\n",
              "      <th>Group</th>\n",
              "      <th>card_subscription_dummy</th>\n",
              "      <th>recency</th>\n",
              "    </tr>\n",
              "  </thead>\n",
              "  <tbody>\n",
              "    <tr>\n",
              "      <th>3</th>\n",
              "      <td>2098</td>\n",
              "      <td>1</td>\n",
              "      <td>36</td>\n",
              "      <td>2020-07-23 10:58:00+00:00</td>\n",
              "      <td>577.0</td>\n",
              "      <td>1697.54</td>\n",
              "      <td>52.98</td>\n",
              "      <td>1644.56</td>\n",
              "      <td>6</td>\n",
              "      <td>3</td>\n",
              "      <td>7</td>\n",
              "      <td>0</td>\n",
              "      <td>0</td>\n",
              "      <td>0</td>\n",
              "      <td>0</td>\n",
              "      <td>0</td>\n",
              "      <td>26</td>\n",
              "      <td>3</td>\n",
              "      <td>38130</td>\n",
              "      <td>NaT</td>\n",
              "      <td>0.0</td>\n",
              "      <td>2</td>\n",
              "      <td>TEST</td>\n",
              "      <td>0</td>\n",
              "      <td>8.539583</td>\n",
              "    </tr>\n",
              "    <tr>\n",
              "      <th>4</th>\n",
              "      <td>3399</td>\n",
              "      <td>1</td>\n",
              "      <td>103</td>\n",
              "      <td>2020-07-31 11:54:00+00:00</td>\n",
              "      <td>1372.0</td>\n",
              "      <td>4285.57</td>\n",
              "      <td>57.11</td>\n",
              "      <td>4228.46</td>\n",
              "      <td>1</td>\n",
              "      <td>16</td>\n",
              "      <td>8</td>\n",
              "      <td>0</td>\n",
              "      <td>0</td>\n",
              "      <td>0</td>\n",
              "      <td>0</td>\n",
              "      <td>0</td>\n",
              "      <td>81</td>\n",
              "      <td>3</td>\n",
              "      <td>38130</td>\n",
              "      <td>NaT</td>\n",
              "      <td>0.0</td>\n",
              "      <td>2</td>\n",
              "      <td>TEST</td>\n",
              "      <td>0</td>\n",
              "      <td>0.500694</td>\n",
              "    </tr>\n",
              "    <tr>\n",
              "      <th>6</th>\n",
              "      <td>3712</td>\n",
              "      <td>2</td>\n",
              "      <td>80</td>\n",
              "      <td>2020-07-29 12:31:00+00:00</td>\n",
              "      <td>834.0</td>\n",
              "      <td>2234.37</td>\n",
              "      <td>195.78</td>\n",
              "      <td>2038.59</td>\n",
              "      <td>1</td>\n",
              "      <td>0</td>\n",
              "      <td>1</td>\n",
              "      <td>0</td>\n",
              "      <td>0</td>\n",
              "      <td>0</td>\n",
              "      <td>0</td>\n",
              "      <td>1</td>\n",
              "      <td>74</td>\n",
              "      <td>2</td>\n",
              "      <td>75011</td>\n",
              "      <td>NaT</td>\n",
              "      <td>0.0</td>\n",
              "      <td>3</td>\n",
              "      <td>TEST</td>\n",
              "      <td>0</td>\n",
              "      <td>2.475000</td>\n",
              "    </tr>\n",
              "    <tr>\n",
              "      <th>11</th>\n",
              "      <td>4664</td>\n",
              "      <td>1</td>\n",
              "      <td>51</td>\n",
              "      <td>2020-07-28 09:18:00+00:00</td>\n",
              "      <td>789.0</td>\n",
              "      <td>1996.28</td>\n",
              "      <td>50.27</td>\n",
              "      <td>1946.01</td>\n",
              "      <td>2</td>\n",
              "      <td>50</td>\n",
              "      <td>1</td>\n",
              "      <td>0</td>\n",
              "      <td>0</td>\n",
              "      <td>0</td>\n",
              "      <td>0</td>\n",
              "      <td>0</td>\n",
              "      <td>0</td>\n",
              "      <td>2</td>\n",
              "      <td>92220</td>\n",
              "      <td>NaT</td>\n",
              "      <td>0.0</td>\n",
              "      <td>1</td>\n",
              "      <td>TEST</td>\n",
              "      <td>0</td>\n",
              "      <td>3.609028</td>\n",
              "    </tr>\n",
              "    <tr>\n",
              "      <th>16</th>\n",
              "      <td>6741</td>\n",
              "      <td>1</td>\n",
              "      <td>17</td>\n",
              "      <td>2020-03-11 14:51:00+00:00</td>\n",
              "      <td>391.0</td>\n",
              "      <td>1185.50</td>\n",
              "      <td>1.00</td>\n",
              "      <td>1184.50</td>\n",
              "      <td>0</td>\n",
              "      <td>16</td>\n",
              "      <td>0</td>\n",
              "      <td>0</td>\n",
              "      <td>0</td>\n",
              "      <td>0</td>\n",
              "      <td>0</td>\n",
              "      <td>0</td>\n",
              "      <td>1</td>\n",
              "      <td>3</td>\n",
              "      <td>29890</td>\n",
              "      <td>NaT</td>\n",
              "      <td>0.0</td>\n",
              "      <td>0</td>\n",
              "      <td>TEST</td>\n",
              "      <td>0</td>\n",
              "      <td>142.377778</td>\n",
              "    </tr>\n",
              "  </tbody>\n",
              "</table>\n",
              "</div>"
            ],
            "text/plain": [
              "    id_client  stores_nb  visits_nb  ... Group  card_subscription_dummy     recency\n",
              "3        2098          1         36  ...  TEST                        0    8.539583\n",
              "4        3399          1        103  ...  TEST                        0    0.500694\n",
              "6        3712          2         80  ...  TEST                        0    2.475000\n",
              "11       4664          1         51  ...  TEST                        0    3.609028\n",
              "16       6741          1         17  ...  TEST                        0  142.377778\n",
              "\n",
              "[5 rows x 25 columns]"
            ]
          },
          "metadata": {},
          "execution_count": 690
        }
      ]
    },
    {
      "cell_type": "code",
      "metadata": {
        "colab": {
          "base_uri": "https://localhost:8080/"
        },
        "id": "ypMHx2MPkOvP",
        "outputId": "afcbbdd8-cdb4-40fc-eeac-df046fbd406e"
      },
      "source": [
        "TEST_final.shape"
      ],
      "execution_count": 691,
      "outputs": [
        {
          "output_type": "execute_result",
          "data": {
            "text/plain": [
              "(40106, 25)"
            ]
          },
          "metadata": {},
          "execution_count": 691
        }
      ]
    },
    {
      "cell_type": "code",
      "metadata": {
        "colab": {
          "base_uri": "https://localhost:8080/"
        },
        "id": "4-P1Rgr5kVEw",
        "outputId": "a39c47e9-e48f-47d5-e130-417029a12e01"
      },
      "source": [
        "len(TRAIN_clean)+len(TEST_final)"
      ],
      "execution_count": 692,
      "outputs": [
        {
          "output_type": "execute_result",
          "data": {
            "text/plain": [
              "200530"
            ]
          },
          "metadata": {},
          "execution_count": 692
        }
      ]
    },
    {
      "cell_type": "code",
      "metadata": {
        "id": "Y3r7D2Dkk9zx"
      },
      "source": [
        "# We merge the train et test dataset\n",
        "TRAIN_final=TRAIN_clean.merge(TRAIN_customers, on='id_client', how='left')"
      ],
      "execution_count": 693,
      "outputs": []
    },
    {
      "cell_type": "code",
      "metadata": {
        "colab": {
          "base_uri": "https://localhost:8080/",
          "height": 309
        },
        "id": "A5I6TX5LmkLN",
        "outputId": "98f6093f-5813-4c41-dbd8-5a21c1770c4c"
      },
      "source": [
        "TRAIN_final.head(5)"
      ],
      "execution_count": 694,
      "outputs": [
        {
          "output_type": "execute_result",
          "data": {
            "text/html": [
              "<div>\n",
              "<style scoped>\n",
              "    .dataframe tbody tr th:only-of-type {\n",
              "        vertical-align: middle;\n",
              "    }\n",
              "\n",
              "    .dataframe tbody tr th {\n",
              "        vertical-align: top;\n",
              "    }\n",
              "\n",
              "    .dataframe thead th {\n",
              "        text-align: right;\n",
              "    }\n",
              "</style>\n",
              "<table border=\"1\" class=\"dataframe\">\n",
              "  <thead>\n",
              "    <tr style=\"text-align: right;\">\n",
              "      <th></th>\n",
              "      <th>id_client</th>\n",
              "      <th>stores_nb</th>\n",
              "      <th>visits_nb</th>\n",
              "      <th>last_date</th>\n",
              "      <th>item_count</th>\n",
              "      <th>gross_amount</th>\n",
              "      <th>discount_amount</th>\n",
              "      <th>basket_value</th>\n",
              "      <th>payment_gift</th>\n",
              "      <th>payment_cheque</th>\n",
              "      <th>payment_cash</th>\n",
              "      <th>gmail</th>\n",
              "      <th>hotmail</th>\n",
              "      <th>yahoo</th>\n",
              "      <th>orange</th>\n",
              "      <th>other_mail</th>\n",
              "      <th>payment_card</th>\n",
              "      <th>civility</th>\n",
              "      <th>zip_code</th>\n",
              "      <th>card_subscription</th>\n",
              "      <th>multicard</th>\n",
              "      <th>price_segmentation</th>\n",
              "      <th>Group</th>\n",
              "      <th>card_subscription_dummy</th>\n",
              "      <th>recency</th>\n",
              "      <th>repurchase</th>\n",
              "    </tr>\n",
              "  </thead>\n",
              "  <tbody>\n",
              "    <tr>\n",
              "      <th>0</th>\n",
              "      <td>291</td>\n",
              "      <td>1</td>\n",
              "      <td>55</td>\n",
              "      <td>2020-07-31 19:52:00+00:00</td>\n",
              "      <td>1499.0</td>\n",
              "      <td>4151.43</td>\n",
              "      <td>119.99</td>\n",
              "      <td>4031.44</td>\n",
              "      <td>5</td>\n",
              "      <td>0</td>\n",
              "      <td>0</td>\n",
              "      <td>0</td>\n",
              "      <td>0</td>\n",
              "      <td>0</td>\n",
              "      <td>0</td>\n",
              "      <td>0</td>\n",
              "      <td>55</td>\n",
              "      <td>3</td>\n",
              "      <td>92220</td>\n",
              "      <td>NaT</td>\n",
              "      <td>0.0</td>\n",
              "      <td>2</td>\n",
              "      <td>TRAIN</td>\n",
              "      <td>0</td>\n",
              "      <td>0.168750</td>\n",
              "      <td>0</td>\n",
              "    </tr>\n",
              "    <tr>\n",
              "      <th>1</th>\n",
              "      <td>365</td>\n",
              "      <td>1</td>\n",
              "      <td>25</td>\n",
              "      <td>2020-06-09 11:53:00+00:00</td>\n",
              "      <td>140.0</td>\n",
              "      <td>390.05</td>\n",
              "      <td>1.97</td>\n",
              "      <td>388.08</td>\n",
              "      <td>1</td>\n",
              "      <td>0</td>\n",
              "      <td>11</td>\n",
              "      <td>1</td>\n",
              "      <td>0</td>\n",
              "      <td>0</td>\n",
              "      <td>0</td>\n",
              "      <td>0</td>\n",
              "      <td>14</td>\n",
              "      <td>2</td>\n",
              "      <td>75011</td>\n",
              "      <td>NaT</td>\n",
              "      <td>0.0</td>\n",
              "      <td>2</td>\n",
              "      <td>TRAIN</td>\n",
              "      <td>0</td>\n",
              "      <td>52.501389</td>\n",
              "      <td>0</td>\n",
              "    </tr>\n",
              "    <tr>\n",
              "      <th>2</th>\n",
              "      <td>1800</td>\n",
              "      <td>4</td>\n",
              "      <td>78</td>\n",
              "      <td>2020-07-25 09:43:00+00:00</td>\n",
              "      <td>1961.0</td>\n",
              "      <td>7900.33</td>\n",
              "      <td>879.23</td>\n",
              "      <td>7021.10</td>\n",
              "      <td>21</td>\n",
              "      <td>0</td>\n",
              "      <td>3</td>\n",
              "      <td>0</td>\n",
              "      <td>0</td>\n",
              "      <td>0</td>\n",
              "      <td>0</td>\n",
              "      <td>1</td>\n",
              "      <td>75</td>\n",
              "      <td>3</td>\n",
              "      <td>93230</td>\n",
              "      <td>NaT</td>\n",
              "      <td>0.0</td>\n",
              "      <td>3</td>\n",
              "      <td>TRAIN</td>\n",
              "      <td>0</td>\n",
              "      <td>6.591667</td>\n",
              "      <td>1</td>\n",
              "    </tr>\n",
              "    <tr>\n",
              "      <th>3</th>\n",
              "      <td>3471</td>\n",
              "      <td>2</td>\n",
              "      <td>60</td>\n",
              "      <td>2020-03-14 11:17:00+00:00</td>\n",
              "      <td>406.0</td>\n",
              "      <td>1203.76</td>\n",
              "      <td>8.53</td>\n",
              "      <td>1195.23</td>\n",
              "      <td>0</td>\n",
              "      <td>0</td>\n",
              "      <td>53</td>\n",
              "      <td>0</td>\n",
              "      <td>0</td>\n",
              "      <td>0</td>\n",
              "      <td>0</td>\n",
              "      <td>0</td>\n",
              "      <td>7</td>\n",
              "      <td>3</td>\n",
              "      <td>93500</td>\n",
              "      <td>NaT</td>\n",
              "      <td>0.0</td>\n",
              "      <td>3</td>\n",
              "      <td>TRAIN</td>\n",
              "      <td>0</td>\n",
              "      <td>139.526389</td>\n",
              "      <td>0</td>\n",
              "    </tr>\n",
              "    <tr>\n",
              "      <th>4</th>\n",
              "      <td>3961</td>\n",
              "      <td>1</td>\n",
              "      <td>3</td>\n",
              "      <td>2019-09-25 19:37:00+00:00</td>\n",
              "      <td>131.0</td>\n",
              "      <td>415.34</td>\n",
              "      <td>1.62</td>\n",
              "      <td>413.72</td>\n",
              "      <td>0</td>\n",
              "      <td>0</td>\n",
              "      <td>1</td>\n",
              "      <td>0</td>\n",
              "      <td>0</td>\n",
              "      <td>0</td>\n",
              "      <td>0</td>\n",
              "      <td>1</td>\n",
              "      <td>2</td>\n",
              "      <td>3</td>\n",
              "      <td>75013</td>\n",
              "      <td>NaT</td>\n",
              "      <td>0.0</td>\n",
              "      <td>0</td>\n",
              "      <td>TRAIN</td>\n",
              "      <td>0</td>\n",
              "      <td>310.179167</td>\n",
              "      <td>0</td>\n",
              "    </tr>\n",
              "  </tbody>\n",
              "</table>\n",
              "</div>"
            ],
            "text/plain": [
              "   id_client  stores_nb  ...     recency repurchase\n",
              "0        291          1  ...    0.168750          0\n",
              "1        365          1  ...   52.501389          0\n",
              "2       1800          4  ...    6.591667          1\n",
              "3       3471          2  ...  139.526389          0\n",
              "4       3961          1  ...  310.179167          0\n",
              "\n",
              "[5 rows x 26 columns]"
            ]
          },
          "metadata": {},
          "execution_count": 694
        }
      ]
    },
    {
      "cell_type": "code",
      "metadata": {
        "colab": {
          "base_uri": "https://localhost:8080/"
        },
        "id": "g1xshuoAm7w8",
        "outputId": "3b9dfbf9-22ba-49a5-e924-ad021d5cf6ac"
      },
      "source": [
        "TRAIN_final.dtypes"
      ],
      "execution_count": 695,
      "outputs": [
        {
          "output_type": "execute_result",
          "data": {
            "text/plain": [
              "id_client                                int64\n",
              "stores_nb                                int64\n",
              "visits_nb                                int64\n",
              "last_date                  datetime64[ns, UTC]\n",
              "item_count                             float64\n",
              "gross_amount                           float64\n",
              "discount_amount                        float64\n",
              "basket_value                           float64\n",
              "payment_gift                             int64\n",
              "payment_cheque                           int64\n",
              "payment_cash                             int64\n",
              "gmail                                    int64\n",
              "hotmail                                  int64\n",
              "yahoo                                    int64\n",
              "orange                                   int64\n",
              "other_mail                               int64\n",
              "payment_card                             int64\n",
              "civility                                 int64\n",
              "zip_code                                object\n",
              "card_subscription               datetime64[ns]\n",
              "multicard                              float64\n",
              "price_segmentation                       int64\n",
              "Group                                   object\n",
              "card_subscription_dummy                  int64\n",
              "recency                                float64\n",
              "repurchase                               int64\n",
              "dtype: object"
            ]
          },
          "metadata": {},
          "execution_count": 695
        }
      ]
    },
    {
      "cell_type": "markdown",
      "metadata": {
        "id": "b-KPQtuSmvj2",
        "outputId": "a8a71aae-7a2e-469c-d4ca-4ad98fd52020"
      },
      "source": [
        "TRAIN_final.shape"
      ]
    },
    {
      "cell_type": "markdown",
      "metadata": {
        "id": "V57puGJYni0G"
      },
      "source": [
        "## Defining x train, y train, x test, y test"
      ]
    },
    {
      "cell_type": "code",
      "metadata": {
        "id": "FVySFTbOm7w9"
      },
      "source": [
        "# Good for xgboost\n",
        "X_train1=pd.DataFrame(TRAIN_final.drop(columns=[\"repurchase\", \"last_date\",\"zip_code\",\n",
        "                                               \"Group\",\"card_subscription\", \"multicard\"])) \n",
        "Y_train1=pd.DataFrame(TRAIN_final[\"repurchase\"])\n",
        "\n",
        "X_test1=pd.DataFrame(TEST_final.drop(columns=[\"last_date\",\"zip_code\",\n",
        "                                              \"Group\",\"card_subscription\", \"multicard\"]))\n",
        "\n",
        "X_train11, X_val11, Y_train11, Y_val11 = train_test_split(X_train1, Y_train1, test_size=0.2, random_state=0)"
      ],
      "execution_count": 696,
      "outputs": []
    },
    {
      "cell_type": "code",
      "metadata": {
        "id": "p7ucgUFUm7w-"
      },
      "source": [
        "# Good for catboost\n",
        "X_train2=pd.DataFrame(TRAIN_final.drop(columns=[\"repurchase\",\"last_date\",\"zip_code\",\n",
        "                                               \"Group\",\"card_subscription\", \"multicard\", \"gmail\", \"hotmail\",\n",
        "                                               \"yahoo\",\"orange\", \"other_mail\",\"stores_nb\"])) \n",
        "Y_train2=pd.DataFrame(TRAIN_final[\"repurchase\"])\n",
        "\n",
        "X_test2=pd.DataFrame(TEST_final.drop(columns=[\"last_date\",\"zip_code\",\n",
        "                                               \"Group\",\"card_subscription\", \"multicard\", \"gmail\", \"hotmail\",\n",
        "                                               \"yahoo\",\"orange\", \"other_mail\",\"stores_nb\"]))\n",
        "\n",
        "X_train22, X_val22, Y_train22, Y_val22 = train_test_split(X_train2, Y_train2, test_size=0.2, random_state=0)"
      ],
      "execution_count": 697,
      "outputs": []
    },
    {
      "cell_type": "code",
      "metadata": {
        "colab": {
          "base_uri": "https://localhost:8080/"
        },
        "id": "WJ9jwr-6m7w-",
        "outputId": "3c24fa3f-f955-43a9-fc99-8f95f2b55f19"
      },
      "source": [
        "X_train1.dtypes"
      ],
      "execution_count": 698,
      "outputs": [
        {
          "output_type": "execute_result",
          "data": {
            "text/plain": [
              "id_client                    int64\n",
              "stores_nb                    int64\n",
              "visits_nb                    int64\n",
              "item_count                 float64\n",
              "gross_amount               float64\n",
              "discount_amount            float64\n",
              "basket_value               float64\n",
              "payment_gift                 int64\n",
              "payment_cheque               int64\n",
              "payment_cash                 int64\n",
              "gmail                        int64\n",
              "hotmail                      int64\n",
              "yahoo                        int64\n",
              "orange                       int64\n",
              "other_mail                   int64\n",
              "payment_card                 int64\n",
              "civility                     int64\n",
              "price_segmentation           int64\n",
              "card_subscription_dummy      int64\n",
              "recency                    float64\n",
              "dtype: object"
            ]
          },
          "metadata": {},
          "execution_count": 698
        }
      ]
    },
    {
      "cell_type": "code",
      "metadata": {
        "id": "DC9XbrJdm7w_"
      },
      "source": [
        "cat_features1=[10,11,12,13,14,16,17,18]"
      ],
      "execution_count": 699,
      "outputs": []
    },
    {
      "cell_type": "code",
      "metadata": {
        "colab": {
          "base_uri": "https://localhost:8080/"
        },
        "id": "DE6wNK6vm7xA",
        "outputId": "f22cf44d-de6c-4b5b-a390-6553e8be4e65"
      },
      "source": [
        "X_train2.dtypes"
      ],
      "execution_count": 700,
      "outputs": [
        {
          "output_type": "execute_result",
          "data": {
            "text/plain": [
              "id_client                    int64\n",
              "visits_nb                    int64\n",
              "item_count                 float64\n",
              "gross_amount               float64\n",
              "discount_amount            float64\n",
              "basket_value               float64\n",
              "payment_gift                 int64\n",
              "payment_cheque               int64\n",
              "payment_cash                 int64\n",
              "payment_card                 int64\n",
              "civility                     int64\n",
              "price_segmentation           int64\n",
              "card_subscription_dummy      int64\n",
              "recency                    float64\n",
              "dtype: object"
            ]
          },
          "metadata": {},
          "execution_count": 700
        }
      ]
    },
    {
      "cell_type": "code",
      "metadata": {
        "id": "8ZfcLKhGm7xB"
      },
      "source": [
        "cat_features2=[10,11,12]"
      ],
      "execution_count": 701,
      "outputs": []
    },
    {
      "cell_type": "markdown",
      "metadata": {
        "id": "sE-k-jYPjLA0"
      },
      "source": [
        "# Analysis\n"
      ]
    },
    {
      "cell_type": "markdown",
      "metadata": {
        "id": "e435HLdWkFpF"
      },
      "source": [
        "* XGBoost"
      ]
    },
    {
      "cell_type": "code",
      "metadata": {
        "colab": {
          "base_uri": "https://localhost:8080/"
        },
        "id": "MAv_k6gim7xD",
        "outputId": "8870d786-fad6-44fc-c524-37e5d2a8429e"
      },
      "source": [
        "XGB = XGBClassifier()\n",
        "\n",
        "XGB.fit(X_train11,np.ravel(Y_train11.values))\n",
        "\n",
        "pred_XGB = XGB.predict_proba(X_val11)\n",
        "\n",
        "log_loss_xgb = metrics.log_loss(np.ravel(Y_val11.values), pred_XGB[:,1])\n",
        "log_loss_xgb"
      ],
      "execution_count": 702,
      "outputs": [
        {
          "output_type": "execute_result",
          "data": {
            "text/plain": [
              "0.20526543321998017"
            ]
          },
          "metadata": {},
          "execution_count": 702
        }
      ]
    },
    {
      "cell_type": "code",
      "metadata": {
        "colab": {
          "base_uri": "https://localhost:8080/"
        },
        "id": "MzCmYSDcm7xD",
        "outputId": "d32589d0-f288-4707-866b-87a0ead863d1"
      },
      "source": [
        "XGB = XGBClassifier()\n",
        "\n",
        "XGB.fit(X_train22,np.ravel(Y_train22.values))\n",
        "\n",
        "pred_XGB = XGB.predict_proba(X_val22)\n",
        "\n",
        "log_loss_xgb = metrics.log_loss(np.ravel(Y_val22.values), pred_XGB[:,1])\n",
        "log_loss_xgb"
      ],
      "execution_count": 703,
      "outputs": [
        {
          "output_type": "execute_result",
          "data": {
            "text/plain": [
              "0.20524798785587034"
            ]
          },
          "metadata": {},
          "execution_count": 703
        }
      ]
    },
    {
      "cell_type": "code",
      "metadata": {
        "id": "dJ6TeZkEm7xD"
      },
      "source": [
        "XGB = XGBClassifier()\n",
        "\n",
        "XGB.fit(X_train1,np.ravel(Y_train1.values))\n",
        "\n",
        "pred_XGB = XGB.predict_proba(X_test1)\n",
        "pred_XGB = pd.DataFrame({\"id_client\": X_test1[\"id_client\"], \"repurchase\": pred_XGB[:,1]})\n",
        "\n",
        "sub_XGB=pred_XGB.to_csv(path_sub+\"submission_XGB.csv\", index=False)\n",
        "sub_XGB"
      ],
      "execution_count": 704,
      "outputs": []
    },
    {
      "cell_type": "markdown",
      "metadata": {
        "id": "oFAeK3rQm7xD"
      },
      "source": [
        "* Optimized XGBoost "
      ]
    },
    {
      "cell_type": "code",
      "metadata": {
        "id": "pNFDcFbHkFpG",
        "colab": {
          "base_uri": "https://localhost:8080/"
        },
        "outputId": "42d9bd6a-f466-4177-f760-007b0a4ba2a1"
      },
      "source": [
        "XGB_opti = XGBClassifier(learning_rate=0.1,\n",
        " n_estimators=120,\n",
        " max_depth=6,\n",
        " min_child_weight=4,\n",
        " gamma=0.1,\n",
        " subsample=0.8,\n",
        " colsample_bytree=0.9,\n",
        " reg_alpha=1,\n",
        " objective= 'binary:logistic',\n",
        " seed=4)\n",
        "\n",
        "XGB_opti.fit(X_train11,np.ravel(Y_train11.values))\n",
        "\n",
        "pred_XGB_opti = XGB_opti.predict_proba(X_val11)\n",
        "\n",
        "log_loss_XGB_opti = metrics.log_loss(np.ravel(Y_val11.values), pred_XGB_opti[:,1])\n",
        "log_loss_XGB_opti"
      ],
      "execution_count": 705,
      "outputs": [
        {
          "output_type": "execute_result",
          "data": {
            "text/plain": [
              "0.20376207962091122"
            ]
          },
          "metadata": {},
          "execution_count": 705
        }
      ]
    },
    {
      "cell_type": "code",
      "metadata": {
        "id": "Ij6WPOSlm7xE"
      },
      "source": [
        "XGB_opti = XGBClassifier(learning_rate=0.1,\n",
        " n_estimators=120,\n",
        " max_depth=6,\n",
        " min_child_weight=4,\n",
        " gamma=0.1,\n",
        " subsample=0.8,\n",
        " colsample_bytree=0.9,\n",
        " reg_alpha=1,\n",
        " objective= 'binary:logistic',\n",
        " seed=4)\n",
        "\n",
        "XGB_opti.fit(X_train1,np.ravel(Y_train1.values))\n",
        "\n",
        "pred_XGB_opti = XGB_opti.predict_proba(X_test1)\n",
        "\n",
        "pred_XGB_opti = pd.DataFrame({\"id_client\": X_test1[\"id_client\"], \"repurchase\": pred_XGB_opti[:,1]})\n",
        "\n",
        "sub_XGB_opti=pred_XGB_opti.to_csv(path_sub+\"submission_XGB_opti.csv\", index=False)\n",
        "sub_XGB_opti"
      ],
      "execution_count": 706,
      "outputs": []
    },
    {
      "cell_type": "code",
      "metadata": {
        "colab": {
          "base_uri": "https://localhost:8080/"
        },
        "id": "_mEsIbwLVw1l",
        "outputId": "a993cce5-2c4f-429c-fdb2-4c4cc8668032"
      },
      "source": [
        "# Contribution of variables to the model\n",
        "XGB_opti.feature_importances_"
      ],
      "execution_count": 707,
      "outputs": [
        {
          "output_type": "execute_result",
          "data": {
            "text/plain": [
              "array([0.02607924, 0.02238884, 0.24775678, 0.06571658, 0.02215073,\n",
              "       0.02267727, 0.02301618, 0.02179855, 0.0222235 , 0.04129069,\n",
              "       0.01690446, 0.01813519, 0.01277782, 0.01936076, 0.01764185,\n",
              "       0.0813153 , 0.02438254, 0.02139985, 0.01836894, 0.25461495],\n",
              "      dtype=float32)"
            ]
          },
          "metadata": {},
          "execution_count": 707
        }
      ]
    },
    {
      "cell_type": "markdown",
      "metadata": {
        "id": "hJfpDwf9m7xE"
      },
      "source": [
        "* Catboost"
      ]
    },
    {
      "cell_type": "code",
      "metadata": {
        "colab": {
          "base_uri": "https://localhost:8080/"
        },
        "id": "TclGZvs3m7xF",
        "outputId": "93c88373-4c6c-4ca1-dd87-65f028ef9d5c"
      },
      "source": [
        "# CatBoostClassifier\n",
        "cb = CatBoostClassifier(iterations=15,random_seed=4)\n",
        "\n",
        "# Fit model\n",
        "cb.fit(X_train11, np.ravel(Y_train11.values), cat_features1)\n",
        "\n",
        "# Get predicted probabilities for each class\n",
        "pred_cb = cb.predict_proba(X_val11)\n",
        "\n",
        "log_loss_ct = metrics.log_loss(np.ravel(Y_val11.values), pred_cb[:,1])\n",
        "log_loss_ct"
      ],
      "execution_count": 708,
      "outputs": [
        {
          "output_type": "stream",
          "name": "stdout",
          "text": [
            "Learning rate set to 0.5\n",
            "0:\tlearn: 0.2823579\ttotal: 93.9ms\tremaining: 1.31s\n",
            "1:\tlearn: 0.2208194\ttotal: 181ms\tremaining: 1.18s\n",
            "2:\tlearn: 0.2085380\ttotal: 279ms\tremaining: 1.12s\n",
            "3:\tlearn: 0.2054545\ttotal: 378ms\tremaining: 1.04s\n",
            "4:\tlearn: 0.2015080\ttotal: 471ms\tremaining: 943ms\n",
            "5:\tlearn: 0.2008309\ttotal: 561ms\tremaining: 841ms\n",
            "6:\tlearn: 0.2003240\ttotal: 637ms\tremaining: 728ms\n",
            "7:\tlearn: 0.1999233\ttotal: 742ms\tremaining: 649ms\n",
            "8:\tlearn: 0.1995879\ttotal: 832ms\tremaining: 555ms\n",
            "9:\tlearn: 0.1988973\ttotal: 929ms\tremaining: 465ms\n",
            "10:\tlearn: 0.1982311\ttotal: 1.02s\tremaining: 372ms\n",
            "11:\tlearn: 0.1979901\ttotal: 1.11s\tremaining: 278ms\n",
            "12:\tlearn: 0.1978259\ttotal: 1.2s\tremaining: 185ms\n",
            "13:\tlearn: 0.1977458\ttotal: 1.3s\tremaining: 92.7ms\n",
            "14:\tlearn: 0.1974024\ttotal: 1.39s\tremaining: 0us\n"
          ]
        },
        {
          "output_type": "execute_result",
          "data": {
            "text/plain": [
              "0.20672877909605428"
            ]
          },
          "metadata": {},
          "execution_count": 708
        }
      ]
    },
    {
      "cell_type": "code",
      "metadata": {
        "colab": {
          "base_uri": "https://localhost:8080/"
        },
        "id": "pfrNzAvbm7xF",
        "outputId": "6b7c812b-fbbf-4a57-c758-73ae9086892c"
      },
      "source": [
        "# CatBoostClassifier\n",
        "cb = CatBoostClassifier(iterations=15,random_seed=4)\n",
        "\n",
        "# Fit model\n",
        "cb.fit(X_train22, np.ravel(Y_train22.values), cat_features2)\n",
        "\n",
        "# Get predicted probabilities for each class\n",
        "pred_cb = cb.predict_proba(X_val22)\n",
        "\n",
        "log_loss_ct = metrics.log_loss(np.ravel(Y_val22.values), pred_cb[:,1])\n",
        "log_loss_ct"
      ],
      "execution_count": 709,
      "outputs": [
        {
          "output_type": "stream",
          "name": "stdout",
          "text": [
            "Learning rate set to 0.5\n",
            "0:\tlearn: 0.4043328\ttotal: 55.6ms\tremaining: 779ms\n",
            "1:\tlearn: 0.3008962\ttotal: 101ms\tremaining: 656ms\n",
            "2:\tlearn: 0.2518561\ttotal: 150ms\tremaining: 599ms\n",
            "3:\tlearn: 0.2277562\ttotal: 207ms\tremaining: 569ms\n",
            "4:\tlearn: 0.2149179\ttotal: 255ms\tremaining: 511ms\n",
            "5:\tlearn: 0.2080213\ttotal: 307ms\tremaining: 461ms\n",
            "6:\tlearn: 0.2045551\ttotal: 375ms\tremaining: 429ms\n",
            "7:\tlearn: 0.2024148\ttotal: 428ms\tremaining: 374ms\n",
            "8:\tlearn: 0.2012250\ttotal: 485ms\tremaining: 323ms\n",
            "9:\tlearn: 0.2002577\ttotal: 531ms\tremaining: 265ms\n",
            "10:\tlearn: 0.1997839\ttotal: 577ms\tremaining: 210ms\n",
            "11:\tlearn: 0.1991163\ttotal: 627ms\tremaining: 157ms\n",
            "12:\tlearn: 0.1988829\ttotal: 675ms\tremaining: 104ms\n",
            "13:\tlearn: 0.1983408\ttotal: 721ms\tremaining: 51.5ms\n",
            "14:\tlearn: 0.1981367\ttotal: 768ms\tremaining: 0us\n"
          ]
        },
        {
          "output_type": "execute_result",
          "data": {
            "text/plain": [
              "0.20532630709562824"
            ]
          },
          "metadata": {},
          "execution_count": 709
        }
      ]
    },
    {
      "cell_type": "code",
      "metadata": {
        "scrolled": true,
        "colab": {
          "base_uri": "https://localhost:8080/"
        },
        "id": "NRkOfQgrm7xG",
        "outputId": "c19e90aa-f601-41e1-e639-60adb12bf487"
      },
      "source": [
        "# CatBoostClassifier\n",
        "cb = CatBoostClassifier(iterations=15,random_seed=4)\n",
        "\n",
        "# Fit model\n",
        "cb.fit(X_train2, np.ravel(Y_train2.values), cat_features2)\n",
        "\n",
        "# Get predicted probabilities for each class\n",
        "pred_cb = cb.predict_proba(X_test2)\n",
        "\n",
        "pred_cb = pd.DataFrame({\"id_client\": X_test2[\"id_client\"], \"repurchase\": pred_cb[:,1]})\n",
        "\n",
        "sub_cb=pred_cb.to_csv(path_sub+\"submission_cb.csv\", index=False)\n",
        "sub_cb"
      ],
      "execution_count": 710,
      "outputs": [
        {
          "output_type": "stream",
          "name": "stdout",
          "text": [
            "Learning rate set to 0.5\n",
            "0:\tlearn: 0.4062082\ttotal: 68.2ms\tremaining: 954ms\n",
            "1:\tlearn: 0.3013608\ttotal: 132ms\tremaining: 858ms\n",
            "2:\tlearn: 0.2534912\ttotal: 194ms\tremaining: 775ms\n",
            "3:\tlearn: 0.2288898\ttotal: 253ms\tremaining: 696ms\n",
            "4:\tlearn: 0.2165606\ttotal: 309ms\tremaining: 617ms\n",
            "5:\tlearn: 0.2094430\ttotal: 364ms\tremaining: 546ms\n",
            "6:\tlearn: 0.2058074\ttotal: 421ms\tremaining: 481ms\n",
            "7:\tlearn: 0.2034130\ttotal: 475ms\tremaining: 415ms\n",
            "8:\tlearn: 0.2024963\ttotal: 530ms\tremaining: 353ms\n",
            "9:\tlearn: 0.2015494\ttotal: 589ms\tremaining: 294ms\n",
            "10:\tlearn: 0.2011307\ttotal: 658ms\tremaining: 239ms\n",
            "11:\tlearn: 0.2006233\ttotal: 715ms\tremaining: 179ms\n",
            "12:\tlearn: 0.2005488\ttotal: 764ms\tremaining: 118ms\n",
            "13:\tlearn: 0.2002005\ttotal: 820ms\tremaining: 58.6ms\n",
            "14:\tlearn: 0.1999980\ttotal: 879ms\tremaining: 0us\n"
          ]
        }
      ]
    },
    {
      "cell_type": "markdown",
      "metadata": {
        "id": "7nqRgSD6m7xG"
      },
      "source": [
        "* Optimized catboost"
      ]
    },
    {
      "cell_type": "code",
      "metadata": {
        "scrolled": false,
        "colab": {
          "base_uri": "https://localhost:8080/"
        },
        "id": "EyI3v6Jcm7xG",
        "outputId": "e9e053a5-c3c0-460b-ed3b-c59cb2e22fba"
      },
      "source": [
        "cb = CatBoostClassifier(loss_function='Logloss', learning_rate=0.5, random_seed=4, silent=True)\n",
        "\n",
        "parameters = {\n",
        "    'iterations':range(5,25,5),\n",
        "    'depth':range(4,10,1)}\n",
        "\n",
        "opti_cb = GridSearchCV(cb, parameters, cv=5, scoring='accuracy')\n",
        "\n",
        "opti_cb.fit(X_train22,np.ravel(Y_train22.values))"
      ],
      "execution_count": 711,
      "outputs": [
        {
          "output_type": "execute_result",
          "data": {
            "text/plain": [
              "GridSearchCV(cv=5,\n",
              "             estimator=<catboost.core.CatBoostClassifier object at 0x7f6be9aada50>,\n",
              "             param_grid={'depth': range(4, 10), 'iterations': range(5, 25, 5)},\n",
              "             scoring='accuracy')"
            ]
          },
          "metadata": {},
          "execution_count": 711
        }
      ]
    },
    {
      "cell_type": "code",
      "metadata": {
        "colab": {
          "base_uri": "https://localhost:8080/"
        },
        "id": "59CdSMaQm7xG",
        "outputId": "567a8981-9610-45f4-9691-96371fab04aa"
      },
      "source": [
        "opti_cb.best_params_, opti_cb.best_score_"
      ],
      "execution_count": 712,
      "outputs": [
        {
          "output_type": "execute_result",
          "data": {
            "text/plain": [
              "({'depth': 6, 'iterations': 15}, 0.9268032250044123)"
            ]
          },
          "metadata": {},
          "execution_count": 712
        }
      ]
    },
    {
      "cell_type": "code",
      "metadata": {
        "scrolled": true,
        "colab": {
          "base_uri": "https://localhost:8080/"
        },
        "id": "lyoCoMWfm7xG",
        "outputId": "226f6817-ce1d-43fd-ea4e-75cf6eb989f9"
      },
      "source": [
        "# CatBoostClassifier\n",
        "opti_cb = CatBoostClassifier(iterations=15,\n",
        "                           learning_rate=0.5,\n",
        "                           depth=6,\n",
        "                           random_seed=4,\n",
        "                           loss_function='Logloss')\n",
        "\n",
        "# Fit model\n",
        "opti_cb.fit(X_train2, np.ravel(Y_train2.values), cat_features2)\n",
        "\n",
        "# Get predicted probabilities for each class\n",
        "pred_opti_cb = opti_cb.predict_proba(X_test2)\n",
        "\n",
        "pred_opti_cb = pd.DataFrame({\"id_client\": X_test2[\"id_client\"], \"repurchase\": pred_opti_cb[:,1]})\n",
        "\n",
        "sub_opti_cb=pred_opti_cb.to_csv(path_sub+\"submission_opti_cb.csv\", index=False)\n",
        "sub_opti_cb"
      ],
      "execution_count": 713,
      "outputs": [
        {
          "output_type": "stream",
          "name": "stdout",
          "text": [
            "0:\tlearn: 0.4062082\ttotal: 67.1ms\tremaining: 939ms\n",
            "1:\tlearn: 0.3013608\ttotal: 130ms\tremaining: 844ms\n",
            "2:\tlearn: 0.2534912\ttotal: 185ms\tremaining: 742ms\n",
            "3:\tlearn: 0.2288898\ttotal: 250ms\tremaining: 688ms\n",
            "4:\tlearn: 0.2165606\ttotal: 309ms\tremaining: 618ms\n",
            "5:\tlearn: 0.2094430\ttotal: 364ms\tremaining: 545ms\n",
            "6:\tlearn: 0.2058074\ttotal: 418ms\tremaining: 477ms\n",
            "7:\tlearn: 0.2034130\ttotal: 471ms\tremaining: 412ms\n",
            "8:\tlearn: 0.2024963\ttotal: 543ms\tremaining: 362ms\n",
            "9:\tlearn: 0.2015494\ttotal: 609ms\tremaining: 304ms\n",
            "10:\tlearn: 0.2011307\ttotal: 695ms\tremaining: 253ms\n",
            "11:\tlearn: 0.2006233\ttotal: 755ms\tremaining: 189ms\n",
            "12:\tlearn: 0.2005488\ttotal: 809ms\tremaining: 124ms\n",
            "13:\tlearn: 0.2002005\ttotal: 866ms\tremaining: 61.9ms\n",
            "14:\tlearn: 0.1999980\ttotal: 927ms\tremaining: 0us\n"
          ]
        }
      ]
    },
    {
      "cell_type": "code",
      "metadata": {
        "colab": {
          "base_uri": "https://localhost:8080/"
        },
        "id": "UgwiZ3XtVuFN",
        "outputId": "02e560cb-1d78-493c-feeb-a26da62021d9"
      },
      "source": [
        "# Contribution of variables to the model\n",
        "opti_cb.feature_importances_"
      ],
      "execution_count": 714,
      "outputs": [
        {
          "output_type": "execute_result",
          "data": {
            "text/plain": [
              "array([4.43319161e+00, 2.81984960e+01, 2.26210682e+00, 4.79024598e-01,\n",
              "       1.56478261e+00, 3.88553047e+00, 2.93038769e-02, 1.80990291e-01,\n",
              "       3.11177010e-01, 1.26967284e+00, 0.00000000e+00, 8.54090815e-01,\n",
              "       1.52353545e-01, 5.63792795e+01])"
            ]
          },
          "metadata": {},
          "execution_count": 714
        }
      ]
    },
    {
      "cell_type": "markdown",
      "metadata": {
        "id": "FOEbI4Kk0JIl"
      },
      "source": [
        "###Customer's behaviour based on probabilities from XGBoost optimized"
      ]
    },
    {
      "cell_type": "code",
      "metadata": {
        "id": "IqiMlQ3e2Ei8"
      },
      "source": [
        "# We load the csv file from XGBoost optimized\n",
        "SUB_XGB=pd.read_csv(path_sub+\"submission_XGB_opti.csv\")"
      ],
      "execution_count": 715,
      "outputs": []
    },
    {
      "cell_type": "markdown",
      "metadata": {
        "id": "Jk3jATAp0Wbg"
      },
      "source": [
        "* Merge"
      ]
    },
    {
      "cell_type": "code",
      "metadata": {
        "colab": {
          "base_uri": "https://localhost:8080/",
          "height": 309
        },
        "id": "Vc5CUIZQm7xH",
        "outputId": "4c135ee8-c4ad-4f2a-abe0-da1cb6765157"
      },
      "source": [
        "# We merge the probabilities results from XGBoost optimized and we merge them with Test set\n",
        "df_proba=TEST_final.merge(SUB_XGB, on='id_client', how='left')\n",
        "df_proba.head()"
      ],
      "execution_count": 716,
      "outputs": [
        {
          "output_type": "execute_result",
          "data": {
            "text/html": [
              "<div>\n",
              "<style scoped>\n",
              "    .dataframe tbody tr th:only-of-type {\n",
              "        vertical-align: middle;\n",
              "    }\n",
              "\n",
              "    .dataframe tbody tr th {\n",
              "        vertical-align: top;\n",
              "    }\n",
              "\n",
              "    .dataframe thead th {\n",
              "        text-align: right;\n",
              "    }\n",
              "</style>\n",
              "<table border=\"1\" class=\"dataframe\">\n",
              "  <thead>\n",
              "    <tr style=\"text-align: right;\">\n",
              "      <th></th>\n",
              "      <th>id_client</th>\n",
              "      <th>stores_nb</th>\n",
              "      <th>visits_nb</th>\n",
              "      <th>last_date</th>\n",
              "      <th>item_count</th>\n",
              "      <th>gross_amount</th>\n",
              "      <th>discount_amount</th>\n",
              "      <th>basket_value</th>\n",
              "      <th>payment_gift</th>\n",
              "      <th>payment_cheque</th>\n",
              "      <th>payment_cash</th>\n",
              "      <th>gmail</th>\n",
              "      <th>hotmail</th>\n",
              "      <th>yahoo</th>\n",
              "      <th>orange</th>\n",
              "      <th>other_mail</th>\n",
              "      <th>payment_card</th>\n",
              "      <th>civility</th>\n",
              "      <th>zip_code</th>\n",
              "      <th>card_subscription</th>\n",
              "      <th>multicard</th>\n",
              "      <th>price_segmentation</th>\n",
              "      <th>Group</th>\n",
              "      <th>card_subscription_dummy</th>\n",
              "      <th>recency</th>\n",
              "      <th>repurchase</th>\n",
              "    </tr>\n",
              "  </thead>\n",
              "  <tbody>\n",
              "    <tr>\n",
              "      <th>0</th>\n",
              "      <td>2098</td>\n",
              "      <td>1</td>\n",
              "      <td>36</td>\n",
              "      <td>2020-07-23 10:58:00+00:00</td>\n",
              "      <td>577.0</td>\n",
              "      <td>1697.54</td>\n",
              "      <td>52.98</td>\n",
              "      <td>1644.56</td>\n",
              "      <td>6</td>\n",
              "      <td>3</td>\n",
              "      <td>7</td>\n",
              "      <td>0</td>\n",
              "      <td>0</td>\n",
              "      <td>0</td>\n",
              "      <td>0</td>\n",
              "      <td>0</td>\n",
              "      <td>26</td>\n",
              "      <td>3</td>\n",
              "      <td>38130</td>\n",
              "      <td>NaT</td>\n",
              "      <td>0.0</td>\n",
              "      <td>2</td>\n",
              "      <td>TEST</td>\n",
              "      <td>0</td>\n",
              "      <td>8.539583</td>\n",
              "      <td>0.226773</td>\n",
              "    </tr>\n",
              "    <tr>\n",
              "      <th>1</th>\n",
              "      <td>3399</td>\n",
              "      <td>1</td>\n",
              "      <td>103</td>\n",
              "      <td>2020-07-31 11:54:00+00:00</td>\n",
              "      <td>1372.0</td>\n",
              "      <td>4285.57</td>\n",
              "      <td>57.11</td>\n",
              "      <td>4228.46</td>\n",
              "      <td>1</td>\n",
              "      <td>16</td>\n",
              "      <td>8</td>\n",
              "      <td>0</td>\n",
              "      <td>0</td>\n",
              "      <td>0</td>\n",
              "      <td>0</td>\n",
              "      <td>0</td>\n",
              "      <td>81</td>\n",
              "      <td>3</td>\n",
              "      <td>38130</td>\n",
              "      <td>NaT</td>\n",
              "      <td>0.0</td>\n",
              "      <td>2</td>\n",
              "      <td>TEST</td>\n",
              "      <td>0</td>\n",
              "      <td>0.500694</td>\n",
              "      <td>0.298658</td>\n",
              "    </tr>\n",
              "    <tr>\n",
              "      <th>2</th>\n",
              "      <td>3712</td>\n",
              "      <td>2</td>\n",
              "      <td>80</td>\n",
              "      <td>2020-07-29 12:31:00+00:00</td>\n",
              "      <td>834.0</td>\n",
              "      <td>2234.37</td>\n",
              "      <td>195.78</td>\n",
              "      <td>2038.59</td>\n",
              "      <td>1</td>\n",
              "      <td>0</td>\n",
              "      <td>1</td>\n",
              "      <td>0</td>\n",
              "      <td>0</td>\n",
              "      <td>0</td>\n",
              "      <td>0</td>\n",
              "      <td>1</td>\n",
              "      <td>74</td>\n",
              "      <td>2</td>\n",
              "      <td>75011</td>\n",
              "      <td>NaT</td>\n",
              "      <td>0.0</td>\n",
              "      <td>3</td>\n",
              "      <td>TEST</td>\n",
              "      <td>0</td>\n",
              "      <td>2.475000</td>\n",
              "      <td>0.353563</td>\n",
              "    </tr>\n",
              "    <tr>\n",
              "      <th>3</th>\n",
              "      <td>4664</td>\n",
              "      <td>1</td>\n",
              "      <td>51</td>\n",
              "      <td>2020-07-28 09:18:00+00:00</td>\n",
              "      <td>789.0</td>\n",
              "      <td>1996.28</td>\n",
              "      <td>50.27</td>\n",
              "      <td>1946.01</td>\n",
              "      <td>2</td>\n",
              "      <td>50</td>\n",
              "      <td>1</td>\n",
              "      <td>0</td>\n",
              "      <td>0</td>\n",
              "      <td>0</td>\n",
              "      <td>0</td>\n",
              "      <td>0</td>\n",
              "      <td>0</td>\n",
              "      <td>2</td>\n",
              "      <td>92220</td>\n",
              "      <td>NaT</td>\n",
              "      <td>0.0</td>\n",
              "      <td>1</td>\n",
              "      <td>TEST</td>\n",
              "      <td>0</td>\n",
              "      <td>3.609028</td>\n",
              "      <td>0.230353</td>\n",
              "    </tr>\n",
              "    <tr>\n",
              "      <th>4</th>\n",
              "      <td>6741</td>\n",
              "      <td>1</td>\n",
              "      <td>17</td>\n",
              "      <td>2020-03-11 14:51:00+00:00</td>\n",
              "      <td>391.0</td>\n",
              "      <td>1185.50</td>\n",
              "      <td>1.00</td>\n",
              "      <td>1184.50</td>\n",
              "      <td>0</td>\n",
              "      <td>16</td>\n",
              "      <td>0</td>\n",
              "      <td>0</td>\n",
              "      <td>0</td>\n",
              "      <td>0</td>\n",
              "      <td>0</td>\n",
              "      <td>0</td>\n",
              "      <td>1</td>\n",
              "      <td>3</td>\n",
              "      <td>29890</td>\n",
              "      <td>NaT</td>\n",
              "      <td>0.0</td>\n",
              "      <td>0</td>\n",
              "      <td>TEST</td>\n",
              "      <td>0</td>\n",
              "      <td>142.377778</td>\n",
              "      <td>0.009655</td>\n",
              "    </tr>\n",
              "  </tbody>\n",
              "</table>\n",
              "</div>"
            ],
            "text/plain": [
              "   id_client  stores_nb  ...     recency repurchase\n",
              "0       2098          1  ...    8.539583   0.226773\n",
              "1       3399          1  ...    0.500694   0.298658\n",
              "2       3712          2  ...    2.475000   0.353563\n",
              "3       4664          1  ...    3.609028   0.230353\n",
              "4       6741          1  ...  142.377778   0.009655\n",
              "\n",
              "[5 rows x 26 columns]"
            ]
          },
          "metadata": {},
          "execution_count": 716
        }
      ]
    },
    {
      "cell_type": "code",
      "metadata": {
        "colab": {
          "base_uri": "https://localhost:8080/",
          "height": 317
        },
        "id": "dTLaaIkq0Rkp",
        "outputId": "77ff0712-10d4-4ce0-f462-37df537d214a"
      },
      "source": [
        "df_proba.describe()"
      ],
      "execution_count": 717,
      "outputs": [
        {
          "output_type": "execute_result",
          "data": {
            "text/html": [
              "<div>\n",
              "<style scoped>\n",
              "    .dataframe tbody tr th:only-of-type {\n",
              "        vertical-align: middle;\n",
              "    }\n",
              "\n",
              "    .dataframe tbody tr th {\n",
              "        vertical-align: top;\n",
              "    }\n",
              "\n",
              "    .dataframe thead th {\n",
              "        text-align: right;\n",
              "    }\n",
              "</style>\n",
              "<table border=\"1\" class=\"dataframe\">\n",
              "  <thead>\n",
              "    <tr style=\"text-align: right;\">\n",
              "      <th></th>\n",
              "      <th>id_client</th>\n",
              "      <th>stores_nb</th>\n",
              "      <th>visits_nb</th>\n",
              "      <th>item_count</th>\n",
              "      <th>gross_amount</th>\n",
              "      <th>discount_amount</th>\n",
              "      <th>basket_value</th>\n",
              "      <th>payment_gift</th>\n",
              "      <th>payment_cheque</th>\n",
              "      <th>payment_cash</th>\n",
              "      <th>gmail</th>\n",
              "      <th>hotmail</th>\n",
              "      <th>yahoo</th>\n",
              "      <th>orange</th>\n",
              "      <th>other_mail</th>\n",
              "      <th>payment_card</th>\n",
              "      <th>civility</th>\n",
              "      <th>multicard</th>\n",
              "      <th>price_segmentation</th>\n",
              "      <th>card_subscription_dummy</th>\n",
              "      <th>recency</th>\n",
              "      <th>repurchase</th>\n",
              "    </tr>\n",
              "  </thead>\n",
              "  <tbody>\n",
              "    <tr>\n",
              "      <th>count</th>\n",
              "      <td>4.010600e+04</td>\n",
              "      <td>40106.000000</td>\n",
              "      <td>40106.000000</td>\n",
              "      <td>40106.000000</td>\n",
              "      <td>40106.000000</td>\n",
              "      <td>40106.000000</td>\n",
              "      <td>40106.000000</td>\n",
              "      <td>40106.000000</td>\n",
              "      <td>40106.000000</td>\n",
              "      <td>40106.000000</td>\n",
              "      <td>40106.000000</td>\n",
              "      <td>40106.000000</td>\n",
              "      <td>40106.000000</td>\n",
              "      <td>40106.000000</td>\n",
              "      <td>40106.000000</td>\n",
              "      <td>40106.000000</td>\n",
              "      <td>40106.000000</td>\n",
              "      <td>40106.000000</td>\n",
              "      <td>40106.000000</td>\n",
              "      <td>40106.00000</td>\n",
              "      <td>40106.000000</td>\n",
              "      <td>40106.000000</td>\n",
              "    </tr>\n",
              "    <tr>\n",
              "      <th>mean</th>\n",
              "      <td>3.766548e+07</td>\n",
              "      <td>1.482197</td>\n",
              "      <td>20.552586</td>\n",
              "      <td>326.883434</td>\n",
              "      <td>1038.461728</td>\n",
              "      <td>71.994586</td>\n",
              "      <td>966.673405</td>\n",
              "      <td>1.425896</td>\n",
              "      <td>0.677879</td>\n",
              "      <td>4.703311</td>\n",
              "      <td>0.152795</td>\n",
              "      <td>0.104797</td>\n",
              "      <td>0.042138</td>\n",
              "      <td>0.062435</td>\n",
              "      <td>0.184511</td>\n",
              "      <td>14.014312</td>\n",
              "      <td>2.391213</td>\n",
              "      <td>1.335112</td>\n",
              "      <td>0.947315</td>\n",
              "      <td>0.03012</td>\n",
              "      <td>100.152670</td>\n",
              "      <td>0.077372</td>\n",
              "    </tr>\n",
              "    <tr>\n",
              "      <th>std</th>\n",
              "      <td>2.600387e+07</td>\n",
              "      <td>0.920392</td>\n",
              "      <td>37.511759</td>\n",
              "      <td>582.382583</td>\n",
              "      <td>2104.873295</td>\n",
              "      <td>328.760062</td>\n",
              "      <td>1842.488480</td>\n",
              "      <td>5.374860</td>\n",
              "      <td>4.280827</td>\n",
              "      <td>17.863061</td>\n",
              "      <td>0.359794</td>\n",
              "      <td>0.306296</td>\n",
              "      <td>0.200907</td>\n",
              "      <td>0.241946</td>\n",
              "      <td>0.387905</td>\n",
              "      <td>24.428324</td>\n",
              "      <td>0.792589</td>\n",
              "      <td>14.116111</td>\n",
              "      <td>1.266405</td>\n",
              "      <td>0.17092</td>\n",
              "      <td>109.411978</td>\n",
              "      <td>0.119325</td>\n",
              "    </tr>\n",
              "    <tr>\n",
              "      <th>min</th>\n",
              "      <td>2.098000e+03</td>\n",
              "      <td>1.000000</td>\n",
              "      <td>1.000000</td>\n",
              "      <td>0.000000</td>\n",
              "      <td>0.000000</td>\n",
              "      <td>0.000000</td>\n",
              "      <td>0.000000</td>\n",
              "      <td>0.000000</td>\n",
              "      <td>0.000000</td>\n",
              "      <td>0.000000</td>\n",
              "      <td>0.000000</td>\n",
              "      <td>0.000000</td>\n",
              "      <td>0.000000</td>\n",
              "      <td>0.000000</td>\n",
              "      <td>0.000000</td>\n",
              "      <td>0.000000</td>\n",
              "      <td>0.000000</td>\n",
              "      <td>0.000000</td>\n",
              "      <td>0.000000</td>\n",
              "      <td>0.00000</td>\n",
              "      <td>0.009028</td>\n",
              "      <td>0.000420</td>\n",
              "    </tr>\n",
              "    <tr>\n",
              "      <th>25%</th>\n",
              "      <td>1.815497e+07</td>\n",
              "      <td>1.000000</td>\n",
              "      <td>2.000000</td>\n",
              "      <td>27.000000</td>\n",
              "      <td>93.932500</td>\n",
              "      <td>0.000000</td>\n",
              "      <td>90.122500</td>\n",
              "      <td>0.000000</td>\n",
              "      <td>0.000000</td>\n",
              "      <td>0.000000</td>\n",
              "      <td>0.000000</td>\n",
              "      <td>0.000000</td>\n",
              "      <td>0.000000</td>\n",
              "      <td>0.000000</td>\n",
              "      <td>0.000000</td>\n",
              "      <td>1.000000</td>\n",
              "      <td>2.000000</td>\n",
              "      <td>0.000000</td>\n",
              "      <td>0.000000</td>\n",
              "      <td>0.00000</td>\n",
              "      <td>9.220312</td>\n",
              "      <td>0.006318</td>\n",
              "    </tr>\n",
              "    <tr>\n",
              "      <th>50%</th>\n",
              "      <td>3.409838e+07</td>\n",
              "      <td>1.000000</td>\n",
              "      <td>8.000000</td>\n",
              "      <td>105.000000</td>\n",
              "      <td>343.560000</td>\n",
              "      <td>8.000000</td>\n",
              "      <td>328.920000</td>\n",
              "      <td>0.000000</td>\n",
              "      <td>0.000000</td>\n",
              "      <td>1.000000</td>\n",
              "      <td>0.000000</td>\n",
              "      <td>0.000000</td>\n",
              "      <td>0.000000</td>\n",
              "      <td>0.000000</td>\n",
              "      <td>0.000000</td>\n",
              "      <td>5.000000</td>\n",
              "      <td>3.000000</td>\n",
              "      <td>0.000000</td>\n",
              "      <td>0.000000</td>\n",
              "      <td>0.00000</td>\n",
              "      <td>45.231597</td>\n",
              "      <td>0.024862</td>\n",
              "    </tr>\n",
              "    <tr>\n",
              "      <th>75%</th>\n",
              "      <td>3.896601e+07</td>\n",
              "      <td>2.000000</td>\n",
              "      <td>25.000000</td>\n",
              "      <td>366.000000</td>\n",
              "      <td>1140.557500</td>\n",
              "      <td>40.787500</td>\n",
              "      <td>1086.585000</td>\n",
              "      <td>1.000000</td>\n",
              "      <td>0.000000</td>\n",
              "      <td>3.000000</td>\n",
              "      <td>0.000000</td>\n",
              "      <td>0.000000</td>\n",
              "      <td>0.000000</td>\n",
              "      <td>0.000000</td>\n",
              "      <td>0.000000</td>\n",
              "      <td>17.000000</td>\n",
              "      <td>3.000000</td>\n",
              "      <td>0.000000</td>\n",
              "      <td>2.000000</td>\n",
              "      <td>0.00000</td>\n",
              "      <td>182.463021</td>\n",
              "      <td>0.101463</td>\n",
              "    </tr>\n",
              "    <tr>\n",
              "      <th>max</th>\n",
              "      <td>8.801038e+07</td>\n",
              "      <td>27.000000</td>\n",
              "      <td>2895.000000</td>\n",
              "      <td>19897.000000</td>\n",
              "      <td>148949.480000</td>\n",
              "      <td>28640.630000</td>\n",
              "      <td>119978.500000</td>\n",
              "      <td>543.000000</td>\n",
              "      <td>156.000000</td>\n",
              "      <td>1584.000000</td>\n",
              "      <td>1.000000</td>\n",
              "      <td>1.000000</td>\n",
              "      <td>1.000000</td>\n",
              "      <td>1.000000</td>\n",
              "      <td>1.000000</td>\n",
              "      <td>1002.000000</td>\n",
              "      <td>3.000000</td>\n",
              "      <td>1242.000000</td>\n",
              "      <td>3.000000</td>\n",
              "      <td>1.00000</td>\n",
              "      <td>365.611806</td>\n",
              "      <td>0.917369</td>\n",
              "    </tr>\n",
              "  </tbody>\n",
              "</table>\n",
              "</div>"
            ],
            "text/plain": [
              "          id_client     stores_nb  ...       recency    repurchase\n",
              "count  4.010600e+04  40106.000000  ...  40106.000000  40106.000000\n",
              "mean   3.766548e+07      1.482197  ...    100.152670      0.077372\n",
              "std    2.600387e+07      0.920392  ...    109.411978      0.119325\n",
              "min    2.098000e+03      1.000000  ...      0.009028      0.000420\n",
              "25%    1.815497e+07      1.000000  ...      9.220312      0.006318\n",
              "50%    3.409838e+07      1.000000  ...     45.231597      0.024862\n",
              "75%    3.896601e+07      2.000000  ...    182.463021      0.101463\n",
              "max    8.801038e+07     27.000000  ...    365.611806      0.917369\n",
              "\n",
              "[8 rows x 22 columns]"
            ]
          },
          "metadata": {},
          "execution_count": 717
        }
      ]
    },
    {
      "cell_type": "code",
      "metadata": {
        "id": "-vpFZ9M20pak"
      },
      "source": [
        "# We range values in descending order with respect to repurchase\n",
        "df_proba2=df_proba.sort_values(by='repurchase', ascending=False)"
      ],
      "execution_count": 718,
      "outputs": []
    },
    {
      "cell_type": "code",
      "metadata": {
        "colab": {
          "base_uri": "https://localhost:8080/",
          "height": 609
        },
        "id": "yHJeMbCl07lo",
        "outputId": "12d42156-22c5-4d3f-b81b-a24aed6950c6"
      },
      "source": [
        "# We keep only the 1000 customers with the highest probability\n",
        "df_proba2.iloc[:1000,:]"
      ],
      "execution_count": 719,
      "outputs": [
        {
          "output_type": "execute_result",
          "data": {
            "text/html": [
              "<div>\n",
              "<style scoped>\n",
              "    .dataframe tbody tr th:only-of-type {\n",
              "        vertical-align: middle;\n",
              "    }\n",
              "\n",
              "    .dataframe tbody tr th {\n",
              "        vertical-align: top;\n",
              "    }\n",
              "\n",
              "    .dataframe thead th {\n",
              "        text-align: right;\n",
              "    }\n",
              "</style>\n",
              "<table border=\"1\" class=\"dataframe\">\n",
              "  <thead>\n",
              "    <tr style=\"text-align: right;\">\n",
              "      <th></th>\n",
              "      <th>id_client</th>\n",
              "      <th>stores_nb</th>\n",
              "      <th>visits_nb</th>\n",
              "      <th>last_date</th>\n",
              "      <th>item_count</th>\n",
              "      <th>gross_amount</th>\n",
              "      <th>discount_amount</th>\n",
              "      <th>basket_value</th>\n",
              "      <th>payment_gift</th>\n",
              "      <th>payment_cheque</th>\n",
              "      <th>payment_cash</th>\n",
              "      <th>gmail</th>\n",
              "      <th>hotmail</th>\n",
              "      <th>yahoo</th>\n",
              "      <th>orange</th>\n",
              "      <th>other_mail</th>\n",
              "      <th>payment_card</th>\n",
              "      <th>civility</th>\n",
              "      <th>zip_code</th>\n",
              "      <th>card_subscription</th>\n",
              "      <th>multicard</th>\n",
              "      <th>price_segmentation</th>\n",
              "      <th>Group</th>\n",
              "      <th>card_subscription_dummy</th>\n",
              "      <th>recency</th>\n",
              "      <th>repurchase</th>\n",
              "    </tr>\n",
              "  </thead>\n",
              "  <tbody>\n",
              "    <tr>\n",
              "      <th>28582</th>\n",
              "      <td>38641930</td>\n",
              "      <td>3</td>\n",
              "      <td>500</td>\n",
              "      <td>2020-07-31 10:56:00+00:00</td>\n",
              "      <td>14517.0</td>\n",
              "      <td>30871.94</td>\n",
              "      <td>5539.35</td>\n",
              "      <td>25337.33</td>\n",
              "      <td>53</td>\n",
              "      <td>0</td>\n",
              "      <td>467</td>\n",
              "      <td>1</td>\n",
              "      <td>0</td>\n",
              "      <td>0</td>\n",
              "      <td>0</td>\n",
              "      <td>0</td>\n",
              "      <td>19</td>\n",
              "      <td>2</td>\n",
              "      <td>21000</td>\n",
              "      <td>NaT</td>\n",
              "      <td>0.0</td>\n",
              "      <td>1</td>\n",
              "      <td>TEST</td>\n",
              "      <td>0</td>\n",
              "      <td>0.540972</td>\n",
              "      <td>0.917369</td>\n",
              "    </tr>\n",
              "    <tr>\n",
              "      <th>20838</th>\n",
              "      <td>34683790</td>\n",
              "      <td>4</td>\n",
              "      <td>247</td>\n",
              "      <td>2020-07-31 10:04:00+00:00</td>\n",
              "      <td>2425.0</td>\n",
              "      <td>8376.03</td>\n",
              "      <td>228.22</td>\n",
              "      <td>8147.81</td>\n",
              "      <td>4</td>\n",
              "      <td>0</td>\n",
              "      <td>246</td>\n",
              "      <td>0</td>\n",
              "      <td>0</td>\n",
              "      <td>0</td>\n",
              "      <td>0</td>\n",
              "      <td>0</td>\n",
              "      <td>2</td>\n",
              "      <td>2</td>\n",
              "      <td>6400</td>\n",
              "      <td>NaT</td>\n",
              "      <td>0.0</td>\n",
              "      <td>3</td>\n",
              "      <td>TEST</td>\n",
              "      <td>0</td>\n",
              "      <td>0.577083</td>\n",
              "      <td>0.915911</td>\n",
              "    </tr>\n",
              "    <tr>\n",
              "      <th>9367</th>\n",
              "      <td>16956651</td>\n",
              "      <td>3</td>\n",
              "      <td>267</td>\n",
              "      <td>2020-07-31 15:19:00+00:00</td>\n",
              "      <td>3211.0</td>\n",
              "      <td>7063.29</td>\n",
              "      <td>1359.22</td>\n",
              "      <td>5704.07</td>\n",
              "      <td>1</td>\n",
              "      <td>0</td>\n",
              "      <td>262</td>\n",
              "      <td>0</td>\n",
              "      <td>0</td>\n",
              "      <td>0</td>\n",
              "      <td>0</td>\n",
              "      <td>0</td>\n",
              "      <td>2</td>\n",
              "      <td>3</td>\n",
              "      <td>42170</td>\n",
              "      <td>NaT</td>\n",
              "      <td>0.0</td>\n",
              "      <td>3</td>\n",
              "      <td>TEST</td>\n",
              "      <td>0</td>\n",
              "      <td>0.358333</td>\n",
              "      <td>0.903631</td>\n",
              "    </tr>\n",
              "    <tr>\n",
              "      <th>35742</th>\n",
              "      <td>84392971</td>\n",
              "      <td>1</td>\n",
              "      <td>307</td>\n",
              "      <td>2020-07-31 12:20:00+00:00</td>\n",
              "      <td>1151.0</td>\n",
              "      <td>2054.96</td>\n",
              "      <td>1.69</td>\n",
              "      <td>2053.27</td>\n",
              "      <td>0</td>\n",
              "      <td>0</td>\n",
              "      <td>299</td>\n",
              "      <td>0</td>\n",
              "      <td>0</td>\n",
              "      <td>0</td>\n",
              "      <td>0</td>\n",
              "      <td>0</td>\n",
              "      <td>5</td>\n",
              "      <td>3</td>\n",
              "      <td>35400</td>\n",
              "      <td>NaT</td>\n",
              "      <td>0.0</td>\n",
              "      <td>0</td>\n",
              "      <td>TEST</td>\n",
              "      <td>0</td>\n",
              "      <td>0.482639</td>\n",
              "      <td>0.895764</td>\n",
              "    </tr>\n",
              "    <tr>\n",
              "      <th>39494</th>\n",
              "      <td>87631353</td>\n",
              "      <td>1</td>\n",
              "      <td>261</td>\n",
              "      <td>2020-07-31 09:27:00+00:00</td>\n",
              "      <td>2139.0</td>\n",
              "      <td>5673.49</td>\n",
              "      <td>277.96</td>\n",
              "      <td>5395.53</td>\n",
              "      <td>18</td>\n",
              "      <td>0</td>\n",
              "      <td>261</td>\n",
              "      <td>0</td>\n",
              "      <td>0</td>\n",
              "      <td>0</td>\n",
              "      <td>0</td>\n",
              "      <td>0</td>\n",
              "      <td>0</td>\n",
              "      <td>1</td>\n",
              "      <td>None</td>\n",
              "      <td>NaT</td>\n",
              "      <td>0.0</td>\n",
              "      <td>3</td>\n",
              "      <td>TEST</td>\n",
              "      <td>0</td>\n",
              "      <td>0.602778</td>\n",
              "      <td>0.890980</td>\n",
              "    </tr>\n",
              "    <tr>\n",
              "      <th>...</th>\n",
              "      <td>...</td>\n",
              "      <td>...</td>\n",
              "      <td>...</td>\n",
              "      <td>...</td>\n",
              "      <td>...</td>\n",
              "      <td>...</td>\n",
              "      <td>...</td>\n",
              "      <td>...</td>\n",
              "      <td>...</td>\n",
              "      <td>...</td>\n",
              "      <td>...</td>\n",
              "      <td>...</td>\n",
              "      <td>...</td>\n",
              "      <td>...</td>\n",
              "      <td>...</td>\n",
              "      <td>...</td>\n",
              "      <td>...</td>\n",
              "      <td>...</td>\n",
              "      <td>...</td>\n",
              "      <td>...</td>\n",
              "      <td>...</td>\n",
              "      <td>...</td>\n",
              "      <td>...</td>\n",
              "      <td>...</td>\n",
              "      <td>...</td>\n",
              "      <td>...</td>\n",
              "    </tr>\n",
              "    <tr>\n",
              "      <th>32187</th>\n",
              "      <td>80156720</td>\n",
              "      <td>2</td>\n",
              "      <td>65</td>\n",
              "      <td>2020-07-24 17:33:00+00:00</td>\n",
              "      <td>2336.0</td>\n",
              "      <td>8238.00</td>\n",
              "      <td>1767.13</td>\n",
              "      <td>6470.87</td>\n",
              "      <td>25</td>\n",
              "      <td>0</td>\n",
              "      <td>0</td>\n",
              "      <td>0</td>\n",
              "      <td>0</td>\n",
              "      <td>0</td>\n",
              "      <td>0</td>\n",
              "      <td>1</td>\n",
              "      <td>62</td>\n",
              "      <td>3</td>\n",
              "      <td>38470</td>\n",
              "      <td>NaT</td>\n",
              "      <td>0.0</td>\n",
              "      <td>0</td>\n",
              "      <td>TEST</td>\n",
              "      <td>0</td>\n",
              "      <td>7.265278</td>\n",
              "      <td>0.451541</td>\n",
              "    </tr>\n",
              "    <tr>\n",
              "      <th>35046</th>\n",
              "      <td>83559381</td>\n",
              "      <td>2</td>\n",
              "      <td>119</td>\n",
              "      <td>2020-07-31 19:11:00+00:00</td>\n",
              "      <td>1421.0</td>\n",
              "      <td>3214.73</td>\n",
              "      <td>229.98</td>\n",
              "      <td>2984.75</td>\n",
              "      <td>16</td>\n",
              "      <td>0</td>\n",
              "      <td>58</td>\n",
              "      <td>0</td>\n",
              "      <td>0</td>\n",
              "      <td>0</td>\n",
              "      <td>1</td>\n",
              "      <td>0</td>\n",
              "      <td>61</td>\n",
              "      <td>3</td>\n",
              "      <td>49000</td>\n",
              "      <td>NaT</td>\n",
              "      <td>0.0</td>\n",
              "      <td>3</td>\n",
              "      <td>TEST</td>\n",
              "      <td>0</td>\n",
              "      <td>0.197222</td>\n",
              "      <td>0.451493</td>\n",
              "    </tr>\n",
              "    <tr>\n",
              "      <th>35171</th>\n",
              "      <td>83736690</td>\n",
              "      <td>3</td>\n",
              "      <td>135</td>\n",
              "      <td>2020-07-31 11:01:00+00:00</td>\n",
              "      <td>861.0</td>\n",
              "      <td>1785.32</td>\n",
              "      <td>271.24</td>\n",
              "      <td>1514.08</td>\n",
              "      <td>17</td>\n",
              "      <td>0</td>\n",
              "      <td>42</td>\n",
              "      <td>0</td>\n",
              "      <td>0</td>\n",
              "      <td>0</td>\n",
              "      <td>0</td>\n",
              "      <td>1</td>\n",
              "      <td>90</td>\n",
              "      <td>3</td>\n",
              "      <td>19340</td>\n",
              "      <td>NaT</td>\n",
              "      <td>0.0</td>\n",
              "      <td>0</td>\n",
              "      <td>TEST</td>\n",
              "      <td>0</td>\n",
              "      <td>0.537500</td>\n",
              "      <td>0.451407</td>\n",
              "    </tr>\n",
              "    <tr>\n",
              "      <th>7985</th>\n",
              "      <td>14216169</td>\n",
              "      <td>1</td>\n",
              "      <td>46</td>\n",
              "      <td>2020-07-25 16:30:00+00:00</td>\n",
              "      <td>1540.0</td>\n",
              "      <td>3258.62</td>\n",
              "      <td>371.80</td>\n",
              "      <td>2886.82</td>\n",
              "      <td>20</td>\n",
              "      <td>0</td>\n",
              "      <td>0</td>\n",
              "      <td>0</td>\n",
              "      <td>0</td>\n",
              "      <td>0</td>\n",
              "      <td>0</td>\n",
              "      <td>0</td>\n",
              "      <td>46</td>\n",
              "      <td>3</td>\n",
              "      <td>71450</td>\n",
              "      <td>2019-08-10</td>\n",
              "      <td>0.0</td>\n",
              "      <td>0</td>\n",
              "      <td>TEST</td>\n",
              "      <td>1</td>\n",
              "      <td>6.309028</td>\n",
              "      <td>0.451153</td>\n",
              "    </tr>\n",
              "    <tr>\n",
              "      <th>20779</th>\n",
              "      <td>34630070</td>\n",
              "      <td>1</td>\n",
              "      <td>112</td>\n",
              "      <td>2020-07-28 08:55:00+00:00</td>\n",
              "      <td>1435.0</td>\n",
              "      <td>3340.91</td>\n",
              "      <td>87.54</td>\n",
              "      <td>3253.37</td>\n",
              "      <td>8</td>\n",
              "      <td>42</td>\n",
              "      <td>9</td>\n",
              "      <td>0</td>\n",
              "      <td>0</td>\n",
              "      <td>0</td>\n",
              "      <td>1</td>\n",
              "      <td>0</td>\n",
              "      <td>61</td>\n",
              "      <td>2</td>\n",
              "      <td>49000</td>\n",
              "      <td>NaT</td>\n",
              "      <td>0.0</td>\n",
              "      <td>0</td>\n",
              "      <td>TEST</td>\n",
              "      <td>0</td>\n",
              "      <td>3.625000</td>\n",
              "      <td>0.450706</td>\n",
              "    </tr>\n",
              "  </tbody>\n",
              "</table>\n",
              "<p>1000 rows × 26 columns</p>\n",
              "</div>"
            ],
            "text/plain": [
              "       id_client  stores_nb  ...   recency repurchase\n",
              "28582   38641930          3  ...  0.540972   0.917369\n",
              "20838   34683790          4  ...  0.577083   0.915911\n",
              "9367    16956651          3  ...  0.358333   0.903631\n",
              "35742   84392971          1  ...  0.482639   0.895764\n",
              "39494   87631353          1  ...  0.602778   0.890980\n",
              "...          ...        ...  ...       ...        ...\n",
              "32187   80156720          2  ...  7.265278   0.451541\n",
              "35046   83559381          2  ...  0.197222   0.451493\n",
              "35171   83736690          3  ...  0.537500   0.451407\n",
              "7985    14216169          1  ...  6.309028   0.451153\n",
              "20779   34630070          1  ...  3.625000   0.450706\n",
              "\n",
              "[1000 rows x 26 columns]"
            ]
          },
          "metadata": {},
          "execution_count": 719
        }
      ]
    },
    {
      "cell_type": "code",
      "metadata": {
        "colab": {
          "base_uri": "https://localhost:8080/",
          "height": 317
        },
        "id": "egNZ82Yf08F6",
        "outputId": "d8c8d8cb-9525-4698-c03e-b1e9f7e105cf"
      },
      "source": [
        "df_proba2.iloc[:1000,:].describe()"
      ],
      "execution_count": 720,
      "outputs": [
        {
          "output_type": "execute_result",
          "data": {
            "text/html": [
              "<div>\n",
              "<style scoped>\n",
              "    .dataframe tbody tr th:only-of-type {\n",
              "        vertical-align: middle;\n",
              "    }\n",
              "\n",
              "    .dataframe tbody tr th {\n",
              "        vertical-align: top;\n",
              "    }\n",
              "\n",
              "    .dataframe thead th {\n",
              "        text-align: right;\n",
              "    }\n",
              "</style>\n",
              "<table border=\"1\" class=\"dataframe\">\n",
              "  <thead>\n",
              "    <tr style=\"text-align: right;\">\n",
              "      <th></th>\n",
              "      <th>id_client</th>\n",
              "      <th>stores_nb</th>\n",
              "      <th>visits_nb</th>\n",
              "      <th>item_count</th>\n",
              "      <th>gross_amount</th>\n",
              "      <th>discount_amount</th>\n",
              "      <th>basket_value</th>\n",
              "      <th>payment_gift</th>\n",
              "      <th>payment_cheque</th>\n",
              "      <th>payment_cash</th>\n",
              "      <th>gmail</th>\n",
              "      <th>hotmail</th>\n",
              "      <th>yahoo</th>\n",
              "      <th>orange</th>\n",
              "      <th>other_mail</th>\n",
              "      <th>payment_card</th>\n",
              "      <th>civility</th>\n",
              "      <th>multicard</th>\n",
              "      <th>price_segmentation</th>\n",
              "      <th>card_subscription_dummy</th>\n",
              "      <th>recency</th>\n",
              "      <th>repurchase</th>\n",
              "    </tr>\n",
              "  </thead>\n",
              "  <tbody>\n",
              "    <tr>\n",
              "      <th>count</th>\n",
              "      <td>1.000000e+03</td>\n",
              "      <td>1000.000000</td>\n",
              "      <td>1000.000000</td>\n",
              "      <td>1000.000000</td>\n",
              "      <td>1000.000000</td>\n",
              "      <td>1000.000000</td>\n",
              "      <td>1000.000000</td>\n",
              "      <td>1000.000000</td>\n",
              "      <td>1000.000000</td>\n",
              "      <td>1000.000000</td>\n",
              "      <td>1000.000000</td>\n",
              "      <td>1000.000000</td>\n",
              "      <td>1000.00000</td>\n",
              "      <td>1000.000000</td>\n",
              "      <td>1000.000000</td>\n",
              "      <td>1000.000000</td>\n",
              "      <td>1000.000000</td>\n",
              "      <td>1000.000000</td>\n",
              "      <td>1000.000000</td>\n",
              "      <td>1000.00000</td>\n",
              "      <td>1000.000000</td>\n",
              "      <td>1000.000000</td>\n",
              "    </tr>\n",
              "    <tr>\n",
              "      <th>mean</th>\n",
              "      <td>3.273727e+07</td>\n",
              "      <td>2.130000</td>\n",
              "      <td>145.055000</td>\n",
              "      <td>1951.880000</td>\n",
              "      <td>6029.769010</td>\n",
              "      <td>611.137600</td>\n",
              "      <td>5418.797710</td>\n",
              "      <td>10.990000</td>\n",
              "      <td>3.689000</td>\n",
              "      <td>41.086000</td>\n",
              "      <td>0.140000</td>\n",
              "      <td>0.147000</td>\n",
              "      <td>0.03400</td>\n",
              "      <td>0.096000</td>\n",
              "      <td>0.242000</td>\n",
              "      <td>87.914000</td>\n",
              "      <td>2.534000</td>\n",
              "      <td>18.511000</td>\n",
              "      <td>1.320000</td>\n",
              "      <td>0.10100</td>\n",
              "      <td>3.107556</td>\n",
              "      <td>0.574062</td>\n",
              "    </tr>\n",
              "    <tr>\n",
              "      <th>std</th>\n",
              "      <td>2.946405e+07</td>\n",
              "      <td>1.630877</td>\n",
              "      <td>125.731382</td>\n",
              "      <td>1549.862281</td>\n",
              "      <td>6934.869231</td>\n",
              "      <td>1489.801134</td>\n",
              "      <td>5636.764171</td>\n",
              "      <td>22.360588</td>\n",
              "      <td>12.789052</td>\n",
              "      <td>76.687362</td>\n",
              "      <td>0.347161</td>\n",
              "      <td>0.354283</td>\n",
              "      <td>0.18132</td>\n",
              "      <td>0.294739</td>\n",
              "      <td>0.428509</td>\n",
              "      <td>73.436609</td>\n",
              "      <td>0.619053</td>\n",
              "      <td>72.759864</td>\n",
              "      <td>1.342909</td>\n",
              "      <td>0.30148</td>\n",
              "      <td>2.495640</td>\n",
              "      <td>0.101342</td>\n",
              "    </tr>\n",
              "    <tr>\n",
              "      <th>min</th>\n",
              "      <td>6.951000e+03</td>\n",
              "      <td>1.000000</td>\n",
              "      <td>15.000000</td>\n",
              "      <td>102.000000</td>\n",
              "      <td>311.860000</td>\n",
              "      <td>0.000000</td>\n",
              "      <td>311.860000</td>\n",
              "      <td>0.000000</td>\n",
              "      <td>0.000000</td>\n",
              "      <td>0.000000</td>\n",
              "      <td>0.000000</td>\n",
              "      <td>0.000000</td>\n",
              "      <td>0.00000</td>\n",
              "      <td>0.000000</td>\n",
              "      <td>0.000000</td>\n",
              "      <td>0.000000</td>\n",
              "      <td>1.000000</td>\n",
              "      <td>0.000000</td>\n",
              "      <td>0.000000</td>\n",
              "      <td>0.00000</td>\n",
              "      <td>0.015972</td>\n",
              "      <td>0.450706</td>\n",
              "    </tr>\n",
              "    <tr>\n",
              "      <th>25%</th>\n",
              "      <td>8.265808e+06</td>\n",
              "      <td>1.000000</td>\n",
              "      <td>87.000000</td>\n",
              "      <td>1137.500000</td>\n",
              "      <td>3162.775000</td>\n",
              "      <td>66.607500</td>\n",
              "      <td>2938.877500</td>\n",
              "      <td>2.000000</td>\n",
              "      <td>0.000000</td>\n",
              "      <td>2.000000</td>\n",
              "      <td>0.000000</td>\n",
              "      <td>0.000000</td>\n",
              "      <td>0.00000</td>\n",
              "      <td>0.000000</td>\n",
              "      <td>0.000000</td>\n",
              "      <td>43.000000</td>\n",
              "      <td>2.000000</td>\n",
              "      <td>0.000000</td>\n",
              "      <td>0.000000</td>\n",
              "      <td>0.00000</td>\n",
              "      <td>0.594097</td>\n",
              "      <td>0.492894</td>\n",
              "    </tr>\n",
              "    <tr>\n",
              "      <th>50%</th>\n",
              "      <td>2.168064e+07</td>\n",
              "      <td>2.000000</td>\n",
              "      <td>126.000000</td>\n",
              "      <td>1701.500000</td>\n",
              "      <td>4838.530000</td>\n",
              "      <td>293.225000</td>\n",
              "      <td>4531.500000</td>\n",
              "      <td>7.000000</td>\n",
              "      <td>0.000000</td>\n",
              "      <td>12.000000</td>\n",
              "      <td>0.000000</td>\n",
              "      <td>0.000000</td>\n",
              "      <td>0.00000</td>\n",
              "      <td>0.000000</td>\n",
              "      <td>0.000000</td>\n",
              "      <td>77.000000</td>\n",
              "      <td>3.000000</td>\n",
              "      <td>0.000000</td>\n",
              "      <td>1.000000</td>\n",
              "      <td>0.00000</td>\n",
              "      <td>2.343750</td>\n",
              "      <td>0.551070</td>\n",
              "    </tr>\n",
              "    <tr>\n",
              "      <th>75%</th>\n",
              "      <td>3.852905e+07</td>\n",
              "      <td>3.000000</td>\n",
              "      <td>171.000000</td>\n",
              "      <td>2330.750000</td>\n",
              "      <td>7103.945000</td>\n",
              "      <td>695.327500</td>\n",
              "      <td>6411.935000</td>\n",
              "      <td>14.000000</td>\n",
              "      <td>1.000000</td>\n",
              "      <td>57.000000</td>\n",
              "      <td>0.000000</td>\n",
              "      <td>0.000000</td>\n",
              "      <td>0.00000</td>\n",
              "      <td>0.000000</td>\n",
              "      <td>0.000000</td>\n",
              "      <td>120.000000</td>\n",
              "      <td>3.000000</td>\n",
              "      <td>0.000000</td>\n",
              "      <td>3.000000</td>\n",
              "      <td>0.00000</td>\n",
              "      <td>6.172743</td>\n",
              "      <td>0.626098</td>\n",
              "    </tr>\n",
              "    <tr>\n",
              "      <th>max</th>\n",
              "      <td>8.800787e+07</td>\n",
              "      <td>27.000000</td>\n",
              "      <td>2895.000000</td>\n",
              "      <td>19897.000000</td>\n",
              "      <td>148949.480000</td>\n",
              "      <td>28640.630000</td>\n",
              "      <td>119978.500000</td>\n",
              "      <td>543.000000</td>\n",
              "      <td>139.000000</td>\n",
              "      <td>1584.000000</td>\n",
              "      <td>1.000000</td>\n",
              "      <td>1.000000</td>\n",
              "      <td>1.00000</td>\n",
              "      <td>1.000000</td>\n",
              "      <td>1.000000</td>\n",
              "      <td>1002.000000</td>\n",
              "      <td>3.000000</td>\n",
              "      <td>1242.000000</td>\n",
              "      <td>3.000000</td>\n",
              "      <td>1.00000</td>\n",
              "      <td>13.538889</td>\n",
              "      <td>0.917369</td>\n",
              "    </tr>\n",
              "  </tbody>\n",
              "</table>\n",
              "</div>"
            ],
            "text/plain": [
              "          id_client    stores_nb  ...      recency   repurchase\n",
              "count  1.000000e+03  1000.000000  ...  1000.000000  1000.000000\n",
              "mean   3.273727e+07     2.130000  ...     3.107556     0.574062\n",
              "std    2.946405e+07     1.630877  ...     2.495640     0.101342\n",
              "min    6.951000e+03     1.000000  ...     0.015972     0.450706\n",
              "25%    8.265808e+06     1.000000  ...     0.594097     0.492894\n",
              "50%    2.168064e+07     2.000000  ...     2.343750     0.551070\n",
              "75%    3.852905e+07     3.000000  ...     6.172743     0.626098\n",
              "max    8.800787e+07    27.000000  ...    13.538889     0.917369\n",
              "\n",
              "[8 rows x 22 columns]"
            ]
          },
          "metadata": {},
          "execution_count": 720
        }
      ]
    },
    {
      "cell_type": "code",
      "metadata": {
        "colab": {
          "base_uri": "https://localhost:8080/"
        },
        "id": "lS-UNqCK1AhS",
        "outputId": "c7cdf218-615b-49d7-b328-b83aaa4d3127"
      },
      "source": [
        "# Shape\n",
        "df_proba2.iloc[:1000,:].shape"
      ],
      "execution_count": 721,
      "outputs": [
        {
          "output_type": "execute_result",
          "data": {
            "text/plain": [
              "(1000, 26)"
            ]
          },
          "metadata": {},
          "execution_count": 721
        }
      ]
    },
    {
      "cell_type": "markdown",
      "metadata": {
        "id": "_zVBnIiK1M02"
      },
      "source": [
        "* Variables studied"
      ]
    },
    {
      "cell_type": "code",
      "metadata": {
        "colab": {
          "base_uri": "https://localhost:8080/"
        },
        "id": "vssu4bOc1HXn",
        "outputId": "7ba5d672-0613-407a-f250-8e775b53d8b9"
      },
      "source": [
        "# Civility\n",
        "freq_civility = df_proba2.iloc[:1000,:][\"civility\"].astype(str).value_counts(normalize=True)*100\n",
        "freq_civility"
      ],
      "execution_count": 722,
      "outputs": [
        {
          "output_type": "execute_result",
          "data": {
            "text/plain": [
              "3    60.1\n",
              "2    33.2\n",
              "1     6.7\n",
              "Name: civility, dtype: float64"
            ]
          },
          "metadata": {},
          "execution_count": 722
        }
      ]
    },
    {
      "cell_type": "code",
      "metadata": {
        "colab": {
          "base_uri": "https://localhost:8080/"
        },
        "id": "uCDRQbY11UdU",
        "outputId": "c5f97266-d029-4408-fc31-7cd503dfb398"
      },
      "source": [
        "# Card Subscription\n",
        "card = df_proba2.iloc[:1000,:][\"card_subscription_dummy\"].astype(str).value_counts(normalize=True)*100\n",
        "card"
      ],
      "execution_count": 723,
      "outputs": [
        {
          "output_type": "execute_result",
          "data": {
            "text/plain": [
              "0    89.9\n",
              "1    10.1\n",
              "Name: card_subscription_dummy, dtype: float64"
            ]
          },
          "metadata": {},
          "execution_count": 723
        }
      ]
    },
    {
      "cell_type": "code",
      "metadata": {
        "colab": {
          "base_uri": "https://localhost:8080/"
        },
        "id": "PHWVQSb_1bbT",
        "outputId": "31773c32-70aa-4464-ed59-b629c519a58c"
      },
      "source": [
        "# Credit card\n",
        "pay_card = df_proba2.iloc[:1000,:][\"payment_card\"].sum()\n",
        "pay_card"
      ],
      "execution_count": 724,
      "outputs": [
        {
          "output_type": "execute_result",
          "data": {
            "text/plain": [
              "87914"
            ]
          },
          "metadata": {},
          "execution_count": 724
        }
      ]
    },
    {
      "cell_type": "code",
      "metadata": {
        "colab": {
          "base_uri": "https://localhost:8080/"
        },
        "id": "Gb4zLy7S1h6x",
        "outputId": "f056293a-ef38-46ef-de7b-283eab0067a0"
      },
      "source": [
        "# Cash\n",
        "pay_cash = df_proba2.iloc[:1000,:][\"payment_cash\"].sum()\n",
        "pay_cash"
      ],
      "execution_count": 725,
      "outputs": [
        {
          "output_type": "execute_result",
          "data": {
            "text/plain": [
              "41086"
            ]
          },
          "metadata": {},
          "execution_count": 725
        }
      ]
    },
    {
      "cell_type": "code",
      "metadata": {
        "colab": {
          "base_uri": "https://localhost:8080/"
        },
        "id": "7lscr81x1m65",
        "outputId": "5656c9bb-fe7a-4db8-d32d-eeca357e3816"
      },
      "source": [
        "# Cheque\n",
        "pay_cheque = df_proba2.iloc[:1000,:][\"payment_cheque\"].sum()\n",
        "pay_cheque"
      ],
      "execution_count": 726,
      "outputs": [
        {
          "output_type": "execute_result",
          "data": {
            "text/plain": [
              "3689"
            ]
          },
          "metadata": {},
          "execution_count": 726
        }
      ]
    },
    {
      "cell_type": "code",
      "metadata": {
        "colab": {
          "base_uri": "https://localhost:8080/"
        },
        "id": "HwtRnHmN1nXH",
        "outputId": "c92e8b62-b41f-46ea-a29b-5379526002e1"
      },
      "source": [
        "# Gift\n",
        "pay_gift = df_proba2.iloc[:1000,:][\"payment_gift\"].sum()\n",
        "pay_gift"
      ],
      "execution_count": 727,
      "outputs": [
        {
          "output_type": "execute_result",
          "data": {
            "text/plain": [
              "10990"
            ]
          },
          "metadata": {},
          "execution_count": 727
        }
      ]
    }
  ]
}